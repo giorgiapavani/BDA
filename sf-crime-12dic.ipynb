{
 "cells": [
  {
   "cell_type": "markdown",
   "metadata": {},
   "source": [
    "# San Francisco Crime Classification"
   ]
  },
  {
   "cell_type": "markdown",
   "metadata": {},
   "source": [
    "Authors: Chiara Angileri, Livia Del Gaudio, Giorgia Pavani"
   ]
  },
  {
   "cell_type": "markdown",
   "metadata": {},
   "source": [
    "### Import libraries"
   ]
  },
  {
   "cell_type": "code",
   "execution_count": 25,
   "id": "c204a332",
   "metadata": {},
   "outputs": [],
   "source": [
    "import pandas as pd\n",
    "import matplotlib.pyplot as plt\n",
    "import numpy as np\n",
    "\n",
    "from pyspark.sql.functions import *\n",
    "\n",
    "from pyspark.ml.feature import *\n",
    "from pyspark.ml import Pipeline\n",
    "from pyspark.sql.types import DoubleType\n",
    "\n",
    "from pyspark.ml.classification import DecisionTreeClassifier\n"
   ]
  },
  {
   "cell_type": "markdown",
   "id": "4e76c3ee",
   "metadata": {},
   "source": [
    "### Load the data"
   ]
  },
  {
   "cell_type": "code",
   "execution_count": 7,
   "id": "4c33b16a",
   "metadata": {},
   "outputs": [],
   "source": [
    "def load_data(split):\n",
    "    df = spark.read.format(\"csv\")\\\n",
    "                    .option(\"sep\", \",\")\\\n",
    "                    .option(\"header\", \"True\")\\\n",
    "                    .option(\"inferSchema\", \"True\")\\\n",
    "                    .option(\"path\",f\"bigdata/Project/dataset/{split}.csv\").load()\n",
    "    return df"
   ]
  },
  {
   "cell_type": "code",
   "execution_count": 31,
   "id": "aed0c5c9",
   "metadata": {},
   "outputs": [
    {
     "name": "stderr",
     "output_type": "stream",
     "text": [
      "                                                                                \r"
     ]
    }
   ],
   "source": [
    "sfcrime_train = load_data(\"train\")\n",
    "sfcrime_test = load_data(\"test\")"
   ]
  },
  {
   "cell_type": "code",
   "execution_count": 49,
   "id": "d8d97121-2201-4e26-a4e5-ce809b94dfe6",
   "metadata": {},
   "outputs": [
    {
     "name": "stderr",
     "output_type": "stream",
     "text": [
      "                                                                                \r"
     ]
    }
   ],
   "source": [
    "'''sfcrime = spark.read.format(\"csv\")\\\n",
    "                    .option(\"sep\", \",\")\\\n",
    "                    .option(\"header\", \"True\")\\\n",
    "                    .option(\"inferSchema\", \"True\")\\\n",
    "                    .option(\"path\",\"bigdata/dataset/train.csv\").load()'''\n",
    "                    \n",
    "#TODO scaricare anche test set e fare una funzione unica per preprocessing di entrambi i dataset \n",
    "# -> lo split che usiamo ora sul train può diventare train-val split"
   ]
  },
  {
   "cell_type": "code",
   "execution_count": 9,
   "id": "15fdb43a",
   "metadata": {},
   "outputs": [
    {
     "name": "stdout",
     "output_type": "stream",
     "text": [
      "root\n",
      " |-- Dates: timestamp (nullable = true)\n",
      " |-- Category: string (nullable = true)\n",
      " |-- Descript: string (nullable = true)\n",
      " |-- DayOfWeek: string (nullable = true)\n",
      " |-- PdDistrict: string (nullable = true)\n",
      " |-- Resolution: string (nullable = true)\n",
      " |-- Address: string (nullable = true)\n",
      " |-- X: double (nullable = true)\n",
      " |-- Y: double (nullable = true)\n",
      "\n"
     ]
    }
   ],
   "source": [
    "sfcrime_train.printSchema()"
   ]
  },
  {
   "cell_type": "code",
   "execution_count": 10,
   "id": "0009e521",
   "metadata": {},
   "outputs": [
    {
     "name": "stdout",
     "output_type": "stream",
     "text": [
      "+-------------------+--------------+--------------------+---------+----------+--------------+--------------------+-------------------+------------------+\n",
      "|              Dates|      Category|            Descript|DayOfWeek|PdDistrict|    Resolution|             Address|                  X|                 Y|\n",
      "+-------------------+--------------+--------------------+---------+----------+--------------+--------------------+-------------------+------------------+\n",
      "|2015-05-13 23:53:00|      WARRANTS|      WARRANT ARREST|Wednesday|  NORTHERN|ARREST, BOOKED|  OAK ST / LAGUNA ST|  -122.425891675136|  37.7745985956747|\n",
      "|2015-05-13 23:53:00|OTHER OFFENSES|TRAFFIC VIOLATION...|Wednesday|  NORTHERN|ARREST, BOOKED|  OAK ST / LAGUNA ST|  -122.425891675136|  37.7745985956747|\n",
      "|2015-05-13 23:33:00|OTHER OFFENSES|TRAFFIC VIOLATION...|Wednesday|  NORTHERN|ARREST, BOOKED|VANNESS AV / GREE...|   -122.42436302145|  37.8004143219856|\n",
      "|2015-05-13 23:30:00| LARCENY/THEFT|GRAND THEFT FROM ...|Wednesday|  NORTHERN|          NONE|1500 Block of LOM...|-122.42699532676599| 37.80087263276921|\n",
      "|2015-05-13 23:30:00| LARCENY/THEFT|GRAND THEFT FROM ...|Wednesday|      PARK|          NONE|100 Block of BROD...|  -122.438737622757|37.771541172057795|\n",
      "+-------------------+--------------+--------------------+---------+----------+--------------+--------------------+-------------------+------------------+\n",
      "only showing top 5 rows\n",
      "\n"
     ]
    }
   ],
   "source": [
    "# Visualize the data\n",
    "sfcrime_train.show(5)"
   ]
  },
  {
   "cell_type": "markdown",
   "id": "486b937b",
   "metadata": {},
   "source": [
    "### Data Preprocessing"
   ]
  },
  {
   "cell_type": "markdown",
   "id": "40234f19",
   "metadata": {},
   "source": [
    "Steps done in preprocessing:\n",
    "- feature extraction\n",
    "- drop duplicate rows\n",
    "- null removal\n",
    "- outliers removal"
   ]
  },
  {
   "cell_type": "code",
   "execution_count": 12,
   "id": "19266446",
   "metadata": {},
   "outputs": [],
   "source": [
    "def preprocess_data(df, split):  \n",
    "    # Extract features from date \n",
    "    df = df.withColumn('Hour', hour(\"Dates\"))\\\n",
    "            .withColumn('Month', month(\"Dates\"))\\\n",
    "            .withColumn('Year', year(\"Dates\"))\n",
    "\n",
    "    # Drop duplicate rows\n",
    "    prev_count = df.count()\n",
    "    df = df.dropDuplicates()\n",
    "    print(f\"Number of duplicated rows in the {split} split: \", prev_count - df.count())\n",
    "\n",
    "    # Nulls removal\n",
    "    df.na.drop()\n",
    "\n",
    "    # TODO: geopandas \n",
    "\n",
    "    # Outliers removal\n",
    "    prev_count = df.count()\n",
    "    df = df.where((df.X < -122) & (df.X > -123) & (df.Y < 38) & (df.Y > 37))\n",
    "    print(f\"Number of outliers in the {split} split: \", prev_count - df.count())\n",
    "        \n",
    "    # Normalize X, Y coordinates \n",
    "    for i in [\"X\",\"Y\"]:\n",
    "        assembler = VectorAssembler(inputCols=[i],outputCol=i+\"_Vect\")\n",
    "        scaler = MinMaxScaler(inputCol=i+\"_Vect\", outputCol=i+\"_Scaled\")\n",
    "        pipeline = Pipeline(stages=[assembler, scaler])\n",
    "        df = pipeline.fit(df).transform(df)\n",
    "\n",
    "    # Drop unused columns\n",
    "    df = df.drop(\"Dates\")\n",
    "    df = df.drop(\"X_Vect\",\"Y_Vect\", \"X\", \"Y\")\n",
    "\n",
    "    return df    "
   ]
  },
  {
   "cell_type": "code",
   "execution_count": 32,
   "id": "4b2843d2",
   "metadata": {},
   "outputs": [
    {
     "name": "stderr",
     "output_type": "stream",
     "text": [
      "                                                                                \r"
     ]
    },
    {
     "name": "stdout",
     "output_type": "stream",
     "text": [
      "Number of duplicated rows in the train split:  2323\n"
     ]
    },
    {
     "name": "stderr",
     "output_type": "stream",
     "text": [
      "                                                                                \r"
     ]
    },
    {
     "name": "stdout",
     "output_type": "stream",
     "text": [
      "Number of outliers in the train split:  67\n"
     ]
    },
    {
     "name": "stderr",
     "output_type": "stream",
     "text": [
      "                                                                                \r"
     ]
    },
    {
     "name": "stdout",
     "output_type": "stream",
     "text": [
      "Number of duplicated rows in the test split:  0\n"
     ]
    },
    {
     "name": "stderr",
     "output_type": "stream",
     "text": [
      "                                                                                \r"
     ]
    },
    {
     "name": "stdout",
     "output_type": "stream",
     "text": [
      "Number of outliers in the test split:  76\n"
     ]
    },
    {
     "name": "stderr",
     "output_type": "stream",
     "text": [
      "                                                                                \r"
     ]
    }
   ],
   "source": [
    "sfcrime_train = preprocess_data(sfcrime_train, \"train\")\n",
    "sfcrime_test = preprocess_data(sfcrime_test, \"test\")"
   ]
  },
  {
   "cell_type": "code",
   "execution_count": 16,
   "id": "64910a2c",
   "metadata": {},
   "outputs": [
    {
     "name": "stderr",
     "output_type": "stream",
     "text": [
      "[Stage 98:>                                                         (0 + 1) / 1]\r"
     ]
    },
    {
     "name": "stdout",
     "output_type": "stream",
     "text": [
      "+--------------+--------------------+---------+----------+--------------+--------------------+----+-----+----+--------------------+--------------------+\n",
      "|      Category|            Descript|DayOfWeek|PdDistrict|    Resolution|             Address|Hour|Month|Year|            X_Scaled|            Y_Scaled|\n",
      "+--------------+--------------------+---------+----------+--------------+--------------------+----+-----+----+--------------------+--------------------+\n",
      "|      BURGLARY|BURGLARY, UNLAWFU...|Wednesday|  NORTHERN|          NONE|2300 Block of FIL...|  13|    5|2015|[0.5331389416346913]|[0.7428616292488223]|\n",
      "| VEHICLE THEFT|   STOLEN AUTOMOBILE|  Tuesday| INGLESIDE|          NONE|ALEMANY BL / ONON...|  21|    5|2015|[0.5043534508595877]|[0.12263853306963...|\n",
      "| LARCENY/THEFT|GRAND THEFT FROM ...|   Monday|  NORTHERN|          NONE|   BUSH ST / POLK ST|  21|    5|2015|[0.6276519170675439]|[0.7209854943264132]|\n",
      "| LARCENY/THEFT|GRAND THEFT SHOPL...|   Monday|  SOUTHERN|          NONE|700 Block of MARK...|  19|    5|2015| [0.737858397882899]|[0.7068650434402454]|\n",
      "|OTHER OFFENSES|VIOLATION OF MUNI...|   Sunday|TENDERLOIN|ARREST, BOOKED|200 Block of POWE...|   8|    5|2015|[0.7090596266617248]|[0.7048026488194198]|\n",
      "+--------------+--------------------+---------+----------+--------------+--------------------+----+-----+----+--------------------+--------------------+\n",
      "only showing top 5 rows\n",
      "\n"
     ]
    },
    {
     "name": "stderr",
     "output_type": "stream",
     "text": [
      "                                                                                \r"
     ]
    }
   ],
   "source": [
    "sfcrime_train.show(5)"
   ]
  },
  {
   "cell_type": "code",
   "execution_count": 52,
   "id": "96659f09",
   "metadata": {},
   "outputs": [],
   "source": [
    "# feature extraction and pruning:\n",
    "# 1. extract the hour of the day from the timestamp\n",
    "# 2. extract the month from the timestamp\n",
    "# 3. extract the year from the timestamp\n",
    "# 4. drop the 'Dates' column\n",
    "\n",
    "\n",
    "'''sfcrime = sfcrime.withColumn('Hour', hour(\"Dates\"))\n",
    "sfcrime = sfcrime.withColumn('Month', month(\"Dates\"))\n",
    "sfcrime = sfcrime.withColumn('Year', year(\"Dates\"))\n",
    "'''\n",
    "\n",
    "'''sfcrime = sfcrime.drop(\"Dates\")'''\n",
    "\n",
    "# drop duplicate rows\n",
    "'''prev_count = sfcrime.count()\n",
    "sfcrime = sfcrime.dropDuplicates()\n",
    "print(\"Number of duplicated rows: \", prev_count - sfcrime.count())'''\n",
    "\n",
    "\n",
    "# nulls removal\n",
    "'''sfcrime.na.drop()\n",
    "print('Total number of records:', sfcrime.count())'''\n",
    "\n",
    "'''prev_count = sfcrime.count()\n",
    "sfcrime = sfcrime.where((sfcrime.X < -122) & (sfcrime.X > -123) & (sfcrime.Y < 38) & (sfcrime.Y > 37))\n",
    "print(\"Number of outliers: \", prev_count - sfcrime.count())'''\n",
    "\n",
    "'''\n",
    "\n",
    "# UDF for converting column type from vector to double type\n",
    "unlist = udf(lambda x: round(float(list(x)[0]),3), DoubleType())\n",
    "\n",
    "for i in [\"X\",\"Y\"]:\n",
    "    # VectorAssembler Transformation - Converting column to vector type\n",
    "    assembler = VectorAssembler(inputCols=[i],outputCol=i+\"_Vect\")\n",
    "\n",
    "    # MinMaxScaler Transformation\n",
    "    scaler = MinMaxScaler(inputCol=i+\"_Vect\", outputCol=i+\"_Scaled\")\n",
    "\n",
    "    # Pipeline of VectorAssembler and MinMaxScaler\n",
    "    pipeline = Pipeline(stages=[assembler, scaler])\n",
    "\n",
    "    # Fitting pipeline on dataframe\n",
    "    sfcrime = pipeline.fit(sfcrime).transform(sfcrime)\n",
    "\n",
    "sfcrime = sfcrime.drop(\"X_Vect\",\"Y_Vect\", \"X\", \"Y\")\n",
    "sfcrime.show()'''\n",
    "\n",
    "'''sfcrime = sfcrime.drop(\"X_Vect\",\"Y_Vect\", \"X\", \"Y\")\n",
    "sfcrime.show()'''"
   ]
  },
  {
   "cell_type": "code",
   "execution_count": 55,
   "id": "d10d75ab",
   "metadata": {},
   "outputs": [
    {
     "name": "stderr",
     "output_type": "stream",
     "text": [
      "                                                                                \r"
     ]
    },
    {
     "data": {
      "text/plain": [
       "'\\n!pip3 install geopandas\\nimport geopandas as gpd\\nfrom shapely.geometry import Point\\nfrom geopandas import GeoDataFrame\\nimport matplotlib.pyplot as plt\\n'"
      ]
     },
     "execution_count": 55,
     "metadata": {},
     "output_type": "execute_result"
    }
   ],
   "source": [
    "'''\n",
    "!pip3 install geopandas\n",
    "import geopandas as gpd\n",
    "from shapely.geometry import Point\n",
    "from geopandas import GeoDataFrame\n",
    "import matplotlib.pyplot as plt\n",
    "'''\n",
    "\n",
    "# Outliers : https://www.kaggle.com/code/bananawolf/random-forest-knn-logistic-regression\n",
    "\n",
    "'''\n",
    "sfcrime_pd = sfcrime.toPandas()\n",
    "\n",
    "geometry = [Point(xy) for xy in zip(sfcrime_pd['X'], sfcrime_pd['Y'])]\n",
    "gdf = GeoDataFrame(sfcrime_pd, geometry=geometry)\n",
    "\n",
    "world = gpd.read_file(gpd.datasets.get_path('naturalearth_lowres'))\n",
    "gdf.plot(ax=world.plot(), marker='o', color='red')\n",
    "plt.show()\n",
    "'''"
   ]
  },
  {
   "cell_type": "markdown",
   "id": "a2600010",
   "metadata": {},
   "source": [
    "From the previous image, we can observe that there are some erroneus coordinates that do not refer to San Francisco geographic coordinates. They may be due to mislabelling errors, and we consider them as outliers, therefore we remove them from the dataset. "
   ]
  },
  {
   "cell_type": "markdown",
   "id": "edcef911",
   "metadata": {},
   "source": [
    "## Dataset requirements (probabilmente mettere dopo l'analisi ecc..)"
   ]
  },
  {
   "cell_type": "code",
   "execution_count": 60,
   "id": "ac8d69a5",
   "metadata": {},
   "outputs": [],
   "source": [
    "# number of features\n",
    "#TODO"
   ]
  },
  {
   "cell_type": "code",
   "execution_count": 17,
   "id": "ce5a157e",
   "metadata": {},
   "outputs": [
    {
     "name": "stderr",
     "output_type": "stream",
     "text": [
      "[Stage 101:>                                                        (0 + 8) / 9]\r"
     ]
    },
    {
     "name": "stdout",
     "output_type": "stream",
     "text": [
      "Total number of records:  875659\n"
     ]
    },
    {
     "name": "stderr",
     "output_type": "stream",
     "text": [
      "                                                                                \r"
     ]
    }
   ],
   "source": [
    "# total number of patterns\n",
    "print('Total number of records: ', sfcrime_train.count())"
   ]
  },
  {
   "cell_type": "code",
   "execution_count": 62,
   "id": "e5073cc4",
   "metadata": {},
   "outputs": [
    {
     "name": "stderr",
     "output_type": "stream",
     "text": [
      "                                                                                \r"
     ]
    }
   ],
   "source": [
    "#TODO: fare prodotto?"
   ]
  },
  {
   "cell_type": "markdown",
   "id": "2c0c7462",
   "metadata": {},
   "source": [
    "## Dataset inspection"
   ]
  },
  {
   "cell_type": "code",
   "execution_count": 35,
   "id": "9562948c",
   "metadata": {},
   "outputs": [],
   "source": [
    "plot = True\n",
    "if plot:\n",
    "    sfcrime_train_pd = sfcrime_train.toPandas().copy()\n",
    "    \n",
    "    # Select the top 10 crimes and group the rest into 'Other crimes'\n",
    "    top10 = sfcrime_train_pd['Category'].value_counts().head(10).index.tolist()\n",
    "    sfcrime_train_top_10 = sfcrime_train_pd.loc[~sfcrime_train_pd['Category'].isin(top10), 'Category'] = 'Other crimes'\n"
   ]
  },
  {
   "cell_type": "markdown",
   "id": "d0358fde",
   "metadata": {},
   "source": [
    "### Distribution of crimes"
   ]
  },
  {
   "cell_type": "code",
   "execution_count": 36,
   "id": "ffa9485e",
   "metadata": {},
   "outputs": [
    {
     "name": "stderr",
     "output_type": "stream",
     "text": [
      "                                                                                \r"
     ]
    },
    {
     "data": {
      "image/png": "[encoded data removed]",
      "text/plain": [
       "<Figure size 2000x1000 with 1 Axes>"
      ]
     },
     "metadata": {},
     "output_type": "display_data"
    }
   ],
   "source": [
    "def crime_distribution(df, plot = True):\n",
    "    if plot:\n",
    "        df.groupBy(\"Category\").count().orderBy(\"count\", ascending=False).toPandas().plot(kind='bar', x='Category', y='count', log=True, figsize=(20,10))\n",
    "        plt.title('Distribution of crimes')\n",
    "        plt.show()\n",
    "\n",
    "crime_distribution(sfcrime_train, plot = plot)    "
   ]
  },
  {
   "cell_type": "markdown",
   "id": "88624803",
   "metadata": {},
   "source": [
    "### Distributions of crimes among districts"
   ]
  },
  {
   "cell_type": "code",
   "execution_count": 39,
   "id": "d19e0e22",
   "metadata": {},
   "outputs": [
    {
     "name": "stderr",
     "output_type": "stream",
     "text": [
      "                                                                                \r"
     ]
    },
    {
     "data": {
      "image/png": "[encoded data removed]",
      "text/plain": [
       "<Figure size 1000x500 with 1 Axes>"
      ]
     },
     "metadata": {},
     "output_type": "display_data"
    },
    {
     "name": "stderr",
     "output_type": "stream",
     "text": [
      "                                                                                \r"
     ]
    },
    {
     "data": {
      "image/png": "[encoded data removed]",
      "text/plain": [
       "<Figure size 1200x800 with 1 Axes>"
      ]
     },
     "metadata": {},
     "output_type": "display_data"
    }
   ],
   "source": [
    "def crime_distribution_among_districts(df, df_copy_top_10, plot = True):\n",
    "    if plot:\n",
    "        df.groupBy(\"PdDistrict\").count().orderBy(\"count\", ascending=False).toPandas().plot(kind='bar', x='PdDistrict', y='count', figsize=(10,5))\n",
    "        plt.title('Distribution of crimes among districts')\n",
    "        plt.xlabel('Districts')\n",
    "        plt.show()\n",
    "        \n",
    "        # Analyze the different categories of crimes per district\n",
    "        df_copy_top_10.groupby(['PdDistrict','Category'])\\\n",
    "                    .agg({'Resolution':'count'})\\\n",
    "                    .pivot_table(index='PdDistrict',columns='Category')['Resolution']\\\n",
    "                    .plot(kind='bar',stacked=True,figsize=(12,8))\n",
    "        plt.title('Distribution of crimes among districts')\n",
    "\n",
    "crime_distribution_among_districts(sfcrime_train, sfcrime_train_top_10, plot = plot)"
   ]
  },
  {
   "cell_type": "markdown",
   "id": "030c7c40",
   "metadata": {},
   "source": [
    "### Distribution of crimes among years"
   ]
  },
  {
   "cell_type": "code",
   "execution_count": null,
   "id": "f8ac43d6",
   "metadata": {},
   "outputs": [],
   "source": [
    "def crime_distribution_among_years(df_copy_top_10, plot = True):\n",
    "    if plot:\n",
    "        df_copy_top_10.groupby(['Year','Category'])\\\n",
    "                        .agg({'Resolution':'count'})\\\n",
    "                        .pivot_table(index='Year',columns='Category')['Resolution']\\\n",
    "                        .plot(kind='bar',stacked=True,figsize=(12,8))\n",
    "\n",
    "        plt.title('Distribution of crimes among years')\n",
    "        plt.show()\n",
    "\n",
    "crime_distribution_among_years(sfcrime_train_top_10, plot = plot)"
   ]
  },
  {
   "cell_type": "markdown",
   "id": "dae7123d",
   "metadata": {},
   "source": [
    "In 2015 there is a drop in the number of crimes because the dataset contains the crimes until may 2015. We drop all the records where year is 2015"
   ]
  },
  {
   "cell_type": "markdown",
   "id": "e4336b9e",
   "metadata": {},
   "source": [
    "### Distribution of crimes among hours"
   ]
  },
  {
   "cell_type": "code",
   "execution_count": 42,
   "id": "930870bd",
   "metadata": {},
   "outputs": [
    {
     "name": "stderr",
     "output_type": "stream",
     "text": [
      "                                                                                \r"
     ]
    },
    {
     "data": {
      "image/png": "[encoded data removed]",
      "text/plain": [
       "<Figure size 1000x500 with 1 Axes>"
      ]
     },
     "metadata": {},
     "output_type": "display_data"
    }
   ],
   "source": [
    "def crime_distribution_among_hours(df, plot = True):\n",
    "    if plot:\n",
    "        df.groupBy(\"Hour\").count().orderBy(\"hour\", ascending=True).toPandas().plot(kind='bar', x='Hour', y='count', figsize=(10,5))\n",
    "        plt.title('Distribution of crimes among hours')\n",
    "        plt.xlabel('Hours')\n",
    "        plt.show()\n",
    "\n",
    "crime_distribution_among_hours(sfcrime_train, plot = plot)"
   ]
  },
  {
   "cell_type": "markdown",
   "id": "2bd08d70",
   "metadata": {},
   "source": [
    "### Distribution of crimes among days"
   ]
  },
  {
   "cell_type": "code",
   "execution_count": 43,
   "id": "afb4fe80",
   "metadata": {},
   "outputs": [
    {
     "name": "stderr",
     "output_type": "stream",
     "text": [
      "                                                                                \r"
     ]
    },
    {
     "data": {
      "image/png": "[encoded data removed]",
      "text/plain": [
       "<Figure size 1000x500 with 1 Axes>"
      ]
     },
     "metadata": {},
     "output_type": "display_data"
    }
   ],
   "source": [
    "def crime_distribution_among_days(df, plot = True):\n",
    "    if plot:\n",
    "        df.groupBy('DayOfWeek').count().orderBy('count', ascending=False).toPandas().plot(kind='bar', x='DayOfWeek', y='count', figsize=(10, 5))\n",
    "        plt.title('Distribution of crimes among days')\n",
    "        plt.xlabel('Days')\n",
    "        plt.show()\n",
    "\n",
    "crime_distribution_among_days(sfcrime_train, plot = plot)"
   ]
  },
  {
   "cell_type": "markdown",
   "id": "ef62ea8a",
   "metadata": {},
   "source": [
    "### Trends of crimes during the week"
   ]
  },
  {
   "cell_type": "code",
   "execution_count": 51,
   "id": "992839aa",
   "metadata": {},
   "outputs": [],
   "source": [
    "def weekly_trend(df, category):\n",
    "    sfcrime_category = df[df['Category']==category]\n",
    "    sfcrime_category.groupby(['DayOfWeek','Category'])\\\n",
    "                .agg({'Resolution':'count'})\\\n",
    "                .pivot_table(index='DayOfWeek',columns='Category')['Resolution']\\\n",
    "                .reindex(['Monday','Tuesday','Wednesday','Thursday','Friday','Saturday','Sunday'])\\\n",
    "                .plot(kind='line',figsize=(8,5))\n",
    "    plt.title('Weekly trend of the category: ' + category)\n",
    "    plt.xlabel('Day of the week')\n",
    "    plt.ylabel('Count')\n",
    "    plt.show()\n",
    "\n",
    "\n",
    "def plot_trend(df, category, plot = True):\n",
    "    if plot:        \n",
    "        weekly_trend(df, category)"
   ]
  },
  {
   "cell_type": "code",
   "execution_count": null,
   "id": "f5896b81",
   "metadata": {},
   "outputs": [],
   "source": [
    "plot_trend(sfcrime_train_pd, 'DRUG/NARCOTIC', plot = plot)"
   ]
  },
  {
   "cell_type": "code",
   "execution_count": null,
   "id": "2818452d",
   "metadata": {},
   "outputs": [],
   "source": [
    "plot_trend(sfcrime_train_pd, 'DRIVING UNDER THE INFLUENCE', plot = plot)"
   ]
  },
  {
   "cell_type": "code",
   "execution_count": null,
   "id": "20951475",
   "metadata": {},
   "outputs": [],
   "source": [
    "plot_trend(sfcrime_train_pd, 'ASSAULT', plot = plot)"
   ]
  },
  {
   "cell_type": "code",
   "execution_count": null,
   "id": "51550f56",
   "metadata": {},
   "outputs": [],
   "source": [
    "plot_trend(sfcrime_train_pd, 'SUICIDE', plot = plot)"
   ]
  },
  {
   "cell_type": "code",
   "execution_count": null,
   "id": "c26d5eb5",
   "metadata": {},
   "outputs": [],
   "source": [
    "plot_trend(sfcrime_train_pd, 'SUSPICIOUS OCC', plot = plot)"
   ]
  },
  {
   "cell_type": "markdown",
   "id": "2c16feed",
   "metadata": {},
   "source": [
    "### Distribution of crimes among different addresses --- CHECK"
   ]
  },
  {
   "cell_type": "code",
   "execution_count": null,
   "id": "6c9e92c2",
   "metadata": {},
   "outputs": [],
   "source": [
    "def crime_distribution_among_addresses(df, plot = True):\n",
    "    if plot:\n",
    "        # sfcrime_copy_top_10['Address'].value_counts().head(10).plot(kind='bar',figsize=(10,6))\n",
    "        df['Address'].value_counts().head(10).plot(kind='bar',figsize=(10,6))\n",
    "        plt.title('Distribution of crimes among addresses')\n",
    "        plt.xlabel('Days')\n",
    "        plt.show()\n",
    "\n",
    "crime_distribution_among_addresses(sfcrime_train, plot = plot)"
   ]
  },
  {
   "cell_type": "markdown",
   "id": "cb8a84de",
   "metadata": {},
   "source": [
    "TODO: possiamo vedere che la maggior parte hanno la parola block quindi magari è importante ecc.. e si puo aggiungere come feauture togliendo l'address..........."
   ]
  },
  {
   "cell_type": "markdown",
   "id": "ec657081",
   "metadata": {},
   "source": [
    "### How the crimes have been resolved? --- TODO"
   ]
  },
  {
   "cell_type": "code",
   "execution_count": null,
   "id": "6a4e0480",
   "metadata": {},
   "outputs": [],
   "source": [
    "# hist come vengono risolti + \n",
    "\n",
    "#vedere quanti sono i valori unici di resolution e decidere se fare to categorical o meno\n",
    "sfcrime_train.select(countDistinct(\"Resolution\")).show()"
   ]
  },
  {
   "cell_type": "markdown",
   "id": "cfaa2b9f",
   "metadata": {},
   "source": [
    "## Re-process the dataset after having inspected it:\n",
    "- transform to categorical le colonne.......\n",
    "- extract blocl feature ...\n",
    "- tokenize descript...\n",
    "- drop le altre colimns"
   ]
  },
  {
   "cell_type": "code",
   "execution_count": 20,
   "id": "a453da06",
   "metadata": {},
   "outputs": [],
   "source": [
    "def process_data_after_inspection(df):\n",
    "\n",
    "    # Transform columns to categorical\n",
    "    indexer = StringIndexer(inputCol=\"PdDistrict\", outputCol=\"PdDistrict_cat\")\n",
    "    df = indexer.fit(df).transform(df)\n",
    "\n",
    "    indexer = StringIndexer(inputCol=\"Category\", outputCol=\"Category_cat\")\n",
    "    df = indexer.fit(df).transform(df)\n",
    "\n",
    "    indexer = StringIndexer(inputCol=\"DayOfWeek\", outputCol=\"DayOfWeek_cat\")\n",
    "    df = indexer.fit(df).transform(df)\n",
    "\n",
    "    indexer = StringIndexer(inputCol=\"Resolution\", outputCol=\"Resolution_cat\")\n",
    "    df = indexer.fit(df).transform(df)\n",
    "\n",
    "    # Preprocess Descript column with tokenizer\n",
    "    tokenizer = Tokenizer(inputCol=\"Descript\", outputCol=\"Descript_token\")\n",
    "    df = tokenizer.transform(df)\n",
    "\n",
    "    # Transform the 'description_token' column with count vector\n",
    "    vectorizer = CountVectorizer(inputCol=\"Descript_token\", outputCol=\"Descript_vec\")\n",
    "    model = vectorizer.fit(df)\n",
    "    df = model.transform(df)\n",
    "\n",
    "    # Drop no more needed columns\n",
    "    df = df.drop(\"PdDistrict\")\\\n",
    "            .drop(\"Category\")\\\n",
    "            .drop(\"DayOfWeek\")\\\n",
    "            .drop(\"Resolution\")\\\n",
    "            .drop(\"Descript\")\\\n",
    "            .drop(\"Descript_token\")\n",
    "    \n",
    "\n",
    "    # Block feature extraction: 1 if block present, 0 otherwise\n",
    "    df = df.withColumn('Block', when(df.Address.like(\"%Block%\") , lit(1)).otherwise(lit(0)))\n",
    "\n",
    "    # Drop the 'address' column since we already have (x, y) coordinates and the block feature\n",
    "    df = df.drop(\"Address\")\n",
    "    \n",
    "    return df"
   ]
  },
  {
   "cell_type": "code",
   "execution_count": 90,
   "id": "03a9cdea",
   "metadata": {},
   "outputs": [
    {
     "name": "stderr",
     "output_type": "stream",
     "text": [
      "                                                                                \r"
     ]
    }
   ],
   "source": [
    "#TODO provare a guardare anche i giorni del mese ed eventualmente fare colonna binaria con holiday"
   ]
  },
  {
   "cell_type": "code",
   "execution_count": 21,
   "id": "19ad72dc",
   "metadata": {},
   "outputs": [
    {
     "name": "stderr",
     "output_type": "stream",
     "text": [
      "[Stage 136:============================>                            (4 + 4) / 8]\r"
     ]
    },
    {
     "name": "stdout",
     "output_type": "stream",
     "text": [
      "+--------------------+----+-----+----+--------------------+--------------------+--------------+------------+-------------+--------------+--------------------+\n",
      "|             Address|Hour|Month|Year|            X_Scaled|            Y_Scaled|PdDistrict_cat|Category_cat|DayOfWeek_cat|Resolution_cat|        Descript_vec|\n",
      "+--------------------+----+-----+----+--------------------+--------------------+--------------+------------+-------------+--------------+--------------------+\n",
      "|2300 Block of FIL...|  13|    5|2015|[0.5331389416346913]|[0.7428616292488223]|           2.0|         8.0|          1.0|           0.0|(1086,[17,40,77],...|\n",
      "|ALEMANY BL / ONON...|  21|    5|2015|[0.5043534508595877]|[0.12263853306963...|           6.0|         5.0|          4.0|           0.0|(1086,[10,24],[1....|\n",
      "|   BUSH ST / POLK ST|  21|    5|2015|[0.6276519170675439]|[0.7209854943264132]|           2.0|         0.0|          5.0|           0.0|(1086,[0,2,3,4,5]...|\n",
      "|700 Block of MARK...|  19|    5|2015| [0.737858397882899]|[0.7068650434402454]|           0.0|         0.0|          5.0|           0.0|(1086,[0,3,62],[1...|\n",
      "|200 Block of POWE...|   8|    5|2015|[0.7090596266617248]|[0.7048026488194198]|           5.0|         1.0|          6.0|           1.0|(1086,[1,12,130,1...|\n",
      "|2600 Block of LOM...|  23|    5|2015| [0.458996124373442]| [0.809719378294671]|           2.0|         0.0|          0.0|           0.0|(1086,[0,1,6,7],[...|\n",
      "|TARAVAL ST / 41ST AV|  20|    5|2015|[0.0967150424003444]|[0.30444910260661...|           7.0|         0.0|          0.0|           0.0|(1086,[0,1,6,7],[...|\n",
      "|2800 Block of 25T...|  13|    5|2015|[0.7193733690963859]|[0.3881863507025109]|           1.0|        10.0|          0.0|           0.0|(1086,[49,73],[1....|\n",
      "|800 Block of CAPP ST|  11|    5|2015|[0.6465344957672168]|[0.4032745102720747]|           1.0|        10.0|          0.0|           0.0|(1086,[49,73],[1....|\n",
      "|700 Block of LARK...|  21|    4|2015|[0.6436935541915166]|[0.6873588340334968]|           2.0|         4.0|          3.0|           1.0|(1086,[1,9,43,55]...|\n",
      "|1500 Block of VAN...|  15|    4|2015|[0.6158474746046764]|[0.7318783468905502]|           2.0|        16.0|          3.0|           1.0|(1086,[1,44,96,11...|\n",
      "|2500 Block of BRY...|  23|    4|2015|[0.7018476654189181]|[0.40769561427042...|           1.0|         5.0|          1.0|           0.0|(1086,[10,24],[1....|\n",
      "|400 Block of PACI...|  10|    4|2015|[0.7474551489442504]|[0.7995229255804861]|           4.0|         7.0|          4.0|           1.0|(1086,[15,29],[1....|\n",
      "|500 Block of PACI...|  15|    4|2015|[0.7324834441751238]|[0.7970171306585154]|           4.0|         6.0|          5.0|           0.0|(1086,[13,14,18],...|\n",
      "|FRANKLIN ST / TUR...|  22|    4|2015|[0.6144063798509132]|[0.6590203460587378]|           2.0|         0.0|          6.0|           0.0|(1086,[0,2,3,4,5]...|\n",
      "|2900 Block of 16T...|  20|    4|2015|[0.6384603184214707]|[0.5110412362729748]|           1.0|         2.0|          6.0|           0.0|(1086,[189,192,25...|\n",
      "|GOLDEN GATE AV / ...|  19|    4|2015|[0.6949923896357516]|[0.6632819451618103]|           0.0|         0.0|          6.0|           0.0|(1086,[0,2,3,4,5]...|\n",
      "|  0 Block of 12TH ST|  23|    4|2015|[0.6297091420510206]|[0.5907040100684287]|           0.0|         0.0|          2.0|           0.0|(1086,[0,1,6,7],[...|\n",
      "|THE EMBARCADERONO...|  17|    4|2015|[0.7267899791336221]|[0.8808317584506759]|           4.0|         0.0|          2.0|           0.0|(1086,[0,2,3,4,5]...|\n",
      "|300 Block of TOWN...|  16|    4|2015|  [0.79000938298061]|[0.6097770339015954]|           0.0|         1.0|          2.0|           2.0|(1086,[11,22,25,2...|\n",
      "+--------------------+----+-----+----+--------------------+--------------------+--------------+------------+-------------+--------------+--------------------+\n",
      "only showing top 20 rows\n",
      "\n"
     ]
    },
    {
     "name": "stderr",
     "output_type": "stream",
     "text": [
      "                                                                                \r"
     ]
    }
   ],
   "source": [
    "sfcrime_train = process_data_after_inspection(sfcrime_train)\n",
    "sfcrime_train.show()"
   ]
  },
  {
   "cell_type": "markdown",
   "id": "d175183a",
   "metadata": {},
   "source": [
    "## Models \n",
    "Exam:\n",
    "- KNN \n",
    "- XGB classifier \n",
    "- Decision tree\n",
    "- Random forest\n",
    "- Bayesian \n",
    "\n",
    "PW:\n"
   ]
  },
  {
   "cell_type": "code",
   "execution_count": 92,
   "id": "3b1359ae",
   "metadata": {},
   "outputs": [
    {
     "name": "stdout",
     "output_type": "stream",
     "text": [
      "root\n",
      " |-- Hour: integer (nullable = true)\n",
      " |-- Month: integer (nullable = true)\n",
      " |-- Year: integer (nullable = true)\n",
      " |-- X_Scaled: vector (nullable = true)\n",
      " |-- Y_Scaled: vector (nullable = true)\n",
      " |-- Block: integer (nullable = false)\n",
      " |-- PdDistrict_cat: double (nullable = false)\n",
      " |-- Category_cat: double (nullable = false)\n",
      " |-- DayOfWeek_cat: double (nullable = false)\n",
      " |-- Resolution_cat: double (nullable = false)\n",
      " |-- Descript_vec: vector (nullable = true)\n",
      " |-- features: vector (nullable = true)\n",
      " |-- label: double (nullable = false)\n",
      "\n"
     ]
    }
   ],
   "source": [
    "rf = RFormula(formula=\"Category_cat ~ .\")\n",
    "rf_fit = rf.fit(sfcrime_train)\n",
    "rf_transformed = rf_fit.transform(sfcrime_train)\n",
    "rf_transformed.printSchema()\n",
    "\n",
    "sfcrime_train = rf_transformed.selectExpr(\"features\", \"label\")"
   ]
  },
  {
   "cell_type": "code",
   "execution_count": 93,
   "id": "959e1eaa",
   "metadata": {},
   "outputs": [
    {
     "name": "stderr",
     "output_type": "stream",
     "text": [
      "[Stage 380:============================>                            (2 + 2) / 4]\r"
     ]
    },
    {
     "data": {
      "text/plain": [
       "4"
      ]
     },
     "execution_count": 93,
     "metadata": {},
     "output_type": "execute_result"
    }
   ],
   "source": [
    "sfcrime_train.rdd.getNumPartitions()"
   ]
  },
  {
   "cell_type": "code",
   "execution_count": 94,
   "id": "9df6412f",
   "metadata": {},
   "outputs": [
    {
     "name": "stderr",
     "output_type": "stream",
     "text": [
      "[Stage 383:==========================================>              (3 + 1) / 4]\r"
     ]
    },
    {
     "data": {
      "text/plain": [
       "100"
      ]
     },
     "execution_count": 94,
     "metadata": {},
     "output_type": "execute_result"
    }
   ],
   "source": [
    "sfcrime_train = sfcrime_train.repartition(100)\n",
    "sfcrime_train.rdd.getNumPartitions()"
   ]
  },
  {
   "cell_type": "code",
   "execution_count": 97,
   "id": "3f23b7ee",
   "metadata": {},
   "outputs": [],
   "source": [
    "(sfcrime_train, sfcrime_test) = sfcrime_train.randomSplit([0.7, 0.3])"
   ]
  },
  {
   "cell_type": "code",
   "execution_count": 145,
   "id": "a2040193",
   "metadata": {},
   "outputs": [
    {
     "name": "stdout",
     "output_type": "stream",
     "text": [
      "Requirement already satisfied: scikit-learn in /usr/local/lib/python3.8/dist-packages (1.3.2)\n",
      "Requirement already satisfied: numpy<2.0,>=1.17.3 in /usr/local/lib/python3.8/dist-packages (from scikit-learn) (1.24.4)\n",
      "Requirement already satisfied: threadpoolctl>=2.0.0 in /usr/local/lib/python3.8/dist-packages (from scikit-learn) (3.2.0)\n",
      "Requirement already satisfied: scipy>=1.5.0 in /usr/local/lib/python3.8/dist-packages (from scikit-learn) (1.9.3)\n",
      "Requirement already satisfied: joblib>=1.1.1 in /usr/local/lib/python3.8/dist-packages (from scikit-learn) (1.3.2)\n"
     ]
    },
    {
     "name": "stderr",
     "output_type": "stream",
     "text": [
      "[Stage 782:>                                                        (0 + 4) / 4]\r"
     ]
    },
    {
     "name": "stderr",
     "output_type": "stream",
     "text": [
      "                                                                                \r"
     ]
    }
   ],
   "source": [
    "#Evaluation function #TODO: aggiungere anche F1 score può avere senso dato che è multi-class\n",
    "!pip install scikit-learn\n",
    "from sklearn.metrics import log_loss\n",
    "from pyspark.ml.evaluation import MulticlassClassificationEvaluator\n",
    "\n",
    "labels_test = sfcrime_test.select('label').toPandas()\n",
    "labels_test = pd.Series(labels_test['label'].values)\n",
    "\n",
    "def evaluation(results, model_name):\n",
    "    #compute accuracy\n",
    "    evaluator = MulticlassClassificationEvaluator(labelCol=\"label\", predictionCol=\"prediction\", metricName=\"accuracy\")\n",
    "    accuracy = evaluator.evaluate(results)\n",
    "    print(\"Accuracy of model %s = %g\" % (model_name, accuracy))\n",
    "    \n",
    "    #compute logloss using scikit-learn implementation\n",
    "    lr_proba= np.array(results.select('probability').collect())\n",
    "    lr_proba=lr_proba.reshape(-1, lr_proba.shape[-1])\n",
    "    logLoss = log_loss(labels_test, lr_proba) \n",
    "    print(\"LogLoss of model %s = %g\" % (model_name, logLoss))\n"
   ]
  },
  {
   "cell_type": "markdown",
   "id": "2d8ba85a",
   "metadata": {},
   "source": [
    "#### 1. Decision Tree Classifier"
   ]
  },
  {
   "cell_type": "markdown",
   "id": "26536412",
   "metadata": {},
   "source": [
    "# Lodi vs Scalino 0-1 <3"
   ]
  },
  {
   "cell_type": "code",
   "execution_count": 98,
   "id": "218184ea",
   "metadata": {},
   "outputs": [
    {
     "name": "stderr",
     "output_type": "stream",
     "text": [
      "[Stage 384:>                                                        (0 + 4) / 4]\r"
     ]
    },
    {
     "name": "stderr",
     "output_type": "stream",
     "text": [
      "23/12/16 12:12:30 WARN MemoryStore: Not enough space to cache rdd_804_16 in memory! (computed 3.6 MiB so far)\n",
      "23/12/16 12:12:30 WARN BlockManager: Persisting block rdd_804_16 to disk instead.\n",
      "23/12/16 12:12:30 WARN MemoryStore: Not enough space to cache rdd_804_17 in memory! (computed 3.6 MiB so far)\n",
      "23/12/16 12:12:30 WARN BlockManager: Persisting block rdd_804_17 to disk instead.\n",
      "23/12/16 12:12:30 WARN MemoryStore: Not enough space to cache rdd_804_18 in memory! (computed 8.2 MiB so far)\n",
      "23/12/16 12:12:30 WARN BlockManager: Persisting block rdd_804_18 to disk instead.\n",
      "23/12/16 12:12:30 WARN MemoryStore: Not enough space to cache rdd_804_19 in memory! (computed 8.2 MiB so far)\n",
      "23/12/16 12:12:30 WARN BlockManager: Persisting block rdd_804_19 to disk instead.\n",
      "23/12/16 12:12:30 WARN MemoryStore: Not enough space to cache rdd_804_17 in memory! (computed 12.5 MiB so far)\n",
      "23/12/16 12:12:30 WARN MemoryStore: Not enough space to cache rdd_804_16 in memory! (computed 19.0 MiB so far)\n",
      "23/12/16 12:12:30 WARN MemoryStore: Not enough space to cache rdd_804_21 in memory! (computed 1594.5 KiB so far)\n",
      "23/12/16 12:12:30 WARN BlockManager: Persisting block rdd_804_21 to disk instead.\n",
      "23/12/16 12:12:30 WARN MemoryStore: Failed to reserve initial memory threshold of 1024.0 KiB for computing block rdd_804_19 in memory.\n",
      "23/12/16 12:12:30 WARN MemoryStore: Not enough space to cache rdd_804_19 in memory! (computed 384.0 B so far)\n",
      "23/12/16 12:12:30 WARN MemoryStore: Not enough space to cache rdd_804_18 in memory! (computed 19.0 MiB so far)\n",
      "23/12/16 12:12:30 WARN MemoryStore: Not enough space to cache rdd_804_20 in memory! (computed 19.0 MiB so far)\n",
      "23/12/16 12:12:30 WARN BlockManager: Persisting block rdd_804_20 to disk instead.\n",
      "23/12/16 12:12:30 WARN MemoryStore: Not enough space to cache rdd_804_20 in memory! (computed 12.5 MiB so far)\n",
      "23/12/16 12:12:30 WARN MemoryStore: Not enough space to cache rdd_804_23 in memory! (computed 8.2 MiB so far)\n",
      "23/12/16 12:12:30 WARN BlockManager: Persisting block rdd_804_23 to disk instead.\n",
      "23/12/16 12:12:30 WARN MemoryStore: Not enough space to cache rdd_804_22 in memory! (computed 12.5 MiB so far)\n",
      "23/12/16 12:12:30 WARN BlockManager: Persisting block rdd_804_22 to disk instead.\n",
      "23/12/16 12:12:31 WARN MemoryStore: Not enough space to cache rdd_804_25 in memory! (computed 3.6 MiB so far)\n",
      "23/12/16 12:12:31 WARN BlockManager: Persisting block rdd_804_25 to disk instead.\n",
      "23/12/16 12:12:31 WARN MemoryStore: Not enough space to cache rdd_804_22 in memory! (computed 8.2 MiB so far)\n",
      "23/12/16 12:12:31 WARN MemoryStore: Not enough space to cache rdd_804_24 in memory! (computed 8.2 MiB so far)\n",
      "23/12/16 12:12:31 WARN BlockManager: Persisting block rdd_804_24 to disk instead.\n",
      "23/12/16 12:12:31 WARN MemoryStore: Not enough space to cache rdd_804_24 in memory! (computed 2.4 MiB so far)\n",
      "23/12/16 12:12:31 WARN MemoryStore: Not enough space to cache rdd_804_26 in memory! (computed 1051.9 KiB so far)\n",
      "23/12/16 12:12:31 WARN BlockManager: Persisting block rdd_804_26 to disk instead.\n",
      "23/12/16 12:12:31 WARN MemoryStore: Not enough space to cache rdd_804_27 in memory! (computed 8.2 MiB so far)\n",
      "23/12/16 12:12:31 WARN BlockManager: Persisting block rdd_804_27 to disk instead.\n",
      "23/12/16 12:12:31 WARN MemoryStore: Not enough space to cache rdd_804_25 in memory! (computed 12.5 MiB so far)\n",
      "23/12/16 12:12:31 WARN MemoryStore: Not enough space to cache rdd_804_26 in memory! (computed 12.5 MiB so far)\n",
      "23/12/16 12:12:31 WARN MemoryStore: Not enough space to cache rdd_804_28 in memory! (computed 2.4 MiB so far)\n",
      "23/12/16 12:12:31 WARN BlockManager: Persisting block rdd_804_28 to disk instead.\n",
      "23/12/16 12:12:31 WARN MemoryStore: Not enough space to cache rdd_804_27 in memory! (computed 5.4 MiB so far)\n",
      "23/12/16 12:12:31 WARN MemoryStore: Failed to reserve initial memory threshold of 1024.0 KiB for computing block rdd_804_29 in memory.\n",
      "23/12/16 12:12:31 WARN MemoryStore: Not enough space to cache rdd_804_29 in memory! (computed 384.0 B so far)\n",
      "23/12/16 12:12:31 WARN BlockManager: Persisting block rdd_804_29 to disk instead.\n",
      "23/12/16 12:12:31 WARN MemoryStore: Not enough space to cache rdd_804_30 in memory! (computed 12.5 MiB so far)\n",
      "23/12/16 12:12:31 WARN MemoryStore: Not enough space to cache rdd_804_28 in memory! (computed 19.0 MiB so far)\n",
      "23/12/16 12:12:31 WARN BlockManager: Persisting block rdd_804_30 to disk instead.\n",
      "23/12/16 12:12:31 WARN MemoryStore: Not enough space to cache rdd_804_31 in memory! (computed 12.5 MiB so far)\n",
      "23/12/16 12:12:31 WARN BlockManager: Persisting block rdd_804_31 to disk instead.\n",
      "23/12/16 12:12:31 WARN MemoryStore: Not enough space to cache rdd_804_29 in memory! (computed 19.0 MiB so far)\n",
      "23/12/16 12:12:31 WARN MemoryStore: Not enough space to cache rdd_804_33 in memory! (computed 2.4 MiB so far)\n",
      "23/12/16 12:12:31 WARN BlockManager: Persisting block rdd_804_33 to disk instead.\n",
      "23/12/16 12:12:31 WARN MemoryStore: Not enough space to cache rdd_804_31 in memory! (computed 8.2 MiB so far)\n",
      "23/12/16 12:12:32 WARN MemoryStore: Not enough space to cache rdd_804_33 in memory! (computed 12.5 MiB so far)\n",
      "23/12/16 12:12:32 WARN MemoryStore: Not enough space to cache rdd_804_36 in memory! (computed 5.4 MiB so far)\n",
      "23/12/16 12:12:32 WARN MemoryStore: Not enough space to cache rdd_804_37 in memory! (computed 8.2 MiB so far)\n",
      "23/12/16 12:12:32 WARN BlockManager: Persisting block rdd_804_37 to disk instead.\n",
      "23/12/16 12:12:32 WARN BlockManager: Persisting block rdd_804_36 to disk instead.\n",
      "23/12/16 12:12:32 WARN MemoryStore: Not enough space to cache rdd_804_37 in memory! (computed 8.2 MiB so far)\n",
      "23/12/16 12:12:32 WARN MemoryStore: Not enough space to cache rdd_804_38 in memory! (computed 8.2 MiB so far)\n",
      "23/12/16 12:12:32 WARN BlockManager: Persisting block rdd_804_38 to disk instead.\n",
      "23/12/16 12:12:32 WARN MemoryStore: Not enough space to cache rdd_804_36 in memory! (computed 3.6 MiB so far)\n",
      "23/12/16 12:12:32 WARN MemoryStore: Not enough space to cache rdd_804_39 in memory! (computed 12.5 MiB so far)\n",
      "23/12/16 12:12:32 WARN BlockManager: Persisting block rdd_804_39 to disk instead.\n",
      "23/12/16 12:12:32 WARN MemoryStore: Failed to reserve initial memory threshold of 1024.0 KiB for computing block rdd_804_40 in memory.\n",
      "23/12/16 12:12:33 WARN MemoryStore: Not enough space to cache rdd_804_40 in memory! (computed 384.0 B so far)\n",
      "23/12/16 12:12:33 WARN BlockManager: Persisting block rdd_804_40 to disk instead.\n",
      "23/12/16 12:12:33 WARN MemoryStore: Not enough space to cache rdd_804_41 in memory! (computed 8.2 MiB so far)\n",
      "23/12/16 12:12:33 WARN BlockManager: Persisting block rdd_804_41 to disk instead.\n",
      "23/12/16 12:12:33 WARN MemoryStore: Not enough space to cache rdd_804_40 in memory! (computed 8.2 MiB so far)\n",
      "23/12/16 12:12:33 WARN MemoryStore: Not enough space to cache rdd_804_42 in memory! (computed 5.4 MiB so far)\n",
      "23/12/16 12:12:33 WARN BlockManager: Persisting block rdd_804_42 to disk instead.\n",
      "23/12/16 12:12:33 WARN MemoryStore: Not enough space to cache rdd_804_41 in memory! (computed 1594.6 KiB so far)\n",
      "23/12/16 12:12:33 WARN MemoryStore: Not enough space to cache rdd_804_42 in memory! (computed 5.4 MiB so far)\n",
      "23/12/16 12:12:33 WARN MemoryStore: Not enough space to cache rdd_804_44 in memory! (computed 5.4 MiB so far)\n",
      "23/12/16 12:12:33 WARN BlockManager: Persisting block rdd_804_44 to disk instead.\n",
      "23/12/16 12:12:33 WARN MemoryStore: Failed to reserve initial memory threshold of 1024.0 KiB for computing block rdd_804_45 in memory.\n",
      "23/12/16 12:12:33 WARN MemoryStore: Not enough space to cache rdd_804_43 in memory! (computed 8.2 MiB so far)\n",
      "23/12/16 12:12:33 WARN BlockManager: Persisting block rdd_804_43 to disk instead.\n",
      "23/12/16 12:12:33 WARN MemoryStore: Not enough space to cache rdd_804_45 in memory! (computed 384.0 B so far)\n",
      "23/12/16 12:12:33 WARN BlockManager: Persisting block rdd_804_45 to disk instead.\n",
      "23/12/16 12:12:34 WARN MemoryStore: Not enough space to cache rdd_804_46 in memory! (computed 12.5 MiB so far)\n",
      "23/12/16 12:12:34 WARN BlockManager: Persisting block rdd_804_46 to disk instead.\n",
      "23/12/16 12:12:34 WARN MemoryStore: Not enough space to cache rdd_804_44 in memory! (computed 19.0 MiB so far)\n",
      "23/12/16 12:12:34 WARN MemoryStore: Not enough space to cache rdd_804_43 in memory! (computed 8.2 MiB so far)\n",
      "23/12/16 12:12:34 WARN MemoryStore: Not enough space to cache rdd_804_46 in memory! (computed 12.5 MiB so far)\n",
      "23/12/16 12:12:34 WARN MemoryStore: Not enough space to cache rdd_804_47 in memory! (computed 12.5 MiB so far)\n",
      "23/12/16 12:12:34 WARN BlockManager: Persisting block rdd_804_47 to disk instead.\n",
      "23/12/16 12:12:34 WARN MemoryStore: Not enough space to cache rdd_804_48 in memory! (computed 12.5 MiB so far)\n",
      "23/12/16 12:12:34 WARN BlockManager: Persisting block rdd_804_48 to disk instead.\n",
      "23/12/16 12:12:34 WARN MemoryStore: Not enough space to cache rdd_804_49 in memory! (computed 19.0 MiB so far)\n",
      "23/12/16 12:12:34 WARN BlockManager: Persisting block rdd_804_49 to disk instead.\n",
      "23/12/16 12:12:34 WARN MemoryStore: Not enough space to cache rdd_804_50 in memory! (computed 12.5 MiB so far)\n",
      "23/12/16 12:12:34 WARN BlockManager: Persisting block rdd_804_50 to disk instead.\n",
      "23/12/16 12:12:34 WARN MemoryStore: Not enough space to cache rdd_804_50 in memory! (computed 5.4 MiB so far)\n",
      "23/12/16 12:12:34 WARN MemoryStore: Not enough space to cache rdd_804_49 in memory! (computed 8.2 MiB so far)\n",
      "23/12/16 12:12:35 WARN MemoryStore: Not enough space to cache rdd_804_52 in memory! (computed 5.4 MiB so far)\n",
      "23/12/16 12:12:35 WARN BlockManager: Persisting block rdd_804_52 to disk instead.\n",
      "23/12/16 12:12:35 WARN MemoryStore: Not enough space to cache rdd_804_51 in memory! (computed 3.6 MiB so far)\n",
      "23/12/16 12:12:35 WARN BlockManager: Persisting block rdd_804_51 to disk instead.\n",
      "23/12/16 12:12:35 WARN MemoryStore: Not enough space to cache rdd_804_53 in memory! (computed 3.6 MiB so far)\n",
      "23/12/16 12:12:35 WARN BlockManager: Persisting block rdd_804_53 to disk instead.\n",
      "23/12/16 12:12:35 WARN MemoryStore: Not enough space to cache rdd_804_54 in memory! (computed 5.4 MiB so far)\n",
      "23/12/16 12:12:35 WARN BlockManager: Persisting block rdd_804_54 to disk instead.\n",
      "23/12/16 12:12:35 WARN MemoryStore: Not enough space to cache rdd_804_52 in memory! (computed 8.2 MiB so far)\n",
      "23/12/16 12:12:35 WARN MemoryStore: Not enough space to cache rdd_804_51 in memory! (computed 12.5 MiB so far)\n",
      "23/12/16 12:12:35 WARN MemoryStore: Not enough space to cache rdd_804_54 in memory! (computed 1594.6 KiB so far)\n",
      "23/12/16 12:12:35 WARN MemoryStore: Not enough space to cache rdd_804_53 in memory! (computed 12.5 MiB so far)\n",
      "23/12/16 12:12:35 WARN MemoryStore: Not enough space to cache rdd_804_55 in memory! (computed 12.5 MiB so far)\n",
      "23/12/16 12:12:35 WARN BlockManager: Persisting block rdd_804_55 to disk instead.\n",
      "23/12/16 12:12:35 WARN MemoryStore: Not enough space to cache rdd_804_55 in memory! (computed 2.4 MiB so far)\n",
      "23/12/16 12:12:35 WARN MemoryStore: Not enough space to cache rdd_804_58 in memory! (computed 1594.5 KiB so far)\n",
      "23/12/16 12:12:35 WARN BlockManager: Persisting block rdd_804_58 to disk instead.\n",
      "23/12/16 12:12:35 WARN MemoryStore: Not enough space to cache rdd_804_57 in memory! (computed 12.5 MiB so far)\n",
      "23/12/16 12:12:35 WARN BlockManager: Persisting block rdd_804_57 to disk instead.\n",
      "23/12/16 12:12:36 WARN MemoryStore: Not enough space to cache rdd_804_60 in memory! (computed 5.4 MiB so far)\n",
      "23/12/16 12:12:36 WARN BlockManager: Persisting block rdd_804_60 to disk instead.\n",
      "23/12/16 12:12:36 WARN MemoryStore: Not enough space to cache rdd_804_57 in memory! (computed 2.4 MiB so far)\n",
      "23/12/16 12:12:36 WARN MemoryStore: Not enough space to cache rdd_804_58 in memory! (computed 12.5 MiB so far)\n",
      "23/12/16 12:12:36 WARN MemoryStore: Not enough space to cache rdd_804_60 in memory! (computed 19.0 MiB so far)\n",
      "23/12/16 12:12:36 WARN MemoryStore: Not enough space to cache rdd_804_63 in memory! (computed 2.4 MiB so far)\n",
      "23/12/16 12:12:36 WARN BlockManager: Persisting block rdd_804_63 to disk instead.\n",
      "23/12/16 12:12:36 WARN MemoryStore: Not enough space to cache rdd_804_61 in memory! (computed 12.5 MiB so far)\n",
      "23/12/16 12:12:36 WARN BlockManager: Persisting block rdd_804_61 to disk instead.\n",
      "23/12/16 12:12:36 WARN MemoryStore: Not enough space to cache rdd_804_62 in memory! (computed 1594.5 KiB so far)\n",
      "23/12/16 12:12:36 WARN BlockManager: Persisting block rdd_804_62 to disk instead.\n",
      "23/12/16 12:12:36 WARN MemoryStore: Not enough space to cache rdd_804_64 in memory! (computed 19.0 MiB so far)\n",
      "23/12/16 12:12:36 WARN BlockManager: Persisting block rdd_804_64 to disk instead.\n",
      "23/12/16 12:12:36 WARN MemoryStore: Not enough space to cache rdd_804_63 in memory! (computed 3.6 MiB so far)\n",
      "23/12/16 12:12:36 WARN MemoryStore: Not enough space to cache rdd_804_65 in memory! (computed 3.6 MiB so far)\n",
      "23/12/16 12:12:36 WARN BlockManager: Persisting block rdd_804_65 to disk instead.\n",
      "23/12/16 12:12:36 WARN MemoryStore: Not enough space to cache rdd_804_64 in memory! (computed 12.5 MiB so far)\n",
      "23/12/16 12:12:37 WARN MemoryStore: Not enough space to cache rdd_804_65 in memory! (computed 8.2 MiB so far)\n",
      "23/12/16 12:12:37 WARN MemoryStore: Not enough space to cache rdd_804_66 in memory! (computed 8.2 MiB so far)\n",
      "23/12/16 12:12:37 WARN BlockManager: Persisting block rdd_804_66 to disk instead.\n",
      "23/12/16 12:12:37 WARN MemoryStore: Failed to reserve initial memory threshold of 1024.0 KiB for computing block rdd_804_68 in memory.\n",
      "23/12/16 12:12:37 WARN MemoryStore: Not enough space to cache rdd_804_68 in memory! (computed 384.0 B so far)\n",
      "23/12/16 12:12:37 WARN BlockManager: Persisting block rdd_804_68 to disk instead.\n",
      "23/12/16 12:12:37 WARN MemoryStore: Failed to reserve initial memory threshold of 1024.0 KiB for computing block rdd_804_70 in memory.\n",
      "23/12/16 12:12:37 WARN MemoryStore: Not enough space to cache rdd_804_70 in memory! (computed 384.0 B so far)\n",
      "23/12/16 12:12:37 WARN BlockManager: Persisting block rdd_804_70 to disk instead.\n",
      "23/12/16 12:12:37 WARN MemoryStore: Not enough space to cache rdd_804_66 in memory! (computed 5.4 MiB so far)\n",
      "23/12/16 12:12:37 WARN MemoryStore: Not enough space to cache rdd_804_68 in memory! (computed 5.4 MiB so far)\n",
      "23/12/16 12:12:37 WARN MemoryStore: Not enough space to cache rdd_804_71 in memory! (computed 5.4 MiB so far)\n",
      "23/12/16 12:12:37 WARN BlockManager: Persisting block rdd_804_71 to disk instead.\n",
      "23/12/16 12:12:37 WARN MemoryStore: Failed to reserve initial memory threshold of 1024.0 KiB for computing block rdd_804_73 in memory.\n",
      "23/12/16 12:12:37 WARN MemoryStore: Failed to reserve initial memory threshold of 1024.0 KiB for computing block rdd_804_72 in memory.\n",
      "23/12/16 12:12:37 WARN MemoryStore: Not enough space to cache rdd_804_73 in memory! (computed 384.0 B so far)\n",
      "23/12/16 12:12:37 WARN BlockManager: Persisting block rdd_804_73 to disk instead.\n",
      "23/12/16 12:12:37 WARN MemoryStore: Not enough space to cache rdd_804_72 in memory! (computed 384.0 B so far)\n",
      "23/12/16 12:12:37 WARN BlockManager: Persisting block rdd_804_72 to disk instead.\n",
      "23/12/16 12:12:37 WARN MemoryStore: Not enough space to cache rdd_804_74 in memory! (computed 3.6 MiB so far)\n",
      "23/12/16 12:12:37 WARN BlockManager: Persisting block rdd_804_74 to disk instead.\n",
      "23/12/16 12:12:37 WARN MemoryStore: Not enough space to cache rdd_804_72 in memory! (computed 5.4 MiB so far)\n",
      "23/12/16 12:12:37 WARN MemoryStore: Not enough space to cache rdd_804_73 in memory! (computed 8.2 MiB so far)\n",
      "23/12/16 12:12:37 WARN MemoryStore: Not enough space to cache rdd_804_71 in memory! (computed 12.5 MiB so far)\n",
      "23/12/16 12:12:37 WARN MemoryStore: Not enough space to cache rdd_804_74 in memory! (computed 12.5 MiB so far)\n",
      "23/12/16 12:12:37 WARN MemoryStore: Not enough space to cache rdd_804_76 in memory! (computed 2.4 MiB so far)\n",
      "23/12/16 12:12:37 WARN BlockManager: Persisting block rdd_804_76 to disk instead.\n",
      "23/12/16 12:12:37 WARN MemoryStore: Not enough space to cache rdd_804_75 in memory! (computed 8.2 MiB so far)\n",
      "23/12/16 12:12:37 WARN BlockManager: Persisting block rdd_804_75 to disk instead.\n",
      "23/12/16 12:12:37 WARN MemoryStore: Failed to reserve initial memory threshold of 1024.0 KiB for computing block rdd_804_78 in memory.\n",
      "23/12/16 12:12:38 WARN MemoryStore: Not enough space to cache rdd_804_78 in memory! (computed 384.0 B so far)\n",
      "23/12/16 12:12:38 WARN BlockManager: Persisting block rdd_804_78 to disk instead.\n",
      "23/12/16 12:12:38 WARN MemoryStore: Not enough space to cache rdd_804_76 in memory! (computed 3.6 MiB so far)\n",
      "23/12/16 12:12:38 WARN MemoryStore: Not enough space to cache rdd_804_75 in memory! (computed 12.5 MiB so far)\n",
      "23/12/16 12:12:38 WARN MemoryStore: Not enough space to cache rdd_804_79 in memory! (computed 8.2 MiB so far)\n",
      "23/12/16 12:12:38 WARN BlockManager: Persisting block rdd_804_79 to disk instead.\n",
      "23/12/16 12:12:38 WARN MemoryStore: Not enough space to cache rdd_804_78 in memory! (computed 19.0 MiB so far)\n",
      "23/12/16 12:12:38 WARN MemoryStore: Not enough space to cache rdd_804_80 in memory! (computed 12.5 MiB so far)\n",
      "23/12/16 12:12:38 WARN BlockManager: Persisting block rdd_804_80 to disk instead.\n",
      "23/12/16 12:12:38 WARN MemoryStore: Not enough space to cache rdd_804_81 in memory! (computed 19.0 MiB so far)\n",
      "23/12/16 12:12:38 WARN BlockManager: Persisting block rdd_804_81 to disk instead.\n",
      "23/12/16 12:12:38 WARN MemoryStore: Not enough space to cache rdd_804_82 in memory! (computed 19.0 MiB so far)\n",
      "23/12/16 12:12:38 WARN BlockManager: Persisting block rdd_804_82 to disk instead.\n",
      "23/12/16 12:12:38 WARN MemoryStore: Not enough space to cache rdd_804_81 in memory! (computed 19.0 MiB so far)\n",
      "23/12/16 12:12:38 WARN MemoryStore: Not enough space to cache rdd_804_80 in memory! (computed 5.4 MiB so far)\n",
      "23/12/16 12:12:38 WARN MemoryStore: Failed to reserve initial memory threshold of 1024.0 KiB for computing block rdd_804_85 in memory.\n",
      "23/12/16 12:12:38 WARN MemoryStore: Not enough space to cache rdd_804_84 in memory! (computed 5.4 MiB so far)\n",
      "23/12/16 12:12:38 WARN BlockManager: Persisting block rdd_804_84 to disk instead.\n",
      "23/12/16 12:12:38 WARN MemoryStore: Not enough space to cache rdd_804_85 in memory! (computed 384.0 B so far)\n",
      "23/12/16 12:12:38 WARN BlockManager: Persisting block rdd_804_85 to disk instead.\n",
      "23/12/16 12:12:39 WARN MemoryStore: Not enough space to cache rdd_804_84 in memory! (computed 3.6 MiB so far)\n",
      "23/12/16 12:12:39 WARN MemoryStore: Not enough space to cache rdd_804_86 in memory! (computed 3.6 MiB so far)\n",
      "23/12/16 12:12:39 WARN BlockManager: Persisting block rdd_804_86 to disk instead.\n",
      "23/12/16 12:12:39 WARN MemoryStore: Not enough space to cache rdd_804_85 in memory! (computed 5.4 MiB so far)\n",
      "23/12/16 12:12:39 WARN MemoryStore: Failed to reserve initial memory threshold of 1024.0 KiB for computing block rdd_804_88 in memory.\n",
      "23/12/16 12:12:39 WARN MemoryStore: Not enough space to cache rdd_804_88 in memory! (computed 384.0 B so far)\n",
      "23/12/16 12:12:39 WARN BlockManager: Persisting block rdd_804_88 to disk instead.\n",
      "23/12/16 12:12:39 WARN MemoryStore: Not enough space to cache rdd_804_86 in memory! (computed 8.2 MiB so far)\n",
      "23/12/16 12:12:39 WARN MemoryStore: Not enough space to cache rdd_804_89 in memory! (computed 8.2 MiB so far)\n",
      "23/12/16 12:12:39 WARN BlockManager: Persisting block rdd_804_89 to disk instead.\n",
      "23/12/16 12:12:39 WARN MemoryStore: Not enough space to cache rdd_804_88 in memory! (computed 3.6 MiB so far)\n",
      "23/12/16 12:12:39 WARN MemoryStore: Not enough space to cache rdd_804_90 in memory! (computed 5.4 MiB so far)\n",
      "23/12/16 12:12:39 WARN BlockManager: Persisting block rdd_804_90 to disk instead.\n",
      "23/12/16 12:12:39 WARN MemoryStore: Not enough space to cache rdd_804_91 in memory! (computed 2.4 MiB so far)\n",
      "23/12/16 12:12:39 WARN BlockManager: Persisting block rdd_804_91 to disk instead.\n",
      "23/12/16 12:12:39 WARN MemoryStore: Not enough space to cache rdd_804_89 in memory! (computed 5.4 MiB so far)\n",
      "23/12/16 12:12:39 WARN MemoryStore: Not enough space to cache rdd_804_92 in memory! (computed 8.2 MiB so far)\n",
      "23/12/16 12:12:39 WARN BlockManager: Persisting block rdd_804_92 to disk instead.\n",
      "23/12/16 12:12:39 WARN MemoryStore: Not enough space to cache rdd_804_90 in memory! (computed 3.6 MiB so far)\n",
      "23/12/16 12:12:39 WARN MemoryStore: Not enough space to cache rdd_804_93 in memory! (computed 8.2 MiB so far)\n",
      "23/12/16 12:12:39 WARN BlockManager: Persisting block rdd_804_93 to disk instead.\n",
      "23/12/16 12:12:39 WARN MemoryStore: Not enough space to cache rdd_804_91 in memory! (computed 8.2 MiB so far)\n",
      "23/12/16 12:12:39 WARN MemoryStore: Not enough space to cache rdd_804_93 in memory! (computed 2.4 MiB so far)\n",
      "23/12/16 12:12:39 WARN MemoryStore: Not enough space to cache rdd_804_94 in memory! (computed 8.2 MiB so far)\n",
      "23/12/16 12:12:39 WARN BlockManager: Persisting block rdd_804_94 to disk instead.\n",
      "23/12/16 12:12:39 WARN MemoryStore: Not enough space to cache rdd_804_96 in memory! (computed 1594.5 KiB so far)\n",
      "23/12/16 12:12:39 WARN BlockManager: Persisting block rdd_804_96 to disk instead.\n",
      "23/12/16 12:12:39 WARN MemoryStore: Not enough space to cache rdd_804_97 in memory! (computed 8.2 MiB so far)\n",
      "23/12/16 12:12:39 WARN BlockManager: Persisting block rdd_804_97 to disk instead.\n",
      "23/12/16 12:12:39 WARN MemoryStore: Not enough space to cache rdd_804_94 in memory! (computed 5.4 MiB so far)\n",
      "23/12/16 12:12:39 WARN MemoryStore: Not enough space to cache rdd_804_96 in memory! (computed 8.2 MiB so far)\n",
      "23/12/16 12:12:40 WARN MemoryStore: Not enough space to cache rdd_804_97 in memory! (computed 12.5 MiB so far)\n",
      "23/12/16 12:12:40 WARN MemoryStore: Not enough space to cache rdd_804_99 in memory! (computed 5.4 MiB so far)\n",
      "23/12/16 12:12:40 WARN BlockManager: Persisting block rdd_804_99 to disk instead.\n",
      "23/12/16 12:12:40 WARN MemoryStore: Not enough space to cache rdd_804_99 in memory! (computed 19.0 MiB so far)\n",
      "23/12/16 12:12:41 WARN MemoryStore: Not enough space to cache rdd_804_3 in memory! (computed 5.4 MiB so far)\n",
      "23/12/16 12:12:41 WARN MemoryStore: Not enough space to cache rdd_804_2 in memory! (computed 3.6 MiB so far)\n",
      "23/12/16 12:12:41 WARN MemoryStore: Not enough space to cache rdd_804_1 in memory! (computed 3.6 MiB so far)\n",
      "23/12/16 12:12:41 WARN MemoryStore: Not enough space to cache rdd_804_0 in memory! (computed 8.2 MiB so far)\n",
      "23/12/16 12:12:41 WARN MemoryStore: Not enough space to cache rdd_804_6 in memory! (computed 3.6 MiB so far)\n",
      "23/12/16 12:12:41 WARN MemoryStore: Not enough space to cache rdd_804_5 in memory! (computed 2.4 MiB so far)\n",
      "23/12/16 12:12:41 WARN MemoryStore: Not enough space to cache rdd_804_4 in memory! (computed 12.5 MiB so far)\n",
      "23/12/16 12:12:41 WARN MemoryStore: Not enough space to cache rdd_804_8 in memory! (computed 1594.6 KiB so far)\n",
      "23/12/16 12:12:41 WARN MemoryStore: Not enough space to cache rdd_804_7 in memory! (computed 19.0 MiB so far)\n",
      "23/12/16 12:12:41 WARN MemoryStore: Not enough space to cache rdd_804_10 in memory! (computed 5.4 MiB so far)\n",
      "23/12/16 12:12:41 WARN MemoryStore: Not enough space to cache rdd_804_12 in memory! (computed 1594.6 KiB so far)\n",
      "23/12/16 12:12:41 WARN MemoryStore: Not enough space to cache rdd_804_9 in memory! (computed 12.5 MiB so far)\n",
      "23/12/16 12:12:41 WARN MemoryStore: Not enough space to cache rdd_804_11 in memory! (computed 19.0 MiB so far)\n",
      "23/12/16 12:12:41 WARN MemoryStore: Not enough space to cache rdd_804_13 in memory! (computed 1594.6 KiB so far)\n",
      "23/12/16 12:12:41 WARN MemoryStore: Not enough space to cache rdd_804_15 in memory! (computed 8.2 MiB so far)\n",
      "23/12/16 12:12:41 WARN MemoryStore: Not enough space to cache rdd_804_14 in memory! (computed 12.5 MiB so far)\n",
      "23/12/16 12:12:41 WARN MemoryStore: Not enough space to cache rdd_804_17 in memory! (computed 1594.6 KiB so far)\n",
      "23/12/16 12:12:42 WARN MemoryStore: Failed to reserve initial memory threshold of 1024.0 KiB for computing block rdd_804_18 in memory.\n",
      "23/12/16 12:12:42 WARN MemoryStore: Not enough space to cache rdd_804_18 in memory! (computed 384.0 B so far)\n",
      "23/12/16 12:12:42 WARN MemoryStore: Not enough space to cache rdd_804_19 in memory! (computed 1594.6 KiB so far)\n",
      "23/12/16 12:12:42 WARN MemoryStore: Not enough space to cache rdd_804_16 in memory! (computed 19.0 MiB so far)\n",
      "23/12/16 12:12:42 WARN MemoryStore: Failed to reserve initial memory threshold of 1024.0 KiB for computing block rdd_804_22 in memory.\n",
      "23/12/16 12:12:42 WARN MemoryStore: Not enough space to cache rdd_804_22 in memory! (computed 384.0 B so far)\n",
      "23/12/16 12:12:42 WARN MemoryStore: Not enough space to cache rdd_804_21 in memory! (computed 1594.6 KiB so far)\n",
      "23/12/16 12:12:42 WARN MemoryStore: Not enough space to cache rdd_804_20 in memory! (computed 19.0 MiB so far)\n",
      "23/12/16 12:12:42 WARN MemoryStore: Not enough space to cache rdd_804_23 in memory! (computed 1594.6 KiB so far)\n",
      "23/12/16 12:12:42 WARN MemoryStore: Not enough space to cache rdd_804_25 in memory! (computed 5.4 MiB so far)\n",
      "23/12/16 12:12:42 WARN MemoryStore: Not enough space to cache rdd_804_24 in memory! (computed 8.2 MiB so far)\n",
      "23/12/16 12:12:42 WARN MemoryStore: Not enough space to cache rdd_804_26 in memory! (computed 5.4 MiB so far)\n",
      "23/12/16 12:12:42 WARN MemoryStore: Not enough space to cache rdd_804_27 in memory! (computed 19.0 MiB so far)\n",
      "23/12/16 12:12:42 WARN MemoryStore: Not enough space to cache rdd_804_29 in memory! (computed 8.2 MiB so far)\n",
      "23/12/16 12:12:42 WARN MemoryStore: Not enough space to cache rdd_804_28 in memory! (computed 8.2 MiB so far)\n",
      "23/12/16 12:12:42 WARN MemoryStore: Not enough space to cache rdd_804_30 in memory! (computed 8.2 MiB so far)\n",
      "23/12/16 12:12:42 WARN MemoryStore: Not enough space to cache rdd_804_31 in memory! (computed 12.5 MiB so far)\n",
      "23/12/16 12:12:42 WARN MemoryStore: Not enough space to cache rdd_804_33 in memory! (computed 5.4 MiB so far)\n",
      "23/12/16 12:12:42 WARN MemoryStore: Not enough space to cache rdd_804_32 in memory! (computed 12.5 MiB so far)\n",
      "23/12/16 12:12:42 WARN MemoryStore: Not enough space to cache rdd_804_34 in memory! (computed 5.4 MiB so far)\n",
      "23/12/16 12:12:42 WARN MemoryStore: Not enough space to cache rdd_804_35 in memory! (computed 2.4 MiB so far)\n",
      "23/12/16 12:12:43 WARN MemoryStore: Not enough space to cache rdd_804_36 in memory! (computed 8.2 MiB so far)\n",
      "23/12/16 12:12:43 WARN MemoryStore: Not enough space to cache rdd_804_38 in memory! (computed 8.2 MiB so far)\n",
      "23/12/16 12:12:43 WARN MemoryStore: Not enough space to cache rdd_804_39 in memory! (computed 2.4 MiB so far)\n",
      "23/12/16 12:12:43 WARN MemoryStore: Not enough space to cache rdd_804_37 in memory! (computed 19.0 MiB so far)\n",
      "23/12/16 12:12:43 WARN MemoryStore: Not enough space to cache rdd_804_41 in memory! (computed 1051.9 KiB so far)\n",
      "23/12/16 12:12:43 WARN MemoryStore: Not enough space to cache rdd_804_42 in memory! (computed 1051.9 KiB so far)\n",
      "23/12/16 12:12:43 WARN MemoryStore: Not enough space to cache rdd_804_40 in memory! (computed 19.0 MiB so far)\n",
      "23/12/16 12:12:43 WARN MemoryStore: Not enough space to cache rdd_804_44 in memory! (computed 12.5 MiB so far)\n",
      "23/12/16 12:12:43 WARN MemoryStore: Not enough space to cache rdd_804_43 in memory! (computed 12.5 MiB so far)\n",
      "23/12/16 12:12:43 WARN MemoryStore: Not enough space to cache rdd_804_45 in memory! (computed 5.4 MiB so far)\n",
      "23/12/16 12:12:43 WARN MemoryStore: Not enough space to cache rdd_804_47 in memory! (computed 12.5 MiB so far)\n",
      "23/12/16 12:12:43 WARN MemoryStore: Not enough space to cache rdd_804_46 in memory! (computed 8.2 MiB so far)\n",
      "23/12/16 12:12:44 WARN MemoryStore: Not enough space to cache rdd_804_50 in memory! (computed 1594.6 KiB so far)\n",
      "23/12/16 12:12:44 WARN MemoryStore: Not enough space to cache rdd_804_49 in memory! (computed 19.0 MiB so far)\n",
      "23/12/16 12:12:44 WARN MemoryStore: Not enough space to cache rdd_804_51 in memory! (computed 12.5 MiB so far)\n",
      "23/12/16 12:12:44 WARN MemoryStore: Not enough space to cache rdd_804_52 in memory! (computed 12.5 MiB so far)\n",
      "23/12/16 12:12:44 WARN MemoryStore: Not enough space to cache rdd_804_53 in memory! (computed 8.2 MiB so far)\n",
      "23/12/16 12:12:44 WARN MemoryStore: Not enough space to cache rdd_804_54 in memory! (computed 12.5 MiB so far)\n",
      "23/12/16 12:12:44 WARN MemoryStore: Not enough space to cache rdd_804_55 in memory! (computed 12.5 MiB so far)\n",
      "23/12/16 12:12:44 WARN MemoryStore: Not enough space to cache rdd_804_58 in memory! (computed 2.4 MiB so far)\n",
      "23/12/16 12:12:44 WARN MemoryStore: Not enough space to cache rdd_804_57 in memory! (computed 5.4 MiB so far)\n",
      "23/12/16 12:12:44 WARN MemoryStore: Not enough space to cache rdd_804_60 in memory! (computed 19.0 MiB so far)\n",
      "23/12/16 12:12:44 WARN MemoryStore: Not enough space to cache rdd_804_64 in memory! (computed 1594.6 KiB so far)\n",
      "23/12/16 12:12:44 WARN MemoryStore: Not enough space to cache rdd_804_63 in memory! (computed 19.0 MiB so far)\n",
      "23/12/16 12:12:44 WARN MemoryStore: Not enough space to cache rdd_804_65 in memory! (computed 12.5 MiB so far)\n",
      "23/12/16 12:12:44 WARN MemoryStore: Not enough space to cache rdd_804_66 in memory! (computed 8.2 MiB so far)\n",
      "23/12/16 12:12:45 WARN MemoryStore: Not enough space to cache rdd_804_71 in memory! (computed 1594.6 KiB so far)\n",
      "23/12/16 12:12:45 WARN MemoryStore: Failed to reserve initial memory threshold of 1024.0 KiB for computing block rdd_804_72 in memory.\n",
      "23/12/16 12:12:45 WARN MemoryStore: Not enough space to cache rdd_804_72 in memory! (computed 384.0 B so far)\n",
      "23/12/16 12:12:45 WARN MemoryStore: Not enough space to cache rdd_804_68 in memory! (computed 19.0 MiB so far)\n",
      "23/12/16 12:12:45 WARN MemoryStore: Failed to reserve initial memory threshold of 1024.0 KiB for computing block rdd_804_75 in memory.\n",
      "23/12/16 12:12:45 WARN MemoryStore: Not enough space to cache rdd_804_75 in memory! (computed 384.0 B so far)\n",
      "23/12/16 12:12:45 WARN MemoryStore: Not enough space to cache rdd_804_74 in memory! (computed 1594.6 KiB so far)\n",
      "23/12/16 12:12:45 WARN MemoryStore: Not enough space to cache rdd_804_73 in memory! (computed 19.0 MiB so far)\n",
      "23/12/16 12:12:45 WARN MemoryStore: Not enough space to cache rdd_804_76 in memory! (computed 12.5 MiB so far)\n",
      "23/12/16 12:12:45 WARN MemoryStore: Not enough space to cache rdd_804_78 in memory! (computed 8.2 MiB so far)\n",
      "23/12/16 12:12:45 WARN MemoryStore: Not enough space to cache rdd_804_81 in memory! (computed 1594.6 KiB so far)\n",
      "23/12/16 12:12:45 WARN MemoryStore: Not enough space to cache rdd_804_80 in memory! (computed 19.0 MiB so far)\n",
      "23/12/16 12:12:45 WARN MemoryStore: Not enough space to cache rdd_804_85 in memory! (computed 8.2 MiB so far)\n",
      "23/12/16 12:12:45 WARN MemoryStore: Not enough space to cache rdd_804_84 in memory! (computed 19.0 MiB so far)\n",
      "23/12/16 12:12:45 WARN MemoryStore: Failed to reserve initial memory threshold of 1024.0 KiB for computing block rdd_804_89 in memory.\n",
      "23/12/16 12:12:45 WARN MemoryStore: Not enough space to cache rdd_804_89 in memory! (computed 384.0 B so far)\n",
      "23/12/16 12:12:45 WARN MemoryStore: Not enough space to cache rdd_804_86 in memory! (computed 12.5 MiB so far)\n",
      "23/12/16 12:12:45 WARN MemoryStore: Not enough space to cache rdd_804_88 in memory! (computed 8.2 MiB so far)\n",
      "23/12/16 12:12:45 WARN MemoryStore: Not enough space to cache rdd_804_90 in memory! (computed 12.5 MiB so far)\n",
      "23/12/16 12:12:45 WARN MemoryStore: Not enough space to cache rdd_804_91 in memory! (computed 5.4 MiB so far)\n",
      "23/12/16 12:12:46 WARN MemoryStore: Not enough space to cache rdd_804_93 in memory! (computed 19.0 MiB so far)\n",
      "23/12/16 12:12:46 WARN MemoryStore: Not enough space to cache rdd_804_94 in memory! (computed 1594.6 KiB so far)\n",
      "23/12/16 12:12:46 WARN MemoryStore: Not enough space to cache rdd_804_96 in memory! (computed 19.0 MiB so far)\n",
      "23/12/16 12:12:46 WARN MemoryStore: Not enough space to cache rdd_804_97 in memory! (computed 1594.6 KiB so far)\n",
      "23/12/16 12:12:46 WARN MemoryStore: Not enough space to cache rdd_804_99 in memory! (computed 19.0 MiB so far)\n",
      "23/12/16 12:12:47 WARN MemoryStore: Not enough space to cache rdd_804_3 in memory! (computed 5.4 MiB so far)\n",
      "23/12/16 12:12:47 WARN MemoryStore: Not enough space to cache rdd_804_1 in memory! (computed 3.6 MiB so far)\n",
      "23/12/16 12:12:47 WARN MemoryStore: Not enough space to cache rdd_804_0 in memory! (computed 12.5 MiB so far)\n",
      "23/12/16 12:12:47 WARN MemoryStore: Not enough space to cache rdd_804_5 in memory! (computed 1051.9 KiB so far)\n",
      "23/12/16 12:12:47 WARN MemoryStore: Not enough space to cache rdd_804_4 in memory! (computed 1051.9 KiB so far)\n",
      "23/12/16 12:12:47 WARN MemoryStore: Not enough space to cache rdd_804_2 in memory! (computed 19.0 MiB so far)\n",
      "23/12/16 12:12:47 WARN MemoryStore: Not enough space to cache rdd_804_7 in memory! (computed 1594.6 KiB so far)\n",
      "23/12/16 12:12:47 WARN MemoryStore: Not enough space to cache rdd_804_6 in memory! (computed 19.0 MiB so far)\n",
      "23/12/16 12:12:47 WARN MemoryStore: Not enough space to cache rdd_804_9 in memory! (computed 5.4 MiB so far)\n",
      "23/12/16 12:12:47 WARN MemoryStore: Not enough space to cache rdd_804_10 in memory! (computed 5.4 MiB so far)\n",
      "23/12/16 12:12:47 WARN MemoryStore: Not enough space to cache rdd_804_8 in memory! (computed 19.0 MiB so far)\n",
      "23/12/16 12:12:47 WARN MemoryStore: Not enough space to cache rdd_804_12 in memory! (computed 8.2 MiB so far)\n",
      "23/12/16 12:12:47 WARN MemoryStore: Not enough space to cache rdd_804_11 in memory! (computed 5.4 MiB so far)\n",
      "23/12/16 12:12:47 WARN MemoryStore: Not enough space to cache rdd_804_14 in memory! (computed 12.5 MiB so far)\n",
      "23/12/16 12:12:47 WARN MemoryStore: Not enough space to cache rdd_804_13 in memory! (computed 8.2 MiB so far)\n",
      "23/12/16 12:12:47 WARN MemoryStore: Not enough space to cache rdd_804_15 in memory! (computed 12.5 MiB so far)\n",
      "23/12/16 12:12:47 WARN MemoryStore: Not enough space to cache rdd_804_17 in memory! (computed 5.4 MiB so far)\n",
      "23/12/16 12:12:47 WARN MemoryStore: Not enough space to cache rdd_804_16 in memory! (computed 12.5 MiB so far)\n",
      "23/12/16 12:12:47 WARN MemoryStore: Not enough space to cache rdd_804_19 in memory! (computed 3.6 MiB so far)\n",
      "23/12/16 12:12:47 WARN MemoryStore: Not enough space to cache rdd_804_18 in memory! (computed 12.5 MiB so far)\n",
      "23/12/16 12:12:48 WARN MemoryStore: Not enough space to cache rdd_804_20 in memory! (computed 12.5 MiB so far)\n",
      "23/12/16 12:12:48 WARN MemoryStore: Not enough space to cache rdd_804_21 in memory! (computed 12.5 MiB so far)\n",
      "23/12/16 12:12:48 WARN MemoryStore: Not enough space to cache rdd_804_22 in memory! (computed 8.2 MiB so far)\n",
      "23/12/16 12:12:48 WARN MemoryStore: Failed to reserve initial memory threshold of 1024.0 KiB for computing block rdd_804_24 in memory.\n",
      "23/12/16 12:12:48 WARN MemoryStore: Not enough space to cache rdd_804_24 in memory! (computed 384.0 B so far)\n",
      "23/12/16 12:12:48 WARN MemoryStore: Failed to reserve initial memory threshold of 1024.0 KiB for computing block rdd_804_23 in memory.\n",
      "23/12/16 12:12:48 WARN MemoryStore: Not enough space to cache rdd_804_23 in memory! (computed 384.0 B so far)\n",
      "23/12/16 12:12:48 WARN MemoryStore: Not enough space to cache rdd_804_25 in memory! (computed 12.5 MiB so far)\n",
      "23/12/16 12:12:48 WARN MemoryStore: Not enough space to cache rdd_804_26 in memory! (computed 8.2 MiB so far)\n",
      "23/12/16 12:12:48 WARN MemoryStore: Not enough space to cache rdd_804_27 in memory! (computed 12.5 MiB so far)\n",
      "23/12/16 12:12:48 WARN MemoryStore: Not enough space to cache rdd_804_29 in memory! (computed 2.4 MiB so far)\n",
      "23/12/16 12:12:48 WARN MemoryStore: Not enough space to cache rdd_804_28 in memory! (computed 12.5 MiB so far)\n",
      "23/12/16 12:12:48 WARN MemoryStore: Not enough space to cache rdd_804_30 in memory! (computed 8.2 MiB so far)\n",
      "23/12/16 12:12:48 WARN MemoryStore: Not enough space to cache rdd_804_31 in memory! (computed 19.0 MiB so far)\n",
      "23/12/16 12:12:48 WARN MemoryStore: Failed to reserve initial memory threshold of 1024.0 KiB for computing block rdd_804_33 in memory.\n",
      "23/12/16 12:12:48 WARN MemoryStore: Not enough space to cache rdd_804_33 in memory! (computed 384.0 B so far)\n",
      "23/12/16 12:12:48 WARN MemoryStore: Not enough space to cache rdd_804_32 in memory! (computed 1594.6 KiB so far)\n",
      "23/12/16 12:12:48 WARN MemoryStore: Not enough space to cache rdd_804_35 in memory! (computed 8.2 MiB so far)\n",
      "23/12/16 12:12:48 WARN MemoryStore: Not enough space to cache rdd_804_34 in memory! (computed 12.5 MiB so far)\n",
      "23/12/16 12:12:48 WARN MemoryStore: Not enough space to cache rdd_804_37 in memory! (computed 8.2 MiB so far)\n",
      "23/12/16 12:12:48 WARN MemoryStore: Not enough space to cache rdd_804_36 in memory! (computed 12.5 MiB so far)\n",
      "23/12/16 12:12:48 WARN MemoryStore: Not enough space to cache rdd_804_38 in memory! (computed 12.5 MiB so far)\n",
      "23/12/16 12:12:48 WARN MemoryStore: Not enough space to cache rdd_804_39 in memory! (computed 8.2 MiB so far)\n",
      "23/12/16 12:12:48 WARN MemoryStore: Not enough space to cache rdd_804_40 in memory! (computed 19.0 MiB so far)\n",
      "23/12/16 12:12:48 WARN MemoryStore: Not enough space to cache rdd_804_42 in memory! (computed 8.2 MiB so far)\n",
      "23/12/16 12:12:48 WARN MemoryStore: Not enough space to cache rdd_804_41 in memory! (computed 8.2 MiB so far)\n",
      "23/12/16 12:12:48 WARN MemoryStore: Not enough space to cache rdd_804_43 in memory! (computed 2.4 MiB so far)\n",
      "23/12/16 12:12:48 WARN MemoryStore: Not enough space to cache rdd_804_44 in memory! (computed 19.0 MiB so far)\n",
      "23/12/16 12:12:49 WARN MemoryStore: Not enough space to cache rdd_804_45 in memory! (computed 8.2 MiB so far)\n",
      "23/12/16 12:12:49 WARN MemoryStore: Not enough space to cache rdd_804_46 in memory! (computed 5.4 MiB so far)\n",
      "23/12/16 12:12:49 WARN MemoryStore: Not enough space to cache rdd_804_47 in memory! (computed 19.0 MiB so far)\n",
      "23/12/16 12:12:49 WARN MemoryStore: Not enough space to cache rdd_804_51 in memory! (computed 3.6 MiB so far)\n",
      "23/12/16 12:12:49 WARN MemoryStore: Not enough space to cache rdd_804_49 in memory! (computed 12.5 MiB so far)\n",
      "23/12/16 12:12:49 WARN MemoryStore: Not enough space to cache rdd_804_50 in memory! (computed 5.4 MiB so far)\n",
      "23/12/16 12:12:49 WARN MemoryStore: Not enough space to cache rdd_804_52 in memory! (computed 2.4 MiB so far)\n",
      "23/12/16 12:12:49 WARN MemoryStore: Not enough space to cache rdd_804_53 in memory! (computed 3.6 MiB so far)\n",
      "23/12/16 12:12:49 WARN MemoryStore: Not enough space to cache rdd_804_55 in memory! (computed 3.6 MiB so far)\n",
      "23/12/16 12:12:49 WARN MemoryStore: Not enough space to cache rdd_804_54 in memory! (computed 19.0 MiB so far)\n",
      "23/12/16 12:12:49 WARN MemoryStore: Not enough space to cache rdd_804_57 in memory! (computed 19.0 MiB so far)\n",
      "23/12/16 12:12:49 WARN MemoryStore: Not enough space to cache rdd_804_58 in memory! (computed 1594.6 KiB so far)\n",
      "23/12/16 12:12:49 WARN MemoryStore: Not enough space to cache rdd_804_60 in memory! (computed 1594.6 KiB so far)\n",
      "23/12/16 12:12:49 WARN MemoryStore: Not enough space to cache rdd_804_64 in memory! (computed 5.4 MiB so far)\n",
      "23/12/16 12:12:49 WARN MemoryStore: Not enough space to cache rdd_804_65 in memory! (computed 1051.9 KiB so far)\n",
      "23/12/16 12:12:49 WARN MemoryStore: Not enough space to cache rdd_804_63 in memory! (computed 19.0 MiB so far)\n",
      "23/12/16 12:12:49 WARN MemoryStore: Not enough space to cache rdd_804_66 in memory! (computed 1594.6 KiB so far)\n",
      "23/12/16 12:12:49 WARN MemoryStore: Not enough space to cache rdd_804_71 in memory! (computed 1594.6 KiB so far)\n",
      "23/12/16 12:12:49 WARN MemoryStore: Not enough space to cache rdd_804_68 in memory! (computed 19.0 MiB so far)\n",
      "23/12/16 12:12:49 WARN MemoryStore: Not enough space to cache rdd_804_72 in memory! (computed 2.4 MiB so far)\n",
      "23/12/16 12:12:49 WARN MemoryStore: Not enough space to cache rdd_804_74 in memory! (computed 12.5 MiB so far)\n",
      "23/12/16 12:12:49 WARN MemoryStore: Not enough space to cache rdd_804_73 in memory! (computed 12.5 MiB so far)\n",
      "23/12/16 12:12:49 WARN MemoryStore: Not enough space to cache rdd_804_75 in memory! (computed 5.4 MiB so far)\n",
      "23/12/16 12:12:50 WARN MemoryStore: Not enough space to cache rdd_804_76 in memory! (computed 19.0 MiB so far)\n",
      "23/12/16 12:12:50 WARN MemoryStore: Not enough space to cache rdd_804_78 in memory! (computed 8.2 MiB so far)\n",
      "23/12/16 12:12:50 WARN MemoryStore: Not enough space to cache rdd_804_80 in memory! (computed 12.5 MiB so far)\n",
      "23/12/16 12:12:50 WARN MemoryStore: Failed to reserve initial memory threshold of 1024.0 KiB for computing block rdd_804_81 in memory.\n",
      "23/12/16 12:12:50 WARN MemoryStore: Not enough space to cache rdd_804_81 in memory! (computed 384.0 B so far)\n",
      "23/12/16 12:12:50 WARN MemoryStore: Failed to reserve initial memory threshold of 1024.0 KiB for computing block rdd_804_86 in memory.\n",
      "23/12/16 12:12:50 WARN MemoryStore: Not enough space to cache rdd_804_86 in memory! (computed 384.0 B so far)\n",
      "23/12/16 12:12:50 WARN MemoryStore: Not enough space to cache rdd_804_85 in memory! (computed 8.2 MiB so far)\n",
      "23/12/16 12:12:50 WARN MemoryStore: Not enough space to cache rdd_804_84 in memory! (computed 12.5 MiB so far)\n",
      "23/12/16 12:12:50 WARN MemoryStore: Not enough space to cache rdd_804_90 in memory! (computed 3.6 MiB so far)\n",
      "23/12/16 12:12:50 WARN MemoryStore: Not enough space to cache rdd_804_89 in memory! (computed 3.6 MiB so far)\n",
      "23/12/16 12:12:50 WARN MemoryStore: Not enough space to cache rdd_804_91 in memory! (computed 1594.6 KiB so far)\n",
      "23/12/16 12:12:50 WARN MemoryStore: Not enough space to cache rdd_804_88 in memory! (computed 19.0 MiB so far)\n",
      "23/12/16 12:12:50 WARN MemoryStore: Not enough space to cache rdd_804_94 in memory! (computed 5.4 MiB so far)\n",
      "23/12/16 12:12:50 WARN MemoryStore: Not enough space to cache rdd_804_93 in memory! (computed 12.5 MiB so far)\n",
      "23/12/16 12:12:50 WARN MemoryStore: Not enough space to cache rdd_804_96 in memory! (computed 12.5 MiB so far)\n",
      "23/12/16 12:12:50 WARN MemoryStore: Not enough space to cache rdd_804_97 in memory! (computed 8.2 MiB so far)\n",
      "23/12/16 12:12:50 WARN MemoryStore: Not enough space to cache rdd_804_99 in memory! (computed 19.0 MiB so far)\n",
      "23/12/16 12:12:51 WARN MemoryStore: Not enough space to cache rdd_804_2 in memory! (computed 5.4 MiB so far)\n",
      "23/12/16 12:12:51 WARN MemoryStore: Not enough space to cache rdd_804_1 in memory! (computed 1594.6 KiB so far)\n",
      "23/12/16 12:12:51 WARN MemoryStore: Not enough space to cache rdd_804_3 in memory! (computed 12.5 MiB so far)\n",
      "23/12/16 12:12:51 WARN MemoryStore: Not enough space to cache rdd_804_0 in memory! (computed 19.0 MiB so far)\n",
      "23/12/16 12:12:51 WARN MemoryStore: Failed to reserve initial memory threshold of 1024.0 KiB for computing block rdd_804_5 in memory.\n",
      "23/12/16 12:12:51 WARN MemoryStore: Not enough space to cache rdd_804_5 in memory! (computed 384.0 B so far)\n",
      "23/12/16 12:12:51 WARN MemoryStore: Not enough space to cache rdd_804_4 in memory! (computed 1594.6 KiB so far)\n",
      "23/12/16 12:12:51 WARN MemoryStore: Not enough space to cache rdd_804_6 in memory! (computed 19.0 MiB so far)\n",
      "23/12/16 12:12:51 WARN MemoryStore: Not enough space to cache rdd_804_7 in memory! (computed 5.4 MiB so far)\n",
      "23/12/16 12:12:51 WARN MemoryStore: Not enough space to cache rdd_804_8 in memory! (computed 12.5 MiB so far)\n",
      "23/12/16 12:12:51 WARN MemoryStore: Failed to reserve initial memory threshold of 1024.0 KiB for computing block rdd_804_10 in memory.\n",
      "23/12/16 12:12:51 WARN MemoryStore: Not enough space to cache rdd_804_10 in memory! (computed 384.0 B so far)\n",
      "23/12/16 12:12:51 WARN MemoryStore: Not enough space to cache rdd_804_9 in memory! (computed 2.4 MiB so far)\n",
      "23/12/16 12:12:51 WARN MemoryStore: Not enough space to cache rdd_804_11 in memory! (computed 19.0 MiB so far)\n",
      "23/12/16 12:12:51 WARN MemoryStore: Failed to reserve initial memory threshold of 1024.0 KiB for computing block rdd_804_15 in memory.\n",
      "23/12/16 12:12:51 WARN MemoryStore: Not enough space to cache rdd_804_14 in memory! (computed 2.4 MiB so far)\n",
      "23/12/16 12:12:51 WARN MemoryStore: Not enough space to cache rdd_804_15 in memory! (computed 384.0 B so far)\n",
      "23/12/16 12:12:51 WARN MemoryStore: Not enough space to cache rdd_804_13 in memory! (computed 12.5 MiB so far)\n",
      "23/12/16 12:12:51 WARN MemoryStore: Not enough space to cache rdd_804_12 in memory! (computed 8.2 MiB so far)\n",
      "23/12/16 12:12:51 WARN MemoryStore: Not enough space to cache rdd_804_19 in memory! (computed 1594.6 KiB so far)\n",
      "23/12/16 12:12:51 WARN MemoryStore: Not enough space to cache rdd_804_16 in memory! (computed 8.2 MiB so far)\n",
      "23/12/16 12:12:51 WARN MemoryStore: Not enough space to cache rdd_804_18 in memory! (computed 5.4 MiB so far)\n",
      "23/12/16 12:12:51 WARN MemoryStore: Not enough space to cache rdd_804_17 in memory! (computed 5.4 MiB so far)\n",
      "23/12/16 12:12:51 WARN MemoryStore: Not enough space to cache rdd_804_23 in memory! (computed 3.6 MiB so far)\n",
      "23/12/16 12:12:51 WARN MemoryStore: Not enough space to cache rdd_804_21 in memory! (computed 5.4 MiB so far)\n",
      "23/12/16 12:12:51 WARN MemoryStore: Not enough space to cache rdd_804_20 in memory! (computed 5.4 MiB so far)\n",
      "23/12/16 12:12:51 WARN MemoryStore: Not enough space to cache rdd_804_22 in memory! (computed 19.0 MiB so far)\n",
      "23/12/16 12:12:51 WARN MemoryStore: Not enough space to cache rdd_804_24 in memory! (computed 8.2 MiB so far)\n",
      "23/12/16 12:12:51 WARN MemoryStore: Not enough space to cache rdd_804_27 in memory! (computed 2.4 MiB so far)\n",
      "23/12/16 12:12:51 WARN MemoryStore: Not enough space to cache rdd_804_25 in memory! (computed 8.2 MiB so far)\n",
      "23/12/16 12:12:51 WARN MemoryStore: Not enough space to cache rdd_804_26 in memory! (computed 19.0 MiB so far)\n",
      "23/12/16 12:12:52 WARN MemoryStore: Not enough space to cache rdd_804_31 in memory! (computed 1051.9 KiB so far)\n",
      "23/12/16 12:12:52 WARN MemoryStore: Not enough space to cache rdd_804_30 in memory! (computed 8.2 MiB so far)\n",
      "23/12/16 12:12:52 WARN MemoryStore: Not enough space to cache rdd_804_28 in memory! (computed 8.2 MiB so far)\n",
      "23/12/16 12:12:52 WARN MemoryStore: Not enough space to cache rdd_804_29 in memory! (computed 19.0 MiB so far)\n",
      "23/12/16 12:12:52 WARN MemoryStore: Not enough space to cache rdd_804_33 in memory! (computed 12.5 MiB so far)\n",
      "23/12/16 12:12:52 WARN MemoryStore: Not enough space to cache rdd_804_32 in memory! (computed 8.2 MiB so far)\n",
      "23/12/16 12:12:52 WARN MemoryStore: Not enough space to cache rdd_804_35 in memory! (computed 5.4 MiB so far)\n",
      "23/12/16 12:12:52 WARN MemoryStore: Not enough space to cache rdd_804_34 in memory! (computed 12.5 MiB so far)\n",
      "23/12/16 12:12:52 WARN MemoryStore: Not enough space to cache rdd_804_36 in memory! (computed 8.2 MiB so far)\n",
      "23/12/16 12:12:52 WARN MemoryStore: Not enough space to cache rdd_804_38 in memory! (computed 1594.6 KiB so far)\n",
      "23/12/16 12:12:52 WARN MemoryStore: Not enough space to cache rdd_804_37 in memory! (computed 19.0 MiB so far)\n",
      "23/12/16 12:12:52 WARN MemoryStore: Failed to reserve initial memory threshold of 1024.0 KiB for computing block rdd_804_40 in memory.\n",
      "23/12/16 12:12:52 WARN MemoryStore: Not enough space to cache rdd_804_40 in memory! (computed 384.0 B so far)\n",
      "23/12/16 12:12:52 WARN MemoryStore: Not enough space to cache rdd_804_39 in memory! (computed 1594.6 KiB so far)\n",
      "23/12/16 12:12:52 WARN MemoryStore: Not enough space to cache rdd_804_42 in memory! (computed 1594.6 KiB so far)\n",
      "23/12/16 12:12:52 WARN MemoryStore: Failed to reserve initial memory threshold of 1024.0 KiB for computing block rdd_804_43 in memory.\n",
      "23/12/16 12:12:52 WARN MemoryStore: Not enough space to cache rdd_804_43 in memory! (computed 384.0 B so far)\n",
      "23/12/16 12:12:52 WARN MemoryStore: Not enough space to cache rdd_804_41 in memory! (computed 19.0 MiB so far)\n",
      "23/12/16 12:12:52 WARN MemoryStore: Not enough space to cache rdd_804_45 in memory! (computed 1594.6 KiB so far)\n",
      "23/12/16 12:12:52 WARN MemoryStore: Not enough space to cache rdd_804_44 in memory! (computed 19.0 MiB so far)\n",
      "23/12/16 12:12:52 WARN MemoryStore: Failed to reserve initial memory threshold of 1024.0 KiB for computing block rdd_804_47 in memory.\n",
      "23/12/16 12:12:52 WARN MemoryStore: Not enough space to cache rdd_804_47 in memory! (computed 384.0 B so far)\n",
      "23/12/16 12:12:52 WARN MemoryStore: Not enough space to cache rdd_804_46 in memory! (computed 19.0 MiB so far)\n",
      "23/12/16 12:12:52 WARN MemoryStore: Not enough space to cache rdd_804_49 in memory! (computed 8.2 MiB so far)\n",
      "23/12/16 12:12:52 WARN MemoryStore: Not enough space to cache rdd_804_51 in memory! (computed 3.6 MiB so far)\n",
      "23/12/16 12:12:52 WARN MemoryStore: Not enough space to cache rdd_804_52 in memory! (computed 1594.6 KiB so far)\n",
      "23/12/16 12:12:52 WARN MemoryStore: Not enough space to cache rdd_804_50 in memory! (computed 19.0 MiB so far)\n",
      "23/12/16 12:12:52 WARN MemoryStore: Not enough space to cache rdd_804_53 in memory! (computed 8.2 MiB so far)\n",
      "23/12/16 12:12:52 WARN MemoryStore: Not enough space to cache rdd_804_54 in memory! (computed 8.2 MiB so far)\n",
      "23/12/16 12:12:52 WARN MemoryStore: Not enough space to cache rdd_804_57 in memory! (computed 1594.6 KiB so far)\n",
      "23/12/16 12:12:52 WARN MemoryStore: Not enough space to cache rdd_804_55 in memory! (computed 19.0 MiB so far)\n",
      "23/12/16 12:12:53 WARN MemoryStore: Not enough space to cache rdd_804_60 in memory! (computed 8.2 MiB so far)\n",
      "23/12/16 12:12:53 WARN MemoryStore: Not enough space to cache rdd_804_58 in memory! (computed 12.5 MiB so far)\n",
      "23/12/16 12:12:53 WARN MemoryStore: Not enough space to cache rdd_804_64 in memory! (computed 12.5 MiB so far)\n",
      "23/12/16 12:12:53 WARN MemoryStore: Not enough space to cache rdd_804_66 in memory! (computed 2.4 MiB so far)\n",
      "23/12/16 12:12:53 WARN MemoryStore: Not enough space to cache rdd_804_65 in memory! (computed 5.4 MiB so far)\n",
      "23/12/16 12:12:53 WARN MemoryStore: Not enough space to cache rdd_804_63 in memory! (computed 19.0 MiB so far)\n",
      "23/12/16 12:12:53 WARN MemoryStore: Not enough space to cache rdd_804_68 in memory! (computed 19.0 MiB so far)\n",
      "23/12/16 12:12:53 WARN MemoryStore: Not enough space to cache rdd_804_74 in memory! (computed 2.4 MiB so far)\n",
      "23/12/16 12:12:53 WARN MemoryStore: Not enough space to cache rdd_804_73 in memory! (computed 2.4 MiB so far)\n",
      "23/12/16 12:12:54 WARN MemoryStore: Not enough space to cache rdd_804_72 in memory! (computed 8.2 MiB so far)\n",
      "23/12/16 12:12:54 WARN MemoryStore: Not enough space to cache rdd_804_71 in memory! (computed 8.2 MiB so far)\n",
      "23/12/16 12:12:54 WARN MemoryStore: Not enough space to cache rdd_804_75 in memory! (computed 12.5 MiB so far)\n",
      "23/12/16 12:12:54 WARN MemoryStore: Not enough space to cache rdd_804_76 in memory! (computed 8.2 MiB so far)\n",
      "23/12/16 12:12:54 WARN MemoryStore: Not enough space to cache rdd_804_78 in memory! (computed 12.5 MiB so far)\n",
      "23/12/16 12:12:54 WARN MemoryStore: Not enough space to cache rdd_804_80 in memory! (computed 2.4 MiB so far)\n",
      "23/12/16 12:12:54 WARN MemoryStore: Not enough space to cache rdd_804_81 in memory! (computed 19.0 MiB so far)\n",
      "23/12/16 12:12:54 WARN MemoryStore: Not enough space to cache rdd_804_85 in memory! (computed 1594.6 KiB so far)\n",
      "23/12/16 12:12:54 WARN MemoryStore: Not enough space to cache rdd_804_84 in memory! (computed 19.0 MiB so far)\n",
      "23/12/16 12:12:54 WARN MemoryStore: Not enough space to cache rdd_804_86 in memory! (computed 1594.6 KiB so far)\n",
      "23/12/16 12:12:54 WARN MemoryStore: Not enough space to cache rdd_804_88 in memory! (computed 19.0 MiB so far)\n",
      "23/12/16 12:12:55 WARN MemoryStore: Not enough space to cache rdd_804_90 in memory! (computed 12.5 MiB so far)\n",
      "23/12/16 12:12:55 WARN MemoryStore: Not enough space to cache rdd_804_89 in memory! (computed 8.2 MiB so far)\n",
      "23/12/16 12:12:55 WARN MemoryStore: Failed to reserve initial memory threshold of 1024.0 KiB for computing block rdd_804_91 in memory.\n",
      "23/12/16 12:12:55 WARN MemoryStore: Not enough space to cache rdd_804_91 in memory! (computed 384.0 B so far)\n",
      "23/12/16 12:12:55 WARN MemoryStore: Not enough space to cache rdd_804_94 in memory! (computed 12.5 MiB so far)\n",
      "23/12/16 12:12:55 WARN MemoryStore: Not enough space to cache rdd_804_93 in memory! (computed 8.2 MiB so far)\n",
      "23/12/16 12:12:55 WARN MemoryStore: Not enough space to cache rdd_804_96 in memory! (computed 12.5 MiB so far)\n",
      "23/12/16 12:12:55 WARN MemoryStore: Not enough space to cache rdd_804_97 in memory! (computed 3.6 MiB so far)\n",
      "23/12/16 12:12:55 WARN MemoryStore: Not enough space to cache rdd_804_99 in memory! (computed 3.6 MiB so far)\n",
      "23/12/16 12:12:56 WARN MemoryStore: Not enough space to cache rdd_804_1 in memory! (computed 3.6 MiB so far)\n",
      "23/12/16 12:12:56 WARN MemoryStore: Not enough space to cache rdd_804_0 in memory! (computed 5.4 MiB so far)\n",
      "23/12/16 12:12:56 WARN MemoryStore: Not enough space to cache rdd_804_3 in memory! (computed 5.4 MiB so far)\n",
      "23/12/16 12:12:56 WARN MemoryStore: Not enough space to cache rdd_804_2 in memory! (computed 8.2 MiB so far)\n",
      "23/12/16 12:12:56 WARN MemoryStore: Failed to reserve initial memory threshold of 1024.0 KiB for computing block rdd_804_6 in memory.\n",
      "23/12/16 12:12:56 WARN MemoryStore: Not enough space to cache rdd_804_6 in memory! (computed 384.0 B so far)\n",
      "23/12/16 12:12:56 WARN MemoryStore: Not enough space to cache rdd_804_4 in memory! (computed 12.5 MiB so far)\n",
      "23/12/16 12:12:56 WARN MemoryStore: Not enough space to cache rdd_804_5 in memory! (computed 8.2 MiB so far)\n",
      "23/12/16 12:12:56 WARN MemoryStore: Not enough space to cache rdd_804_7 in memory! (computed 19.0 MiB so far)\n",
      "23/12/16 12:12:56 WARN MemoryStore: Not enough space to cache rdd_804_8 in memory! (computed 1594.6 KiB so far)\n",
      "23/12/16 12:12:57 WARN MemoryStore: Not enough space to cache rdd_804_9 in memory! (computed 3.6 MiB so far)\n",
      "23/12/16 12:12:57 WARN MemoryStore: Not enough space to cache rdd_804_10 in memory! (computed 12.5 MiB so far)\n",
      "23/12/16 12:12:57 WARN MemoryStore: Not enough space to cache rdd_804_11 in memory! (computed 3.6 MiB so far)\n",
      "[Stage 428:====>                                                  (9 + 4) / 100]\r"
     ]
    }
   ],
   "source": [
    "\n",
    "dt_classifier = DecisionTreeClassifier()\n",
    "dt_Tr = dt_classifier.fit(sfcrime_train)\n",
    "\n",
    "results_dt = dt_Tr.transform(sfcrime_test)"
   ]
  },
  {
   "cell_type": "code",
   "execution_count": 150,
   "id": "9b46c767",
   "metadata": {},
   "outputs": [
    {
     "name": "stderr",
     "output_type": "stream",
     "text": [
      "[Stage 801:==============>                                          (1 + 3) / 4]\r"
     ]
    },
    {
     "name": "stdout",
     "output_type": "stream",
     "text": [
      "+-----+----------+\n",
      "|label|prediction|\n",
      "+-----+----------+\n",
      "|  0.0|       0.0|\n",
      "|  0.0|       0.0|\n",
      "|  0.0|       0.0|\n",
      "|  0.0|       0.0|\n",
      "| 12.0|      12.0|\n",
      "| 12.0|       0.0|\n",
      "|  0.0|       0.0|\n",
      "|  0.0|       0.0|\n",
      "|  0.0|       0.0|\n",
      "|  0.0|       0.0|\n",
      "|  0.0|       0.0|\n",
      "|  0.0|       0.0|\n",
      "|  0.0|       0.0|\n",
      "|  0.0|       0.0|\n",
      "|  0.0|       0.0|\n",
      "|  0.0|       0.0|\n",
      "|  0.0|       0.0|\n",
      "|  0.0|       0.0|\n",
      "|  0.0|       0.0|\n",
      "|  0.0|       0.0|\n",
      "+-----+----------+\n",
      "only showing top 20 rows\n",
      "\n"
     ]
    },
    {
     "name": "stderr",
     "output_type": "stream",
     "text": [
      "                                                                                \r"
     ]
    }
   ],
   "source": [
    "results_dt.select('label','prediction').show()"
   ]
  },
  {
   "cell_type": "code",
   "execution_count": 149,
   "id": "ed585eb4",
   "metadata": {},
   "outputs": [],
   "source": [
    "results_dt = dt_Tr.transform(sfcrime_test)"
   ]
  },
  {
   "cell_type": "code",
   "execution_count": 147,
   "id": "8a1b633c",
   "metadata": {},
   "outputs": [
    {
     "name": "stderr",
     "output_type": "stream",
     "text": [
      "[Stage 788:============================>                            (2 + 2) / 4]\r"
     ]
    },
    {
     "name": "stdout",
     "output_type": "stream",
     "text": [
      "Accuracy of model Decision Tree = 0.551852\n"
     ]
    },
    {
     "name": "stderr",
     "output_type": "stream",
     "text": [
      "/usr/local/lib/python3.8/dist-packages/sklearn/metrics/_classification.py:2922: UserWarning: The y_pred values do not sum to one. Starting from 1.5 thiswill result in an error.\n",
      "  warnings.warn(\n"
     ]
    },
    {
     "name": "stdout",
     "output_type": "stream",
     "text": [
      "LogLoss of model Decision Tree = 1.45685\n"
     ]
    }
   ],
   "source": [
    "#Evaluate the model\n",
    "evaluation(results_dt, 'Decision Tree')"
   ]
  },
  {
   "cell_type": "markdown",
   "id": "5b5d5c94",
   "metadata": {},
   "source": [
    "#### 2. Naive Bayes\n"
   ]
  },
  {
   "cell_type": "code",
   "execution_count": 116,
   "id": "e6ab8ff2",
   "metadata": {},
   "outputs": [
    {
     "name": "stderr",
     "output_type": "stream",
     "text": [
      "                                                                                \r"
     ]
    }
   ],
   "source": [
    "#Classification with NaiveBayes\n",
    "from pyspark.ml.classification import NaiveBayes\n",
    "\n",
    "nb = NaiveBayes(smoothing=1.0, modelType=\"multinomial\")\n",
    "nb_Tr = nb.fit(sfcrime_train)\n",
    "\n",
    "results_nb = nb_Tr.transform(sfcrime_test)\n"
   ]
  },
  {
   "cell_type": "code",
   "execution_count": 152,
   "id": "8d1685e3",
   "metadata": {},
   "outputs": [
    {
     "name": "stderr",
     "output_type": "stream",
     "text": [
      "[Stage 807:==============>                                          (1 + 3) / 4]\r"
     ]
    },
    {
     "name": "stdout",
     "output_type": "stream",
     "text": [
      "+-----+----------+\n",
      "|label|prediction|\n",
      "+-----+----------+\n",
      "|  0.0|      29.0|\n",
      "|  0.0|       0.0|\n",
      "|  0.0|       0.0|\n",
      "|  0.0|      31.0|\n",
      "| 12.0|      12.0|\n",
      "| 12.0|      12.0|\n",
      "|  0.0|       0.0|\n",
      "|  0.0|       0.0|\n",
      "|  0.0|       0.0|\n",
      "|  0.0|       0.0|\n",
      "|  0.0|       0.0|\n",
      "|  0.0|       0.0|\n",
      "|  0.0|       0.0|\n",
      "|  0.0|       0.0|\n",
      "|  0.0|       0.0|\n",
      "|  0.0|       0.0|\n",
      "|  0.0|       0.0|\n",
      "|  0.0|       0.0|\n",
      "|  0.0|      29.0|\n",
      "|  0.0|       0.0|\n",
      "+-----+----------+\n",
      "only showing top 20 rows\n",
      "\n"
     ]
    }
   ],
   "source": [
    "results_nb.select('label','prediction').show()"
   ]
  },
  {
   "cell_type": "code",
   "execution_count": 153,
   "id": "ef0cf072",
   "metadata": {},
   "outputs": [
    {
     "name": "stderr",
     "output_type": "stream",
     "text": [
      "[Stage 705:>                                                        (0 + 4) / 4]\r"
     ]
    },
    {
     "name": "stdout",
     "output_type": "stream",
     "text": [
      "Accuracy = 0.988134\n"
     ]
    },
    {
     "name": "stderr",
     "output_type": "stream",
     "text": [
      "                                                                                \r"
     ]
    },
    {
     "name": "stderr",
     "output_type": "stream",
     "text": [
      "                                                                                \r"
     ]
    },
    {
     "name": "stderr",
     "output_type": "stream",
     "text": [
      "[Stage 813:==============>                                          (1 + 3) / 4]\r"
     ]
    },
    {
     "name": "stdout",
     "output_type": "stream",
     "text": [
      "Accuracy of model Naive Bayes = 0.988134\n"
     ]
    },
    {
     "name": "stderr",
     "output_type": "stream",
     "text": [
      "/usr/local/lib/python3.8/dist-packages/sklearn/metrics/_classification.py:2922: UserWarning: The y_pred values do not sum to one. Starting from 1.5 thiswill result in an error.\n",
      "  warnings.warn(\n"
     ]
    },
    {
     "name": "stdout",
     "output_type": "stream",
     "text": [
      "LogLoss of model Naive Bayes = 0.0667632\n"
     ]
    }
   ],
   "source": [
    "evaluation(results_nb, 'Naive Bayes')"
   ]
  },
  {
   "cell_type": "markdown",
   "id": "dd9e4a21",
   "metadata": {},
   "source": [
    "#### 3. Logistic Regression"
   ]
  },
  {
   "cell_type": "code",
   "execution_count": null,
   "id": "2f5b3377",
   "metadata": {},
   "outputs": [],
   "source": [
    "#TODO: hyperparameter tuning"
   ]
  },
  {
   "cell_type": "code",
   "execution_count": 105,
   "id": "8fd16d1c",
   "metadata": {},
   "outputs": [
    {
     "name": "stderr",
     "output_type": "stream",
     "text": [
      "[Stage 379:==============>                                          (1 + 3) / 4]\r"
     ]
    },
    {
     "name": "stderr",
     "output_type": "stream",
     "text": [
      "[Stage 379:============================>                            (2 + 2) / 4]\r"
     ]
    },
    {
     "name": "stderr",
     "output_type": "stream",
     "text": [
      "                                                                                \r"
     ]
    },
    {
     "name": "stderr",
     "output_type": "stream",
     "text": [
      "23/12/16 12:14:44 WARN InstanceBuilder: Failed to load implementation from:dev.ludovic.netlib.blas.JNIBLAS\n",
      "[Stage 565:==========================================>              (3 + 1) / 4]\r"
     ]
    }
   ],
   "source": [
    "from pyspark.ml.classification import LogisticRegression\n",
    "\n",
    "lr = LogisticRegression(maxIter=20, regParam=0.3, elasticNetParam=0)\n",
    "lrModel = lr.fit(sfcrime_train)\n",
    "\n",
    "results_lr = lrModel.transform(sfcrime_test)"
   ]
  },
  {
   "cell_type": "code",
   "execution_count": 155,
   "id": "a8c77ba0",
   "metadata": {},
   "outputs": [
    {
     "name": "stderr",
     "output_type": "stream",
     "text": [
      "[Stage 826:==============>                                          (1 + 3) / 4]\r"
     ]
    },
    {
     "name": "stdout",
     "output_type": "stream",
     "text": [
      "+-----+----------+\n",
      "|label|prediction|\n",
      "+-----+----------+\n",
      "|  0.0|       0.0|\n",
      "|  0.0|       0.0|\n",
      "|  0.0|       0.0|\n",
      "|  0.0|       0.0|\n",
      "| 12.0|      12.0|\n",
      "| 12.0|      12.0|\n",
      "|  0.0|       0.0|\n",
      "|  0.0|       0.0|\n",
      "|  0.0|       0.0|\n",
      "|  0.0|       0.0|\n",
      "|  0.0|       0.0|\n",
      "|  0.0|       0.0|\n",
      "|  0.0|       0.0|\n",
      "|  0.0|       0.0|\n",
      "|  0.0|       0.0|\n",
      "|  0.0|       0.0|\n",
      "|  0.0|       0.0|\n",
      "|  0.0|       0.0|\n",
      "|  0.0|       0.0|\n",
      "|  0.0|       0.0|\n",
      "+-----+----------+\n",
      "only showing top 20 rows\n",
      "\n"
     ]
    }
   ],
   "source": [
    "results_lr.select('label','prediction').show()"
   ]
  },
  {
   "cell_type": "code",
   "execution_count": 156,
   "id": "ebacf451",
   "metadata": {},
   "outputs": [
    {
     "name": "stderr",
     "output_type": "stream",
     "text": [
      "[Stage 577:=================================================>    (91 + 4) / 100]\r"
     ]
    },
    {
     "name": "stdout",
     "output_type": "stream",
     "text": [
      "Accuracy = 0.980246\n"
     ]
    },
    {
     "name": "stderr",
     "output_type": "stream",
     "text": [
      "                                                                                \r"
     ]
    },
    {
     "name": "stderr",
     "output_type": "stream",
     "text": [
      "                                                                                \r"
     ]
    },
    {
     "name": "stderr",
     "output_type": "stream",
     "text": [
      "[Stage 832:==============>                                          (1 + 3) / 4]\r"
     ]
    },
    {
     "name": "stdout",
     "output_type": "stream",
     "text": [
      "Accuracy of model Logistic Regression = 0.980246\n"
     ]
    },
    {
     "name": "stderr",
     "output_type": "stream",
     "text": [
      "[Stage 837:===========================================>          (81 + 4) / 100]"
     ]
    },
    {
     "name": "stdout",
     "output_type": "stream",
     "text": [
      "LogLoss of model Logistic Regression = 0.50789\n"
     ]
    },
    {
     "name": "stderr",
     "output_type": "stream",
     "text": [
      "                                                                                \r"
     ]
    }
   ],
   "source": [
    "evaluation(results_lr, 'Logistic Regression')"
   ]
  },
  {
   "cell_type": "markdown",
   "id": "759b8d90",
   "metadata": {},
   "source": [
    "#### 4. Random forests"
   ]
  },
  {
   "cell_type": "code",
   "execution_count": 109,
   "id": "1e305dbd",
   "metadata": {},
   "outputs": [
    {
     "name": "stderr",
     "output_type": "stream",
     "text": [
      "23/12/16 12:16:35 WARN MemoryStore: Not enough space to cache rdd_1110_16 in memory! (computed 19.2 MiB so far)\n",
      "23/12/16 12:16:35 WARN BlockManager: Persisting block rdd_1110_16 to disk instead.\n",
      "23/12/16 12:16:35 WARN MemoryStore: Not enough space to cache rdd_1110_18 in memory! (computed 3.6 MiB so far)\n",
      "23/12/16 12:16:35 WARN BlockManager: Persisting block rdd_1110_18 to disk instead.\n",
      "23/12/16 12:16:35 WARN MemoryStore: Not enough space to cache rdd_1110_17 in memory! (computed 2.4 MiB so far)\n",
      "23/12/16 12:16:35 WARN BlockManager: Persisting block rdd_1110_17 to disk instead.\n",
      "23/12/16 12:16:35 WARN MemoryStore: Not enough space to cache rdd_1110_16 in memory! (computed 8.3 MiB so far)\n",
      "23/12/16 12:16:35 WARN MemoryStore: Not enough space to cache rdd_1110_17 in memory! (computed 2.4 MiB so far)\n",
      "23/12/16 12:16:35 WARN MemoryStore: Not enough space to cache rdd_1110_18 in memory! (computed 8.3 MiB so far)\n",
      "23/12/16 12:16:35 WARN MemoryStore: Not enough space to cache rdd_1110_20 in memory! (computed 5.5 MiB so far)\n",
      "23/12/16 12:16:35 WARN BlockManager: Persisting block rdd_1110_20 to disk instead.\n",
      "23/12/16 12:16:35 WARN MemoryStore: Not enough space to cache rdd_1110_22 in memory! (computed 1614.5 KiB so far)\n",
      "23/12/16 12:16:35 WARN BlockManager: Persisting block rdd_1110_22 to disk instead.\n",
      "23/12/16 12:16:36 WARN MemoryStore: Not enough space to cache rdd_1110_21 in memory! (computed 3.6 MiB so far)\n",
      "23/12/16 12:16:36 WARN BlockManager: Persisting block rdd_1110_21 to disk instead.\n",
      "23/12/16 12:16:36 WARN MemoryStore: Failed to reserve initial memory threshold of 1024.0 KiB for computing block rdd_1110_23 in memory.\n",
      "23/12/16 12:16:36 WARN MemoryStore: Not enough space to cache rdd_1110_23 in memory! (computed 384.0 B so far)\n",
      "23/12/16 12:16:36 WARN BlockManager: Persisting block rdd_1110_23 to disk instead.\n",
      "23/12/16 12:16:36 WARN MemoryStore: Not enough space to cache rdd_1110_22 in memory! (computed 19.2 MiB so far)\n",
      "23/12/16 12:16:37 WARN MemoryStore: Not enough space to cache rdd_1110_23 in memory! (computed 12.6 MiB so far)\n",
      "23/12/16 12:16:37 WARN MemoryStore: Not enough space to cache rdd_1110_25 in memory! (computed 5.5 MiB so far)\n",
      "23/12/16 12:16:37 WARN BlockManager: Persisting block rdd_1110_25 to disk instead.\n",
      "23/12/16 12:16:37 WARN MemoryStore: Not enough space to cache rdd_1110_24 in memory! (computed 8.3 MiB so far)\n",
      "23/12/16 12:16:37 WARN BlockManager: Persisting block rdd_1110_24 to disk instead.\n",
      "23/12/16 12:16:37 WARN MemoryStore: Not enough space to cache rdd_1110_21 in memory! (computed 19.2 MiB so far)\n",
      "23/12/16 12:16:37 WARN MemoryStore: Not enough space to cache rdd_1110_25 in memory! (computed 3.6 MiB so far)\n",
      "23/12/16 12:16:37 WARN MemoryStore: Not enough space to cache rdd_1110_24 in memory! (computed 12.6 MiB so far)\n",
      "23/12/16 12:16:37 WARN MemoryStore: Not enough space to cache rdd_1110_26 in memory! (computed 8.3 MiB so far)\n",
      "23/12/16 12:16:37 WARN BlockManager: Persisting block rdd_1110_26 to disk instead.\n",
      "23/12/16 12:16:37 WARN MemoryStore: Failed to reserve initial memory threshold of 1024.0 KiB for computing block rdd_1110_29 in memory.\n",
      "23/12/16 12:16:37 WARN MemoryStore: Not enough space to cache rdd_1110_29 in memory! (computed 384.0 B so far)\n",
      "23/12/16 12:16:37 WARN BlockManager: Persisting block rdd_1110_29 to disk instead.\n",
      "23/12/16 12:16:38 WARN MemoryStore: Not enough space to cache rdd_1110_29 in memory! (computed 1614.5 KiB so far)\n",
      "23/12/16 12:16:38 WARN MemoryStore: Not enough space to cache rdd_1110_30 in memory! (computed 1614.5 KiB so far)\n",
      "23/12/16 12:16:38 WARN BlockManager: Persisting block rdd_1110_30 to disk instead.\n",
      "23/12/16 12:16:38 WARN MemoryStore: Not enough space to cache rdd_1110_32 in memory! (computed 3.6 MiB so far)\n",
      "23/12/16 12:16:38 WARN BlockManager: Persisting block rdd_1110_32 to disk instead.\n",
      "23/12/16 12:16:38 WARN MemoryStore: Not enough space to cache rdd_1110_30 in memory! (computed 12.6 MiB so far)\n",
      "23/12/16 12:16:38 WARN MemoryStore: Not enough space to cache rdd_1110_31 in memory! (computed 12.6 MiB so far)\n",
      "23/12/16 12:16:38 WARN BlockManager: Persisting block rdd_1110_31 to disk instead.\n",
      "23/12/16 12:16:38 WARN MemoryStore: Not enough space to cache rdd_1110_33 in memory! (computed 19.2 MiB so far)\n",
      "23/12/16 12:16:38 WARN BlockManager: Persisting block rdd_1110_33 to disk instead.\n",
      "23/12/16 12:16:38 WARN MemoryStore: Not enough space to cache rdd_1110_31 in memory! (computed 12.6 MiB so far)\n",
      "23/12/16 12:16:38 WARN MemoryStore: Not enough space to cache rdd_1110_34 in memory! (computed 5.5 MiB so far)\n",
      "23/12/16 12:16:38 WARN BlockManager: Persisting block rdd_1110_34 to disk instead.\n",
      "23/12/16 12:16:38 WARN MemoryStore: Not enough space to cache rdd_1110_32 in memory! (computed 8.3 MiB so far)\n",
      "23/12/16 12:16:39 WARN MemoryStore: Not enough space to cache rdd_1110_33 in memory! (computed 19.2 MiB so far)\n",
      "23/12/16 12:16:39 WARN MemoryStore: Not enough space to cache rdd_1110_34 in memory! (computed 19.2 MiB so far)\n",
      "23/12/16 12:16:39 WARN MemoryStore: Not enough space to cache rdd_1110_36 in memory! (computed 8.3 MiB so far)\n",
      "23/12/16 12:16:39 WARN BlockManager: Persisting block rdd_1110_36 to disk instead.\n",
      "23/12/16 12:16:39 WARN MemoryStore: Not enough space to cache rdd_1110_35 in memory! (computed 19.2 MiB so far)\n",
      "23/12/16 12:16:39 WARN BlockManager: Persisting block rdd_1110_35 to disk instead.\n",
      "23/12/16 12:16:39 WARN MemoryStore: Not enough space to cache rdd_1110_37 in memory! (computed 5.5 MiB so far)\n",
      "23/12/16 12:16:39 WARN BlockManager: Persisting block rdd_1110_37 to disk instead.\n",
      "23/12/16 12:16:39 WARN MemoryStore: Not enough space to cache rdd_1110_35 in memory! (computed 12.6 MiB so far)\n",
      "23/12/16 12:16:39 WARN MemoryStore: Not enough space to cache rdd_1110_36 in memory! (computed 12.6 MiB so far)\n",
      "23/12/16 12:16:39 WARN MemoryStore: Not enough space to cache rdd_1110_38 in memory! (computed 12.6 MiB so far)\n",
      "23/12/16 12:16:39 WARN BlockManager: Persisting block rdd_1110_38 to disk instead.\n",
      "23/12/16 12:16:39 WARN MemoryStore: Not enough space to cache rdd_1110_37 in memory! (computed 1614.5 KiB so far)\n",
      "23/12/16 12:16:40 WARN MemoryStore: Not enough space to cache rdd_1110_40 in memory! (computed 3.6 MiB so far)\n",
      "23/12/16 12:16:40 WARN BlockManager: Persisting block rdd_1110_40 to disk instead.\n",
      "23/12/16 12:16:40 WARN MemoryStore: Not enough space to cache rdd_1110_41 in memory! (computed 8.3 MiB so far)\n",
      "23/12/16 12:16:40 WARN BlockManager: Persisting block rdd_1110_41 to disk instead.\n",
      "23/12/16 12:16:40 WARN MemoryStore: Not enough space to cache rdd_1110_42 in memory! (computed 5.5 MiB so far)\n",
      "23/12/16 12:16:40 WARN BlockManager: Persisting block rdd_1110_42 to disk instead.\n",
      "23/12/16 12:16:40 WARN MemoryStore: Not enough space to cache rdd_1110_39 in memory! (computed 19.2 MiB so far)\n",
      "23/12/16 12:16:40 WARN BlockManager: Persisting block rdd_1110_39 to disk instead.\n",
      "23/12/16 12:16:40 WARN MemoryStore: Not enough space to cache rdd_1110_40 in memory! (computed 12.6 MiB so far)\n",
      "23/12/16 12:16:40 WARN MemoryStore: Not enough space to cache rdd_1110_41 in memory! (computed 12.6 MiB so far)\n",
      "23/12/16 12:16:40 WARN MemoryStore: Not enough space to cache rdd_1110_39 in memory! (computed 19.2 MiB so far)\n",
      "23/12/16 12:16:40 WARN MemoryStore: Not enough space to cache rdd_1110_44 in memory! (computed 2.4 MiB so far)\n",
      "23/12/16 12:16:40 WARN BlockManager: Persisting block rdd_1110_44 to disk instead.\n",
      "23/12/16 12:16:41 WARN MemoryStore: Not enough space to cache rdd_1110_43 in memory! (computed 19.2 MiB so far)\n",
      "23/12/16 12:16:41 WARN BlockManager: Persisting block rdd_1110_43 to disk instead.\n",
      "23/12/16 12:16:41 WARN MemoryStore: Not enough space to cache rdd_1110_46 in memory! (computed 3.6 MiB so far)\n",
      "23/12/16 12:16:41 WARN BlockManager: Persisting block rdd_1110_46 to disk instead.\n",
      "23/12/16 12:16:41 WARN MemoryStore: Not enough space to cache rdd_1110_45 in memory! (computed 3.6 MiB so far)\n",
      "23/12/16 12:16:41 WARN BlockManager: Persisting block rdd_1110_45 to disk instead.\n",
      "23/12/16 12:16:41 WARN MemoryStore: Not enough space to cache rdd_1110_44 in memory! (computed 12.6 MiB so far)\n",
      "23/12/16 12:16:41 WARN MemoryStore: Not enough space to cache rdd_1110_43 in memory! (computed 19.2 MiB so far)\n",
      "23/12/16 12:16:41 WARN MemoryStore: Not enough space to cache rdd_1110_45 in memory! (computed 12.6 MiB so far)\n",
      "23/12/16 12:16:41 WARN MemoryStore: Failed to reserve initial memory threshold of 1024.0 KiB for computing block rdd_1110_50 in memory.\n",
      "23/12/16 12:16:41 WARN MemoryStore: Not enough space to cache rdd_1110_50 in memory! (computed 384.0 B so far)\n",
      "23/12/16 12:16:41 WARN BlockManager: Persisting block rdd_1110_50 to disk instead.\n",
      "23/12/16 12:16:41 WARN MemoryStore: Not enough space to cache rdd_1110_47 in memory! (computed 8.3 MiB so far)\n",
      "23/12/16 12:16:41 WARN BlockManager: Persisting block rdd_1110_47 to disk instead.\n",
      "23/12/16 12:16:41 WARN MemoryStore: Not enough space to cache rdd_1110_48 in memory! (computed 12.6 MiB so far)\n",
      "23/12/16 12:16:41 WARN BlockManager: Persisting block rdd_1110_48 to disk instead.\n",
      "23/12/16 12:16:42 WARN MemoryStore: Not enough space to cache rdd_1110_49 in memory! (computed 19.2 MiB so far)\n",
      "23/12/16 12:16:42 WARN BlockManager: Persisting block rdd_1110_49 to disk instead.\n",
      "23/12/16 12:16:42 WARN MemoryStore: Not enough space to cache rdd_1110_50 in memory! (computed 5.5 MiB so far)\n",
      "23/12/16 12:16:42 WARN MemoryStore: Not enough space to cache rdd_1110_48 in memory! (computed 12.6 MiB so far)\n",
      "23/12/16 12:16:42 WARN MemoryStore: Not enough space to cache rdd_1110_49 in memory! (computed 19.2 MiB so far)\n",
      "23/12/16 12:16:42 WARN MemoryStore: Not enough space to cache rdd_1110_47 in memory! (computed 19.2 MiB so far)\n",
      "23/12/16 12:16:42 WARN MemoryStore: Not enough space to cache rdd_1110_52 in memory! (computed 3.6 MiB so far)\n",
      "23/12/16 12:16:42 WARN BlockManager: Persisting block rdd_1110_52 to disk instead.\n",
      "23/12/16 12:16:42 WARN MemoryStore: Not enough space to cache rdd_1110_54 in memory! (computed 8.3 MiB so far)\n",
      "23/12/16 12:16:42 WARN BlockManager: Persisting block rdd_1110_54 to disk instead.\n",
      "23/12/16 12:16:42 WARN MemoryStore: Not enough space to cache rdd_1110_51 in memory! (computed 1614.5 KiB so far)\n",
      "23/12/16 12:16:42 WARN BlockManager: Persisting block rdd_1110_51 to disk instead.\n",
      "23/12/16 12:16:42 WARN MemoryStore: Not enough space to cache rdd_1110_53 in memory! (computed 19.2 MiB so far)\n",
      "23/12/16 12:16:42 WARN BlockManager: Persisting block rdd_1110_53 to disk instead.\n",
      "23/12/16 12:16:42 WARN MemoryStore: Not enough space to cache rdd_1110_53 in memory! (computed 12.6 MiB so far)\n",
      "23/12/16 12:16:42 WARN MemoryStore: Not enough space to cache rdd_1110_52 in memory! (computed 19.2 MiB so far)\n",
      "23/12/16 12:16:42 WARN MemoryStore: Not enough space to cache rdd_1110_54 in memory! (computed 5.5 MiB so far)\n",
      "23/12/16 12:16:42 WARN MemoryStore: Not enough space to cache rdd_1110_56 in memory! (computed 1065.0 KiB so far)\n",
      "23/12/16 12:16:42 WARN BlockManager: Persisting block rdd_1110_56 to disk instead.\n",
      "23/12/16 12:16:43 WARN MemoryStore: Not enough space to cache rdd_1110_55 in memory! (computed 8.3 MiB so far)\n",
      "23/12/16 12:16:43 WARN BlockManager: Persisting block rdd_1110_55 to disk instead.\n",
      "23/12/16 12:16:43 WARN MemoryStore: Not enough space to cache rdd_1110_58 in memory! (computed 5.5 MiB so far)\n",
      "23/12/16 12:16:43 WARN BlockManager: Persisting block rdd_1110_58 to disk instead.\n",
      "23/12/16 12:16:43 WARN MemoryStore: Not enough space to cache rdd_1110_57 in memory! (computed 12.6 MiB so far)\n",
      "23/12/16 12:16:43 WARN BlockManager: Persisting block rdd_1110_57 to disk instead.\n",
      "23/12/16 12:16:43 WARN MemoryStore: Not enough space to cache rdd_1110_55 in memory! (computed 3.6 MiB so far)\n",
      "23/12/16 12:16:43 WARN MemoryStore: Not enough space to cache rdd_1110_57 in memory! (computed 8.3 MiB so far)\n",
      "23/12/16 12:16:43 WARN MemoryStore: Not enough space to cache rdd_1110_60 in memory! (computed 12.6 MiB so far)\n",
      "23/12/16 12:16:43 WARN BlockManager: Persisting block rdd_1110_60 to disk instead.\n",
      "23/12/16 12:16:43 WARN MemoryStore: Not enough space to cache rdd_1110_61 in memory! (computed 5.5 MiB so far)\n",
      "23/12/16 12:16:43 WARN BlockManager: Persisting block rdd_1110_61 to disk instead.\n",
      "23/12/16 12:16:43 WARN MemoryStore: Not enough space to cache rdd_1110_59 in memory! (computed 19.2 MiB so far)\n",
      "23/12/16 12:16:43 WARN BlockManager: Persisting block rdd_1110_59 to disk instead.\n",
      "23/12/16 12:16:44 WARN MemoryStore: Not enough space to cache rdd_1110_61 in memory! (computed 3.6 MiB so far)\n",
      "23/12/16 12:16:44 WARN MemoryStore: Not enough space to cache rdd_1110_59 in memory! (computed 2.4 MiB so far)\n",
      "23/12/16 12:16:44 WARN MemoryStore: Not enough space to cache rdd_1110_60 in memory! (computed 12.6 MiB so far)\n",
      "23/12/16 12:16:44 WARN MemoryStore: Not enough space to cache rdd_1110_64 in memory! (computed 3.6 MiB so far)\n",
      "23/12/16 12:16:44 WARN BlockManager: Persisting block rdd_1110_64 to disk instead.\n",
      "23/12/16 12:16:44 WARN MemoryStore: Not enough space to cache rdd_1110_65 in memory! (computed 2.4 MiB so far)\n",
      "23/12/16 12:16:44 WARN BlockManager: Persisting block rdd_1110_65 to disk instead.\n",
      "23/12/16 12:16:44 WARN MemoryStore: Not enough space to cache rdd_1110_63 in memory! (computed 19.2 MiB so far)\n",
      "23/12/16 12:16:44 WARN BlockManager: Persisting block rdd_1110_63 to disk instead.\n",
      "23/12/16 12:16:44 WARN MemoryStore: Not enough space to cache rdd_1110_66 in memory! (computed 5.5 MiB so far)\n",
      "23/12/16 12:16:44 WARN BlockManager: Persisting block rdd_1110_66 to disk instead.\n",
      "23/12/16 12:16:45 WARN MemoryStore: Not enough space to cache rdd_1110_66 in memory! (computed 3.6 MiB so far)\n",
      "23/12/16 12:16:45 WARN MemoryStore: Not enough space to cache rdd_1110_64 in memory! (computed 8.3 MiB so far)\n",
      "23/12/16 12:16:45 WARN MemoryStore: Not enough space to cache rdd_1110_65 in memory! (computed 19.2 MiB so far)\n",
      "23/12/16 12:16:45 WARN MemoryStore: Not enough space to cache rdd_1110_69 in memory! (computed 5.5 MiB so far)\n",
      "23/12/16 12:16:45 WARN BlockManager: Persisting block rdd_1110_69 to disk instead.\n",
      "23/12/16 12:16:45 WARN MemoryStore: Not enough space to cache rdd_1110_67 in memory! (computed 1614.5 KiB so far)\n",
      "23/12/16 12:16:45 WARN BlockManager: Persisting block rdd_1110_67 to disk instead.\n",
      "23/12/16 12:16:45 WARN MemoryStore: Not enough space to cache rdd_1110_68 in memory! (computed 19.2 MiB so far)\n",
      "23/12/16 12:16:45 WARN BlockManager: Persisting block rdd_1110_68 to disk instead.\n",
      "23/12/16 12:16:45 WARN MemoryStore: Not enough space to cache rdd_1110_70 in memory! (computed 19.2 MiB so far)\n",
      "23/12/16 12:16:45 WARN BlockManager: Persisting block rdd_1110_70 to disk instead.\n",
      "23/12/16 12:16:45 WARN MemoryStore: Not enough space to cache rdd_1110_69 in memory! (computed 3.6 MiB so far)\n",
      "23/12/16 12:16:45 WARN MemoryStore: Not enough space to cache rdd_1110_68 in memory! (computed 12.6 MiB so far)\n",
      "23/12/16 12:16:46 WARN MemoryStore: Not enough space to cache rdd_1110_71 in memory! (computed 12.6 MiB so far)\n",
      "23/12/16 12:16:46 WARN BlockManager: Persisting block rdd_1110_71 to disk instead.\n",
      "23/12/16 12:16:46 WARN MemoryStore: Not enough space to cache rdd_1110_67 in memory! (computed 12.6 MiB so far)\n",
      "23/12/16 12:16:46 WARN MemoryStore: Not enough space to cache rdd_1110_72 in memory! (computed 5.5 MiB so far)\n",
      "23/12/16 12:16:46 WARN BlockManager: Persisting block rdd_1110_72 to disk instead.\n",
      "23/12/16 12:16:46 WARN MemoryStore: Not enough space to cache rdd_1110_71 in memory! (computed 3.6 MiB so far)\n",
      "23/12/16 12:16:46 WARN MemoryStore: Not enough space to cache rdd_1110_73 in memory! (computed 8.3 MiB so far)\n",
      "23/12/16 12:16:46 WARN BlockManager: Persisting block rdd_1110_73 to disk instead.\n",
      "23/12/16 12:16:47 WARN MemoryStore: Not enough space to cache rdd_1110_75 in memory! (computed 5.5 MiB so far)\n",
      "23/12/16 12:16:47 WARN BlockManager: Persisting block rdd_1110_75 to disk instead.\n",
      "23/12/16 12:16:47 WARN MemoryStore: Not enough space to cache rdd_1110_74 in memory! (computed 8.3 MiB so far)\n",
      "23/12/16 12:16:47 WARN BlockManager: Persisting block rdd_1110_74 to disk instead.\n",
      "23/12/16 12:16:47 WARN MemoryStore: Not enough space to cache rdd_1110_72 in memory! (computed 8.3 MiB so far)\n",
      "23/12/16 12:16:47 WARN MemoryStore: Not enough space to cache rdd_1110_77 in memory! (computed 8.3 MiB so far)\n",
      "23/12/16 12:16:47 WARN BlockManager: Persisting block rdd_1110_77 to disk instead.\n",
      "23/12/16 12:16:47 WARN MemoryStore: Not enough space to cache rdd_1110_75 in memory! (computed 8.3 MiB so far)\n",
      "23/12/16 12:16:47 WARN MemoryStore: Not enough space to cache rdd_1110_76 in memory! (computed 12.6 MiB so far)\n",
      "23/12/16 12:16:47 WARN BlockManager: Persisting block rdd_1110_76 to disk instead.\n",
      "23/12/16 12:16:47 WARN MemoryStore: Not enough space to cache rdd_1110_74 in memory! (computed 19.2 MiB so far)\n",
      "23/12/16 12:16:47 WARN MemoryStore: Not enough space to cache rdd_1110_77 in memory! (computed 19.2 MiB so far)\n",
      "23/12/16 12:16:48 WARN MemoryStore: Not enough space to cache rdd_1110_78 in memory! (computed 19.2 MiB so far)\n",
      "23/12/16 12:16:48 WARN BlockManager: Persisting block rdd_1110_78 to disk instead.\n",
      "23/12/16 12:16:48 WARN MemoryStore: Not enough space to cache rdd_1110_76 in memory! (computed 8.3 MiB so far)\n",
      "23/12/16 12:16:48 WARN MemoryStore: Not enough space to cache rdd_1110_79 in memory! (computed 8.3 MiB so far)\n",
      "23/12/16 12:16:48 WARN BlockManager: Persisting block rdd_1110_79 to disk instead.\n",
      "23/12/16 12:16:48 WARN MemoryStore: Not enough space to cache rdd_1110_78 in memory! (computed 19.2 MiB so far)\n",
      "23/12/16 12:16:48 WARN MemoryStore: Not enough space to cache rdd_1110_79 in memory! (computed 12.6 MiB so far)\n",
      "23/12/16 12:16:48 WARN MemoryStore: Not enough space to cache rdd_1110_82 in memory! (computed 19.2 MiB so far)\n",
      "23/12/16 12:16:48 WARN BlockManager: Persisting block rdd_1110_82 to disk instead.\n",
      "23/12/16 12:16:49 WARN MemoryStore: Not enough space to cache rdd_1110_85 in memory! (computed 3.6 MiB so far)\n",
      "23/12/16 12:16:49 WARN BlockManager: Persisting block rdd_1110_85 to disk instead.\n",
      "23/12/16 12:16:49 WARN MemoryStore: Not enough space to cache rdd_1110_84 in memory! (computed 3.6 MiB so far)\n",
      "23/12/16 12:16:49 WARN BlockManager: Persisting block rdd_1110_84 to disk instead.\n",
      "23/12/16 12:16:49 WARN MemoryStore: Not enough space to cache rdd_1110_86 in memory! (computed 12.6 MiB so far)\n",
      "23/12/16 12:16:49 WARN BlockManager: Persisting block rdd_1110_86 to disk instead.\n",
      "23/12/16 12:16:49 WARN MemoryStore: Not enough space to cache rdd_1110_84 in memory! (computed 2.4 MiB so far)\n",
      "23/12/16 12:16:49 WARN MemoryStore: Not enough space to cache rdd_1110_82 in memory! (computed 19.2 MiB so far)\n",
      "23/12/16 12:16:49 WARN MemoryStore: Not enough space to cache rdd_1110_87 in memory! (computed 12.6 MiB so far)\n",
      "23/12/16 12:16:49 WARN BlockManager: Persisting block rdd_1110_87 to disk instead.\n",
      "23/12/16 12:16:49 WARN MemoryStore: Not enough space to cache rdd_1110_86 in memory! (computed 12.6 MiB so far)\n",
      "23/12/16 12:16:50 WARN MemoryStore: Not enough space to cache rdd_1110_90 in memory! (computed 8.3 MiB so far)\n",
      "23/12/16 12:16:50 WARN BlockManager: Persisting block rdd_1110_90 to disk instead.\n",
      "23/12/16 12:16:50 WARN MemoryStore: Not enough space to cache rdd_1110_87 in memory! (computed 5.5 MiB so far)\n",
      "23/12/16 12:16:50 WARN MemoryStore: Not enough space to cache rdd_1110_90 in memory! (computed 5.5 MiB so far)\n",
      "23/12/16 12:16:50 WARN MemoryStore: Not enough space to cache rdd_1110_91 in memory! (computed 19.2 MiB so far)\n",
      "23/12/16 12:16:50 WARN BlockManager: Persisting block rdd_1110_91 to disk instead.\n",
      "23/12/16 12:16:50 WARN MemoryStore: Not enough space to cache rdd_1110_92 in memory! (computed 8.3 MiB so far)\n",
      "23/12/16 12:16:50 WARN BlockManager: Persisting block rdd_1110_92 to disk instead.\n",
      "23/12/16 12:16:50 WARN MemoryStore: Not enough space to cache rdd_1110_91 in memory! (computed 5.5 MiB so far)\n",
      "23/12/16 12:16:50 WARN MemoryStore: Not enough space to cache rdd_1110_92 in memory! (computed 3.6 MiB so far)\n",
      "23/12/16 12:16:50 WARN MemoryStore: Failed to reserve initial memory threshold of 1024.0 KiB for computing block rdd_1110_97 in memory.\n",
      "23/12/16 12:16:50 WARN MemoryStore: Not enough space to cache rdd_1110_94 in memory! (computed 12.6 MiB so far)\n",
      "23/12/16 12:16:50 WARN BlockManager: Persisting block rdd_1110_94 to disk instead.\n",
      "23/12/16 12:16:50 WARN MemoryStore: Not enough space to cache rdd_1110_97 in memory! (computed 384.0 B so far)\n",
      "23/12/16 12:16:50 WARN MemoryStore: Not enough space to cache rdd_1110_96 in memory! (computed 8.3 MiB so far)\n",
      "23/12/16 12:16:50 WARN BlockManager: Persisting block rdd_1110_96 to disk instead.\n",
      "23/12/16 12:16:50 WARN MemoryStore: Not enough space to cache rdd_1110_95 in memory! (computed 3.6 MiB so far)\n",
      "23/12/16 12:16:50 WARN BlockManager: Persisting block rdd_1110_95 to disk instead.\n",
      "23/12/16 12:16:50 WARN BlockManager: Persisting block rdd_1110_97 to disk instead.\n",
      "23/12/16 12:16:51 WARN MemoryStore: Not enough space to cache rdd_1110_96 in memory! (computed 19.2 MiB so far)\n",
      "23/12/16 12:16:51 WARN MemoryStore: Not enough space to cache rdd_1110_94 in memory! (computed 12.6 MiB so far)\n",
      "23/12/16 12:16:51 WARN MemoryStore: Not enough space to cache rdd_1110_97 in memory! (computed 8.3 MiB so far)\n",
      "23/12/16 12:16:51 WARN MemoryStore: Not enough space to cache rdd_1110_98 in memory! (computed 5.5 MiB so far)\n",
      "23/12/16 12:16:51 WARN BlockManager: Persisting block rdd_1110_98 to disk instead.\n",
      "23/12/16 12:16:51 WARN MemoryStore: Not enough space to cache rdd_1110_99 in memory! (computed 8.3 MiB so far)\n",
      "23/12/16 12:16:51 WARN BlockManager: Persisting block rdd_1110_99 to disk instead.\n",
      "23/12/16 12:16:51 WARN MemoryStore: Not enough space to cache rdd_1110_98 in memory! (computed 12.6 MiB so far)\n",
      "23/12/16 12:16:51 WARN MemoryStore: Not enough space to cache rdd_1110_99 in memory! (computed 3.6 MiB so far)\n",
      "23/12/16 12:16:51 WARN MemoryStore: Not enough space to cache rdd_1110_2 in memory! (computed 5.5 MiB so far)\n",
      "23/12/16 12:16:51 WARN MemoryStore: Not enough space to cache rdd_1110_3 in memory! (computed 5.5 MiB so far)\n",
      "23/12/16 12:16:51 WARN MemoryStore: Not enough space to cache rdd_1110_1 in memory! (computed 2.4 MiB so far)\n",
      "23/12/16 12:16:51 WARN MemoryStore: Not enough space to cache rdd_1110_0 in memory! (computed 12.6 MiB so far)\n",
      "23/12/16 12:16:51 WARN MemoryStore: Not enough space to cache rdd_1110_5 in memory! (computed 1614.5 KiB so far)\n",
      "23/12/16 12:16:51 WARN MemoryStore: Not enough space to cache rdd_1110_4 in memory! (computed 8.3 MiB so far)\n",
      "23/12/16 12:16:52 WARN MemoryStore: Not enough space to cache rdd_1110_6 in memory! (computed 12.6 MiB so far)\n",
      "23/12/16 12:16:52 WARN MemoryStore: Not enough space to cache rdd_1110_7 in memory! (computed 3.6 MiB so far)\n",
      "23/12/16 12:16:52 WARN MemoryStore: Not enough space to cache rdd_1110_10 in memory! (computed 2.4 MiB so far)\n",
      "23/12/16 12:16:52 WARN MemoryStore: Not enough space to cache rdd_1110_8 in memory! (computed 12.6 MiB so far)\n",
      "23/12/16 12:16:52 WARN MemoryStore: Not enough space to cache rdd_1110_11 in memory! (computed 3.6 MiB so far)\n",
      "23/12/16 12:16:52 WARN MemoryStore: Not enough space to cache rdd_1110_9 in memory! (computed 12.6 MiB so far)\n",
      "23/12/16 12:16:52 WARN MemoryStore: Not enough space to cache rdd_1110_13 in memory! (computed 3.6 MiB so far)\n",
      "23/12/16 12:16:52 WARN MemoryStore: Not enough space to cache rdd_1110_12 in memory! (computed 12.6 MiB so far)\n",
      "23/12/16 12:16:52 WARN MemoryStore: Not enough space to cache rdd_1110_15 in memory! (computed 1614.5 KiB so far)\n",
      "23/12/16 12:16:52 WARN MemoryStore: Not enough space to cache rdd_1110_14 in memory! (computed 12.6 MiB so far)\n",
      "23/12/16 12:16:52 WARN MemoryStore: Not enough space to cache rdd_1110_16 in memory! (computed 3.6 MiB so far)\n",
      "23/12/16 12:16:52 WARN MemoryStore: Not enough space to cache rdd_1110_18 in memory! (computed 8.3 MiB so far)\n",
      "23/12/16 12:16:52 WARN MemoryStore: Not enough space to cache rdd_1110_17 in memory! (computed 12.6 MiB so far)\n",
      "23/12/16 12:16:52 WARN MemoryStore: Not enough space to cache rdd_1110_19 in memory! (computed 8.3 MiB so far)\n",
      "23/12/16 12:16:52 WARN MemoryStore: Not enough space to cache rdd_1110_20 in memory! (computed 12.6 MiB so far)\n",
      "23/12/16 12:16:52 WARN MemoryStore: Not enough space to cache rdd_1110_21 in memory! (computed 8.3 MiB so far)\n",
      "23/12/16 12:16:52 WARN MemoryStore: Not enough space to cache rdd_1110_23 in memory! (computed 3.6 MiB so far)\n",
      "23/12/16 12:16:52 WARN MemoryStore: Not enough space to cache rdd_1110_22 in memory! (computed 3.6 MiB so far)\n",
      "23/12/16 12:16:52 WARN MemoryStore: Not enough space to cache rdd_1110_24 in memory! (computed 12.6 MiB so far)\n",
      "23/12/16 12:16:52 WARN MemoryStore: Not enough space to cache rdd_1110_25 in memory! (computed 8.3 MiB so far)\n",
      "23/12/16 12:16:52 WARN MemoryStore: Not enough space to cache rdd_1110_26 in memory! (computed 12.6 MiB so far)\n",
      "23/12/16 12:16:52 WARN MemoryStore: Not enough space to cache rdd_1110_27 in memory! (computed 12.6 MiB so far)\n",
      "23/12/16 12:16:52 WARN MemoryStore: Not enough space to cache rdd_1110_28 in memory! (computed 3.6 MiB so far)\n",
      "23/12/16 12:16:53 WARN MemoryStore: Not enough space to cache rdd_1110_30 in memory! (computed 12.6 MiB so far)\n",
      "23/12/16 12:16:53 WARN MemoryStore: Not enough space to cache rdd_1110_29 in memory! (computed 3.6 MiB so far)\n",
      "23/12/16 12:16:53 WARN MemoryStore: Not enough space to cache rdd_1110_31 in memory! (computed 12.6 MiB so far)\n",
      "23/12/16 12:16:53 WARN MemoryStore: Not enough space to cache rdd_1110_33 in memory! (computed 3.6 MiB so far)\n",
      "23/12/16 12:16:53 WARN MemoryStore: Failed to reserve initial memory threshold of 1024.0 KiB for computing block rdd_1110_34 in memory.\n",
      "23/12/16 12:16:53 WARN MemoryStore: Not enough space to cache rdd_1110_34 in memory! (computed 384.0 B so far)\n",
      "23/12/16 12:16:53 WARN MemoryStore: Not enough space to cache rdd_1110_32 in memory! (computed 12.6 MiB so far)\n",
      "23/12/16 12:16:53 WARN MemoryStore: Not enough space to cache rdd_1110_35 in memory! (computed 8.3 MiB so far)\n",
      "23/12/16 12:16:53 WARN MemoryStore: Failed to reserve initial memory threshold of 1024.0 KiB for computing block rdd_1110_37 in memory.\n",
      "23/12/16 12:16:53 WARN MemoryStore: Not enough space to cache rdd_1110_37 in memory! (computed 384.0 B so far)\n",
      "23/12/16 12:16:53 WARN MemoryStore: Not enough space to cache rdd_1110_36 in memory! (computed 12.6 MiB so far)\n",
      "23/12/16 12:16:53 WARN MemoryStore: Not enough space to cache rdd_1110_38 in memory! (computed 12.6 MiB so far)\n",
      "23/12/16 12:16:53 WARN MemoryStore: Not enough space to cache rdd_1110_39 in memory! (computed 8.3 MiB so far)\n",
      "23/12/16 12:16:53 WARN MemoryStore: Not enough space to cache rdd_1110_40 in memory! (computed 5.5 MiB so far)\n",
      "23/12/16 12:16:53 WARN MemoryStore: Not enough space to cache rdd_1110_42 in memory! (computed 3.6 MiB so far)\n",
      "23/12/16 12:16:53 WARN MemoryStore: Not enough space to cache rdd_1110_41 in memory! (computed 12.6 MiB so far)\n",
      "23/12/16 12:16:53 WARN MemoryStore: Not enough space to cache rdd_1110_44 in memory! (computed 8.3 MiB so far)\n",
      "23/12/16 12:16:53 WARN MemoryStore: Not enough space to cache rdd_1110_43 in memory! (computed 5.5 MiB so far)\n",
      "23/12/16 12:16:53 WARN MemoryStore: Not enough space to cache rdd_1110_45 in memory! (computed 12.6 MiB so far)\n",
      "23/12/16 12:16:53 WARN MemoryStore: Not enough space to cache rdd_1110_48 in memory! (computed 3.6 MiB so far)\n",
      "23/12/16 12:16:53 WARN MemoryStore: Not enough space to cache rdd_1110_47 in memory! (computed 12.6 MiB so far)\n",
      "23/12/16 12:16:53 WARN MemoryStore: Not enough space to cache rdd_1110_49 in memory! (computed 8.3 MiB so far)\n",
      "23/12/16 12:16:53 WARN MemoryStore: Not enough space to cache rdd_1110_50 in memory! (computed 12.6 MiB so far)\n",
      "23/12/16 12:16:54 WARN MemoryStore: Not enough space to cache rdd_1110_52 in memory! (computed 8.3 MiB so far)\n",
      "23/12/16 12:16:54 WARN MemoryStore: Not enough space to cache rdd_1110_54 in memory! (computed 1614.5 KiB so far)\n",
      "23/12/16 12:16:54 WARN MemoryStore: Not enough space to cache rdd_1110_53 in memory! (computed 12.6 MiB so far)\n",
      "23/12/16 12:16:54 WARN MemoryStore: Not enough space to cache rdd_1110_55 in memory! (computed 3.6 MiB so far)\n",
      "23/12/16 12:16:54 WARN MemoryStore: Not enough space to cache rdd_1110_59 in memory! (computed 5.5 MiB so far)\n",
      "23/12/16 12:16:54 WARN MemoryStore: Not enough space to cache rdd_1110_57 in memory! (computed 5.5 MiB so far)\n",
      "23/12/16 12:16:54 WARN MemoryStore: Not enough space to cache rdd_1110_60 in memory! (computed 2.4 MiB so far)\n",
      "23/12/16 12:16:54 WARN MemoryStore: Not enough space to cache rdd_1110_61 in memory! (computed 12.6 MiB so far)\n",
      "23/12/16 12:16:54 WARN MemoryStore: Not enough space to cache rdd_1110_64 in memory! (computed 8.3 MiB so far)\n",
      "23/12/16 12:16:54 WARN MemoryStore: Not enough space to cache rdd_1110_66 in memory! (computed 2.4 MiB so far)\n",
      "23/12/16 12:16:54 WARN MemoryStore: Failed to reserve initial memory threshold of 1024.0 KiB for computing block rdd_1110_67 in memory.\n",
      "23/12/16 12:16:54 WARN MemoryStore: Not enough space to cache rdd_1110_67 in memory! (computed 384.0 B so far)\n",
      "23/12/16 12:16:54 WARN MemoryStore: Not enough space to cache rdd_1110_65 in memory! (computed 12.6 MiB so far)\n",
      "23/12/16 12:16:54 WARN MemoryStore: Not enough space to cache rdd_1110_68 in memory! (computed 8.3 MiB so far)\n",
      "23/12/16 12:16:54 WARN MemoryStore: Not enough space to cache rdd_1110_71 in memory! (computed 2.4 MiB so far)\n",
      "23/12/16 12:16:54 WARN MemoryStore: Not enough space to cache rdd_1110_69 in memory! (computed 12.6 MiB so far)\n",
      "23/12/16 12:16:54 WARN MemoryStore: Not enough space to cache rdd_1110_72 in memory! (computed 12.6 MiB so far)\n",
      "23/12/16 12:16:54 WARN MemoryStore: Not enough space to cache rdd_1110_74 in memory! (computed 3.6 MiB so far)\n",
      "23/12/16 12:16:54 WARN MemoryStore: Not enough space to cache rdd_1110_77 in memory! (computed 1614.5 KiB so far)\n",
      "23/12/16 12:16:54 WARN MemoryStore: Not enough space to cache rdd_1110_75 in memory! (computed 5.5 MiB so far)\n",
      "23/12/16 12:16:54 WARN MemoryStore: Not enough space to cache rdd_1110_76 in memory! (computed 12.6 MiB so far)\n",
      "23/12/16 12:16:54 WARN MemoryStore: Not enough space to cache rdd_1110_79 in memory! (computed 8.3 MiB so far)\n",
      "23/12/16 12:16:54 WARN MemoryStore: Not enough space to cache rdd_1110_78 in memory! (computed 12.6 MiB so far)\n",
      "23/12/16 12:16:54 WARN MemoryStore: Not enough space to cache rdd_1110_84 in memory! (computed 2.4 MiB so far)\n",
      "23/12/16 12:16:54 WARN MemoryStore: Not enough space to cache rdd_1110_86 in memory! (computed 1614.5 KiB so far)\n",
      "23/12/16 12:16:54 WARN MemoryStore: Not enough space to cache rdd_1110_82 in memory! (computed 12.6 MiB so far)\n",
      "23/12/16 12:16:55 WARN MemoryStore: Not enough space to cache rdd_1110_87 in memory! (computed 12.6 MiB so far)\n",
      "23/12/16 12:16:55 WARN MemoryStore: Not enough space to cache rdd_1110_91 in memory! (computed 3.6 MiB so far)\n",
      "23/12/16 12:16:55 WARN MemoryStore: Not enough space to cache rdd_1110_92 in memory! (computed 8.3 MiB so far)\n",
      "23/12/16 12:16:55 WARN MemoryStore: Not enough space to cache rdd_1110_90 in memory! (computed 8.3 MiB so far)\n",
      "23/12/16 12:16:55 WARN MemoryStore: Not enough space to cache rdd_1110_94 in memory! (computed 12.6 MiB so far)\n",
      "23/12/16 12:16:55 WARN MemoryStore: Not enough space to cache rdd_1110_97 in memory! (computed 1614.5 KiB so far)\n",
      "23/12/16 12:16:55 WARN MemoryStore: Not enough space to cache rdd_1110_96 in memory! (computed 12.6 MiB so far)\n",
      "23/12/16 12:16:55 WARN MemoryStore: Not enough space to cache rdd_1110_98 in memory! (computed 3.6 MiB so far)\n",
      "23/12/16 12:16:55 WARN MemoryStore: Not enough space to cache rdd_1110_99 in memory! (computed 12.6 MiB so far)\n",
      "23/12/16 12:16:55 WARN MemoryStore: Not enough space to cache rdd_1110_0 in memory! (computed 5.5 MiB so far)\n",
      "23/12/16 12:16:55 WARN MemoryStore: Not enough space to cache rdd_1110_3 in memory! (computed 1614.5 KiB so far)\n",
      "23/12/16 12:16:55 WARN MemoryStore: Not enough space to cache rdd_1110_1 in memory! (computed 3.6 MiB so far)\n",
      "23/12/16 12:16:55 WARN MemoryStore: Not enough space to cache rdd_1110_2 in memory! (computed 12.6 MiB so far)\n",
      "23/12/16 12:16:55 WARN MemoryStore: Not enough space to cache rdd_1110_4 in memory! (computed 12.6 MiB so far)\n",
      "23/12/16 12:16:56 WARN MemoryStore: Not enough space to cache rdd_1110_5 in memory! (computed 2.4 MiB so far)\n",
      "23/12/16 12:16:56 WARN MemoryStore: Not enough space to cache rdd_1110_6 in memory! (computed 12.6 MiB so far)\n",
      "23/12/16 12:16:56 WARN MemoryStore: Failed to reserve initial memory threshold of 1024.0 KiB for computing block rdd_1110_8 in memory.\n",
      "23/12/16 12:16:56 WARN MemoryStore: Not enough space to cache rdd_1110_8 in memory! (computed 384.0 B so far)\n",
      "23/12/16 12:16:56 WARN MemoryStore: Not enough space to cache rdd_1110_7 in memory! (computed 3.6 MiB so far)\n",
      "23/12/16 12:16:56 WARN MemoryStore: Not enough space to cache rdd_1110_12 in memory! (computed 2.4 MiB so far)\n",
      "23/12/16 12:16:56 WARN MemoryStore: Not enough space to cache rdd_1110_11 in memory! (computed 2.4 MiB so far)\n",
      "23/12/16 12:16:56 WARN MemoryStore: Not enough space to cache rdd_1110_9 in memory! (computed 8.3 MiB so far)\n",
      "23/12/16 12:16:56 WARN MemoryStore: Not enough space to cache rdd_1110_10 in memory! (computed 8.3 MiB so far)\n",
      "23/12/16 12:16:56 WARN MemoryStore: Not enough space to cache rdd_1110_15 in memory! (computed 1614.5 KiB so far)\n",
      "23/12/16 12:16:56 WARN MemoryStore: Not enough space to cache rdd_1110_13 in memory! (computed 5.5 MiB so far)\n",
      "23/12/16 12:16:56 WARN MemoryStore: Not enough space to cache rdd_1110_14 in memory! (computed 5.5 MiB so far)\n",
      "23/12/16 12:16:56 WARN MemoryStore: Not enough space to cache rdd_1110_16 in memory! (computed 12.6 MiB so far)\n",
      "23/12/16 12:16:56 WARN MemoryStore: Not enough space to cache rdd_1110_18 in memory! (computed 3.6 MiB so far)\n",
      "23/12/16 12:16:56 WARN MemoryStore: Not enough space to cache rdd_1110_17 in memory! (computed 3.6 MiB so far)\n",
      "23/12/16 12:16:56 WARN MemoryStore: Not enough space to cache rdd_1110_19 in memory! (computed 8.3 MiB so far)\n",
      "23/12/16 12:16:56 WARN MemoryStore: Not enough space to cache rdd_1110_20 in memory! (computed 12.6 MiB so far)\n",
      "23/12/16 12:16:56 WARN MemoryStore: Not enough space to cache rdd_1110_21 in memory! (computed 8.3 MiB so far)\n",
      "23/12/16 12:16:56 WARN MemoryStore: Not enough space to cache rdd_1110_22 in memory! (computed 2.4 MiB so far)\n",
      "23/12/16 12:16:56 WARN MemoryStore: Not enough space to cache rdd_1110_23 in memory! (computed 3.6 MiB so far)\n",
      "23/12/16 12:16:56 WARN MemoryStore: Not enough space to cache rdd_1110_24 in memory! (computed 12.6 MiB so far)\n",
      "23/12/16 12:16:56 WARN MemoryStore: Not enough space to cache rdd_1110_25 in memory! (computed 8.3 MiB so far)\n",
      "23/12/16 12:16:56 WARN MemoryStore: Not enough space to cache rdd_1110_26 in memory! (computed 8.3 MiB so far)\n",
      "23/12/16 12:16:56 WARN MemoryStore: Failed to reserve initial memory threshold of 1024.0 KiB for computing block rdd_1110_28 in memory.\n",
      "23/12/16 12:16:56 WARN MemoryStore: Not enough space to cache rdd_1110_28 in memory! (computed 384.0 B so far)\n",
      "23/12/16 12:16:56 WARN MemoryStore: Failed to reserve initial memory threshold of 1024.0 KiB for computing block rdd_1110_27 in memory.\n",
      "23/12/16 12:16:56 WARN MemoryStore: Not enough space to cache rdd_1110_27 in memory! (computed 384.0 B so far)\n",
      "23/12/16 12:16:56 WARN MemoryStore: Not enough space to cache rdd_1110_30 in memory! (computed 5.5 MiB so far)\n",
      "23/12/16 12:16:56 WARN MemoryStore: Not enough space to cache rdd_1110_32 in memory! (computed 3.6 MiB so far)\n",
      "23/12/16 12:16:56 WARN MemoryStore: Not enough space to cache rdd_1110_31 in memory! (computed 3.6 MiB so far)\n",
      "23/12/16 12:16:57 WARN MemoryStore: Not enough space to cache rdd_1110_29 in memory! (computed 12.6 MiB so far)\n",
      "23/12/16 12:16:57 WARN MemoryStore: Not enough space to cache rdd_1110_33 in memory! (computed 3.6 MiB so far)\n",
      "23/12/16 12:16:57 WARN MemoryStore: Not enough space to cache rdd_1110_34 in memory! (computed 8.3 MiB so far)\n",
      "23/12/16 12:16:57 WARN MemoryStore: Not enough space to cache rdd_1110_35 in memory! (computed 3.6 MiB so far)\n",
      "23/12/16 12:16:57 WARN MemoryStore: Not enough space to cache rdd_1110_36 in memory! (computed 12.6 MiB so far)\n",
      "23/12/16 12:16:57 WARN MemoryStore: Not enough space to cache rdd_1110_40 in memory! (computed 1614.5 KiB so far)\n",
      "23/12/16 12:16:57 WARN MemoryStore: Not enough space to cache rdd_1110_39 in memory! (computed 1065.0 KiB so far)\n",
      "23/12/16 12:16:57 WARN MemoryStore: Not enough space to cache rdd_1110_37 in memory! (computed 12.6 MiB so far)\n",
      "23/12/16 12:16:57 WARN MemoryStore: Not enough space to cache rdd_1110_38 in memory! (computed 12.6 MiB so far)\n",
      "23/12/16 12:16:57 WARN MemoryStore: Not enough space to cache rdd_1110_42 in memory! (computed 8.3 MiB so far)\n",
      "23/12/16 12:16:57 WARN MemoryStore: Not enough space to cache rdd_1110_44 in memory! (computed 3.6 MiB so far)\n",
      "23/12/16 12:16:57 WARN MemoryStore: Not enough space to cache rdd_1110_41 in memory! (computed 2.4 MiB so far)\n",
      "23/12/16 12:16:57 WARN MemoryStore: Not enough space to cache rdd_1110_43 in memory! (computed 2.4 MiB so far)\n",
      "23/12/16 12:16:57 WARN MemoryStore: Not enough space to cache rdd_1110_47 in memory! (computed 2.4 MiB so far)\n",
      "23/12/16 12:16:57 WARN MemoryStore: Not enough space to cache rdd_1110_45 in memory! (computed 12.6 MiB so far)\n",
      "23/12/16 12:16:57 WARN MemoryStore: Not enough space to cache rdd_1110_48 in memory! (computed 8.3 MiB so far)\n",
      "23/12/16 12:16:57 WARN MemoryStore: Not enough space to cache rdd_1110_49 in memory! (computed 12.6 MiB so far)\n",
      "23/12/16 12:16:57 WARN MemoryStore: Not enough space to cache rdd_1110_50 in memory! (computed 12.6 MiB so far)\n",
      "23/12/16 12:16:57 WARN MemoryStore: Not enough space to cache rdd_1110_53 in memory! (computed 1614.5 KiB so far)\n",
      "23/12/16 12:16:57 WARN MemoryStore: Not enough space to cache rdd_1110_52 in memory! (computed 8.3 MiB so far)\n",
      "23/12/16 12:16:57 WARN MemoryStore: Not enough space to cache rdd_1110_54 in memory! (computed 12.6 MiB so far)\n",
      "23/12/16 12:16:57 WARN MemoryStore: Not enough space to cache rdd_1110_55 in memory! (computed 12.6 MiB so far)\n",
      "23/12/16 12:16:57 WARN MemoryStore: Not enough space to cache rdd_1110_57 in memory! (computed 3.6 MiB so far)\n",
      "23/12/16 12:16:57 WARN MemoryStore: Not enough space to cache rdd_1110_60 in memory! (computed 3.6 MiB so far)\n",
      "23/12/16 12:16:57 WARN MemoryStore: Not enough space to cache rdd_1110_59 in memory! (computed 12.6 MiB so far)\n",
      "23/12/16 12:16:58 WARN MemoryStore: Not enough space to cache rdd_1110_61 in memory! (computed 12.6 MiB so far)\n",
      "23/12/16 12:16:58 WARN MemoryStore: Not enough space to cache rdd_1110_66 in memory! (computed 5.5 MiB so far)\n",
      "23/12/16 12:16:58 WARN MemoryStore: Not enough space to cache rdd_1110_64 in memory! (computed 8.3 MiB so far)\n",
      "23/12/16 12:16:58 WARN MemoryStore: Not enough space to cache rdd_1110_65 in memory! (computed 12.6 MiB so far)\n",
      "23/12/16 12:16:58 WARN MemoryStore: Not enough space to cache rdd_1110_67 in memory! (computed 3.6 MiB so far)\n",
      "23/12/16 12:16:58 WARN MemoryStore: Not enough space to cache rdd_1110_69 in memory! (computed 8.3 MiB so far)\n",
      "23/12/16 12:16:58 WARN MemoryStore: Not enough space to cache rdd_1110_68 in memory! (computed 8.3 MiB so far)\n",
      "23/12/16 12:16:58 WARN MemoryStore: Not enough space to cache rdd_1110_71 in memory! (computed 12.6 MiB so far)\n",
      "23/12/16 12:16:58 WARN MemoryStore: Not enough space to cache rdd_1110_72 in memory! (computed 12.6 MiB so far)\n",
      "23/12/16 12:16:58 WARN MemoryStore: Not enough space to cache rdd_1110_74 in memory! (computed 2.4 MiB so far)\n",
      "23/12/16 12:16:58 WARN MemoryStore: Not enough space to cache rdd_1110_76 in memory! (computed 3.6 MiB so far)\n",
      "23/12/16 12:16:58 WARN MemoryStore: Not enough space to cache rdd_1110_75 in memory! (computed 12.6 MiB so far)\n",
      "23/12/16 12:16:58 WARN MemoryStore: Not enough space to cache rdd_1110_77 in memory! (computed 12.6 MiB so far)\n",
      "23/12/16 12:16:58 WARN MemoryStore: Not enough space to cache rdd_1110_78 in memory! (computed 8.3 MiB so far)\n",
      "23/12/16 12:16:58 WARN MemoryStore: Not enough space to cache rdd_1110_79 in memory! (computed 12.6 MiB so far)\n",
      "23/12/16 12:16:58 WARN MemoryStore: Not enough space to cache rdd_1110_86 in memory! (computed 2.4 MiB so far)\n",
      "23/12/16 12:16:58 WARN MemoryStore: Not enough space to cache rdd_1110_82 in memory! (computed 12.6 MiB so far)\n",
      "23/12/16 12:16:58 WARN MemoryStore: Not enough space to cache rdd_1110_87 in memory! (computed 3.6 MiB so far)\n",
      "23/12/16 12:16:58 WARN MemoryStore: Not enough space to cache rdd_1110_84 in memory! (computed 12.6 MiB so far)\n",
      "23/12/16 12:16:59 WARN MemoryStore: Not enough space to cache rdd_1110_90 in memory! (computed 12.6 MiB so far)\n",
      "23/12/16 12:16:59 WARN MemoryStore: Not enough space to cache rdd_1110_91 in memory! (computed 2.4 MiB so far)\n",
      "23/12/16 12:16:59 WARN MemoryStore: Not enough space to cache rdd_1110_92 in memory! (computed 1614.5 KiB so far)\n",
      "23/12/16 12:16:59 WARN MemoryStore: Not enough space to cache rdd_1110_96 in memory! (computed 3.6 MiB so far)\n",
      "23/12/16 12:16:59 WARN MemoryStore: Not enough space to cache rdd_1110_94 in memory! (computed 12.6 MiB so far)\n",
      "23/12/16 12:16:59 WARN MemoryStore: Not enough space to cache rdd_1110_97 in memory! (computed 8.3 MiB so far)\n",
      "23/12/16 12:16:59 WARN MemoryStore: Not enough space to cache rdd_1110_98 in memory! (computed 8.3 MiB so far)\n",
      "23/12/16 12:16:59 WARN MemoryStore: Failed to reserve initial memory threshold of 1024.0 KiB for computing block rdd_1110_99 in memory.\n",
      "23/12/16 12:16:59 WARN MemoryStore: Not enough space to cache rdd_1110_99 in memory! (computed 384.0 B so far)\n",
      "23/12/16 12:17:00 WARN MemoryStore: Not enough space to cache rdd_1110_2 in memory! (computed 5.5 MiB so far)\n",
      "23/12/16 12:17:00 WARN MemoryStore: Not enough space to cache rdd_1110_1 in memory! (computed 3.6 MiB so far)\n",
      "23/12/16 12:17:00 WARN MemoryStore: Not enough space to cache rdd_1110_3 in memory! (computed 3.6 MiB so far)\n",
      "23/12/16 12:17:00 WARN MemoryStore: Not enough space to cache rdd_1110_0 in memory! (computed 3.6 MiB so far)\n",
      "23/12/16 12:17:00 WARN MemoryStore: Not enough space to cache rdd_1110_4 in memory! (computed 12.6 MiB so far)\n",
      "23/12/16 12:17:01 WARN MemoryStore: Not enough space to cache rdd_1110_7 in memory! (computed 2.4 MiB so far)\n",
      "23/12/16 12:17:01 WARN MemoryStore: Not enough space to cache rdd_1110_5 in memory! (computed 5.5 MiB so far)\n",
      "23/12/16 12:17:01 WARN MemoryStore: Not enough space to cache rdd_1110_6 in memory! (computed 8.3 MiB so far)\n",
      "23/12/16 12:17:01 WARN MemoryStore: Not enough space to cache rdd_1110_8 in memory! (computed 12.6 MiB so far)\n",
      "23/12/16 12:17:01 WARN MemoryStore: Not enough space to cache rdd_1110_10 in memory! (computed 8.3 MiB so far)\n",
      "23/12/16 12:17:01 WARN MemoryStore: Not enough space to cache rdd_1110_11 in memory! (computed 3.6 MiB so far)\n",
      "23/12/16 12:17:01 WARN MemoryStore: Not enough space to cache rdd_1110_9 in memory! (computed 12.6 MiB so far)\n",
      "23/12/16 12:17:01 WARN MemoryStore: Not enough space to cache rdd_1110_12 in memory! (computed 8.3 MiB so far)\n",
      "23/12/16 12:17:01 WARN MemoryStore: Not enough space to cache rdd_1110_13 in memory! (computed 12.6 MiB so far)\n",
      "23/12/16 12:17:01 WARN MemoryStore: Not enough space to cache rdd_1110_15 in memory! (computed 3.6 MiB so far)\n",
      "23/12/16 12:17:01 WARN MemoryStore: Not enough space to cache rdd_1110_14 in memory! (computed 12.6 MiB so far)\n",
      "23/12/16 12:17:01 WARN MemoryStore: Not enough space to cache rdd_1110_16 in memory! (computed 12.6 MiB so far)\n",
      "23/12/16 12:17:01 WARN MemoryStore: Not enough space to cache rdd_1110_18 in memory! (computed 8.3 MiB so far)\n",
      "23/12/16 12:17:01 WARN MemoryStore: Not enough space to cache rdd_1110_17 in memory! (computed 8.3 MiB so far)\n",
      "23/12/16 12:17:01 WARN MemoryStore: Not enough space to cache rdd_1110_20 in memory! (computed 3.6 MiB so far)\n",
      "23/12/16 12:17:01 WARN MemoryStore: Not enough space to cache rdd_1110_19 in memory! (computed 12.6 MiB so far)\n",
      "23/12/16 12:17:02 WARN MemoryStore: Not enough space to cache rdd_1110_22 in memory! (computed 8.3 MiB so far)\n",
      "23/12/16 12:17:02 WARN MemoryStore: Not enough space to cache rdd_1110_21 in memory! (computed 12.6 MiB so far)\n",
      "23/12/16 12:17:02 WARN MemoryStore: Not enough space to cache rdd_1110_23 in memory! (computed 3.6 MiB so far)\n",
      "23/12/16 12:17:02 WARN MemoryStore: Not enough space to cache rdd_1110_25 in memory! (computed 3.6 MiB so far)\n",
      "23/12/16 12:17:02 WARN MemoryStore: Not enough space to cache rdd_1110_24 in memory! (computed 12.6 MiB so far)\n",
      "23/12/16 12:17:02 WARN MemoryStore: Not enough space to cache rdd_1110_26 in memory! (computed 8.3 MiB so far)\n",
      "23/12/16 12:17:02 WARN MemoryStore: Not enough space to cache rdd_1110_27 in memory! (computed 5.5 MiB so far)\n",
      "23/12/16 12:17:02 WARN MemoryStore: Not enough space to cache rdd_1110_29 in memory! (computed 3.6 MiB so far)\n",
      "23/12/16 12:17:02 WARN MemoryStore: Not enough space to cache rdd_1110_28 in memory! (computed 12.6 MiB so far)\n",
      "23/12/16 12:17:02 WARN MemoryStore: Failed to reserve initial memory threshold of 1024.0 KiB for computing block rdd_1110_31 in memory.\n",
      "23/12/16 12:17:02 WARN MemoryStore: Not enough space to cache rdd_1110_31 in memory! (computed 384.0 B so far)\n",
      "23/12/16 12:17:02 WARN MemoryStore: Not enough space to cache rdd_1110_30 in memory! (computed 12.6 MiB so far)\n",
      "23/12/16 12:17:02 WARN MemoryStore: Not enough space to cache rdd_1110_33 in memory! (computed 5.5 MiB so far)\n",
      "23/12/16 12:17:02 WARN MemoryStore: Not enough space to cache rdd_1110_34 in memory! (computed 2.4 MiB so far)\n",
      "23/12/16 12:17:02 WARN MemoryStore: Not enough space to cache rdd_1110_32 in memory! (computed 12.6 MiB so far)\n",
      "23/12/16 12:17:02 WARN MemoryStore: Not enough space to cache rdd_1110_36 in memory! (computed 5.5 MiB so far)\n",
      "23/12/16 12:17:02 WARN MemoryStore: Not enough space to cache rdd_1110_37 in memory! (computed 2.4 MiB so far)\n",
      "23/12/16 12:17:02 WARN MemoryStore: Not enough space to cache rdd_1110_35 in memory! (computed 8.3 MiB so far)\n",
      "23/12/16 12:17:02 WARN MemoryStore: Not enough space to cache rdd_1110_41 in memory! (computed 1614.5 KiB so far)\n",
      "23/12/16 12:17:02 WARN MemoryStore: Not enough space to cache rdd_1110_40 in memory! (computed 3.6 MiB so far)\n",
      "23/12/16 12:17:02 WARN MemoryStore: Not enough space to cache rdd_1110_38 in memory! (computed 5.5 MiB so far)\n",
      "23/12/16 12:17:02 WARN MemoryStore: Not enough space to cache rdd_1110_39 in memory! (computed 12.6 MiB so far)\n",
      "23/12/16 12:17:03 WARN MemoryStore: Not enough space to cache rdd_1110_42 in memory! (computed 8.3 MiB so far)\n",
      "23/12/16 12:17:03 WARN MemoryStore: Not enough space to cache rdd_1110_43 in memory! (computed 8.3 MiB so far)\n",
      "23/12/16 12:17:03 WARN MemoryStore: Not enough space to cache rdd_1110_44 in memory! (computed 8.3 MiB so far)\n",
      "23/12/16 12:17:03 WARN MemoryStore: Not enough space to cache rdd_1110_47 in memory! (computed 3.6 MiB so far)\n",
      "23/12/16 12:17:03 WARN MemoryStore: Not enough space to cache rdd_1110_45 in memory! (computed 12.6 MiB so far)\n",
      "23/12/16 12:17:03 WARN MemoryStore: Not enough space to cache rdd_1110_49 in memory! (computed 5.5 MiB so far)\n",
      "23/12/16 12:17:03 WARN MemoryStore: Not enough space to cache rdd_1110_50 in memory! (computed 2.4 MiB so far)\n",
      "23/12/16 12:17:03 WARN MemoryStore: Not enough space to cache rdd_1110_48 in memory! (computed 8.3 MiB so far)\n",
      "23/12/16 12:17:03 WARN MemoryStore: Not enough space to cache rdd_1110_52 in memory! (computed 12.6 MiB so far)\n",
      "23/12/16 12:17:03 WARN MemoryStore: Not enough space to cache rdd_1110_53 in memory! (computed 2.4 MiB so far)\n",
      "23/12/16 12:17:03 WARN MemoryStore: Not enough space to cache rdd_1110_55 in memory! (computed 3.6 MiB so far)\n",
      "23/12/16 12:17:03 WARN MemoryStore: Not enough space to cache rdd_1110_54 in memory! (computed 12.6 MiB so far)\n",
      "23/12/16 12:17:03 WARN MemoryStore: Not enough space to cache rdd_1110_59 in memory! (computed 2.4 MiB so far)\n",
      "23/12/16 12:17:03 WARN MemoryStore: Not enough space to cache rdd_1110_60 in memory! (computed 1614.5 KiB so far)\n",
      "23/12/16 12:17:03 WARN MemoryStore: Not enough space to cache rdd_1110_57 in memory! (computed 12.6 MiB so far)\n",
      "23/12/16 12:17:03 WARN MemoryStore: Not enough space to cache rdd_1110_61 in memory! (computed 12.6 MiB so far)\n",
      "23/12/16 12:17:03 WARN MemoryStore: Not enough space to cache rdd_1110_64 in memory! (computed 8.3 MiB so far)\n",
      "23/12/16 12:17:03 WARN MemoryStore: Not enough space to cache rdd_1110_65 in memory! (computed 5.5 MiB so far)\n",
      "23/12/16 12:17:03 WARN MemoryStore: Not enough space to cache rdd_1110_67 in memory! (computed 2.4 MiB so far)\n",
      "23/12/16 12:17:03 WARN MemoryStore: Not enough space to cache rdd_1110_66 in memory! (computed 8.3 MiB so far)\n",
      "23/12/16 12:17:03 WARN MemoryStore: Not enough space to cache rdd_1110_69 in memory! (computed 5.5 MiB so far)\n",
      "23/12/16 12:17:03 WARN MemoryStore: Not enough space to cache rdd_1110_71 in memory! (computed 2.4 MiB so far)\n",
      "23/12/16 12:17:03 WARN MemoryStore: Failed to reserve initial memory threshold of 1024.0 KiB for computing block rdd_1110_72 in memory.\n",
      "23/12/16 12:17:03 WARN MemoryStore: Not enough space to cache rdd_1110_72 in memory! (computed 384.0 B so far)\n",
      "23/12/16 12:17:03 WARN MemoryStore: Not enough space to cache rdd_1110_68 in memory! (computed 12.6 MiB so far)\n",
      "23/12/16 12:17:03 WARN MemoryStore: Not enough space to cache rdd_1110_74 in memory! (computed 8.3 MiB so far)\n",
      "23/12/16 12:17:03 WARN MemoryStore: Failed to reserve initial memory threshold of 1024.0 KiB for computing block rdd_1110_77 in memory.\n",
      "23/12/16 12:17:03 WARN MemoryStore: Not enough space to cache rdd_1110_77 in memory! (computed 384.0 B so far)\n",
      "23/12/16 12:17:03 WARN MemoryStore: Not enough space to cache rdd_1110_75 in memory! (computed 5.5 MiB so far)\n",
      "23/12/16 12:17:04 WARN MemoryStore: Not enough space to cache rdd_1110_76 in memory! (computed 12.6 MiB so far)\n",
      "23/12/16 12:17:04 WARN MemoryStore: Not enough space to cache rdd_1110_79 in memory! (computed 3.6 MiB so far)\n",
      "23/12/16 12:17:04 WARN MemoryStore: Not enough space to cache rdd_1110_78 in memory! (computed 12.6 MiB so far)\n",
      "23/12/16 12:17:04 WARN MemoryStore: Not enough space to cache rdd_1110_82 in memory! (computed 8.3 MiB so far)\n",
      "23/12/16 12:17:04 WARN MemoryStore: Not enough space to cache rdd_1110_84 in memory! (computed 8.3 MiB so far)\n",
      "23/12/16 12:17:04 WARN MemoryStore: Failed to reserve initial memory threshold of 1024.0 KiB for computing block rdd_1110_87 in memory.\n",
      "23/12/16 12:17:04 WARN MemoryStore: Not enough space to cache rdd_1110_87 in memory! (computed 384.0 B so far)\n",
      "23/12/16 12:17:04 WARN MemoryStore: Not enough space to cache rdd_1110_86 in memory! (computed 8.3 MiB so far)\n",
      "23/12/16 12:17:04 WARN MemoryStore: Not enough space to cache rdd_1110_90 in memory! (computed 8.3 MiB so far)\n",
      "23/12/16 12:17:04 WARN MemoryStore: Not enough space to cache rdd_1110_92 in memory! (computed 3.6 MiB so far)\n",
      "23/12/16 12:17:04 WARN MemoryStore: Failed to reserve initial memory threshold of 1024.0 KiB for computing block rdd_1110_94 in memory.\n",
      "23/12/16 12:17:04 WARN MemoryStore: Not enough space to cache rdd_1110_94 in memory! (computed 384.0 B so far)\n",
      "23/12/16 12:17:04 WARN MemoryStore: Not enough space to cache rdd_1110_91 in memory! (computed 12.6 MiB so far)\n",
      "23/12/16 12:17:04 WARN MemoryStore: Not enough space to cache rdd_1110_96 in memory! (computed 8.3 MiB so far)\n",
      "23/12/16 12:17:04 WARN MemoryStore: Not enough space to cache rdd_1110_97 in memory! (computed 5.5 MiB so far)\n",
      "23/12/16 12:17:04 WARN MemoryStore: Not enough space to cache rdd_1110_98 in memory! (computed 12.6 MiB so far)\n",
      "23/12/16 12:17:04 WARN MemoryStore: Not enough space to cache rdd_1110_99 in memory! (computed 12.6 MiB so far)\n",
      "23/12/16 12:17:05 WARN MemoryStore: Not enough space to cache rdd_1110_1 in memory! (computed 2.4 MiB so far)\n",
      "23/12/16 12:17:05 WARN MemoryStore: Not enough space to cache rdd_1110_3 in memory! (computed 5.5 MiB so far)\n",
      "23/12/16 12:17:05 WARN MemoryStore: Not enough space to cache rdd_1110_2 in memory! (computed 2.4 MiB so far)\n",
      "23/12/16 12:17:05 WARN MemoryStore: Not enough space to cache rdd_1110_0 in memory! (computed 5.5 MiB so far)\n",
      "23/12/16 12:17:05 WARN MemoryStore: Not enough space to cache rdd_1110_4 in memory! (computed 8.3 MiB so far)\n",
      "23/12/16 12:17:05 WARN MemoryStore: Not enough space to cache rdd_1110_5 in memory! (computed 8.3 MiB so far)\n",
      "23/12/16 12:17:05 WARN MemoryStore: Not enough space to cache rdd_1110_6 in memory! (computed 8.3 MiB so far)\n",
      "23/12/16 12:17:05 WARN MemoryStore: Not enough space to cache rdd_1110_7 in memory! (computed 12.6 MiB so far)\n",
      "23/12/16 12:17:05 WARN MemoryStore: Not enough space to cache rdd_1110_8 in memory! (computed 12.6 MiB so far)\n",
      "23/12/16 12:17:05 WARN MemoryStore: Failed to reserve initial memory threshold of 1024.0 KiB for computing block rdd_1110_11 in memory.\n",
      "23/12/16 12:17:05 WARN MemoryStore: Not enough space to cache rdd_1110_11 in memory! (computed 384.0 B so far)\n",
      "23/12/16 12:17:05 WARN MemoryStore: Not enough space to cache rdd_1110_9 in memory! (computed 2.4 MiB so far)\n",
      "23/12/16 12:17:05 WARN MemoryStore: Not enough space to cache rdd_1110_10 in memory! (computed 12.6 MiB so far)\n",
      "23/12/16 12:17:05 WARN MemoryStore: Not enough space to cache rdd_1110_12 in memory! (computed 12.6 MiB so far)\n",
      "23/12/16 12:17:05 WARN MemoryStore: Not enough space to cache rdd_1110_15 in memory! (computed 1065.0 KiB so far)\n",
      "23/12/16 12:17:05 WARN MemoryStore: Not enough space to cache rdd_1110_13 in memory! (computed 1614.5 KiB so far)\n",
      "23/12/16 12:17:05 WARN MemoryStore: Not enough space to cache rdd_1110_14 in memory! (computed 12.6 MiB so far)\n",
      "23/12/16 12:17:05 WARN MemoryStore: Not enough space to cache rdd_1110_16 in memory! (computed 5.5 MiB so far)\n",
      "23/12/16 12:17:05 WARN MemoryStore: Not enough space to cache rdd_1110_18 in memory! (computed 2.4 MiB so far)\n",
      "23/12/16 12:17:05 WARN MemoryStore: Not enough space to cache rdd_1110_19 in memory! (computed 3.6 MiB so far)\n",
      "23/12/16 12:17:05 WARN MemoryStore: Not enough space to cache rdd_1110_17 in memory! (computed 12.6 MiB so far)\n",
      "23/12/16 12:17:05 WARN MemoryStore: Failed to reserve initial memory threshold of 1024.0 KiB for computing block rdd_1110_22 in memory.\n",
      "23/12/16 12:17:05 WARN MemoryStore: Not enough space to cache rdd_1110_22 in memory! (computed 384.0 B so far)\n",
      "23/12/16 12:17:05 WARN MemoryStore: Not enough space to cache rdd_1110_20 in memory! (computed 8.3 MiB so far)\n",
      "23/12/16 12:17:05 WARN MemoryStore: Failed to reserve initial memory threshold of 1024.0 KiB for computing block rdd_1110_23 in memory.\n",
      "23/12/16 12:17:05 WARN MemoryStore: Not enough space to cache rdd_1110_23 in memory! (computed 384.0 B so far)\n",
      "23/12/16 12:17:05 WARN MemoryStore: Not enough space to cache rdd_1110_21 in memory! (computed 12.6 MiB so far)\n",
      "23/12/16 12:17:06 WARN MemoryStore: Not enough space to cache rdd_1110_24 in memory! (computed 5.5 MiB so far)\n",
      "23/12/16 12:17:06 WARN MemoryStore: Not enough space to cache rdd_1110_26 in memory! (computed 5.5 MiB so far)\n",
      "23/12/16 12:17:06 WARN MemoryStore: Not enough space to cache rdd_1110_27 in memory! (computed 2.4 MiB so far)\n",
      "23/12/16 12:17:06 WARN MemoryStore: Not enough space to cache rdd_1110_25 in memory! (computed 12.6 MiB so far)\n",
      "23/12/16 12:17:06 WARN MemoryStore: Not enough space to cache rdd_1110_28 in memory! (computed 8.3 MiB so far)\n",
      "23/12/16 12:17:06 WARN MemoryStore: Not enough space to cache rdd_1110_30 in memory! (computed 5.5 MiB so far)\n",
      "23/12/16 12:17:06 WARN MemoryStore: Not enough space to cache rdd_1110_29 in memory! (computed 5.5 MiB so far)\n",
      "23/12/16 12:17:06 WARN MemoryStore: Not enough space to cache rdd_1110_31 in memory! (computed 12.6 MiB so far)\n",
      "23/12/16 12:17:06 WARN MemoryStore: Not enough space to cache rdd_1110_32 in memory! (computed 8.3 MiB so far)\n",
      "23/12/16 12:17:06 WARN MemoryStore: Not enough space to cache rdd_1110_35 in memory! (computed 1614.5 KiB so far)\n",
      "23/12/16 12:17:06 WARN MemoryStore: Not enough space to cache rdd_1110_33 in memory! (computed 12.6 MiB so far)\n",
      "23/12/16 12:17:06 WARN MemoryStore: Not enough space to cache rdd_1110_34 in memory! (computed 3.6 MiB so far)\n",
      "23/12/16 12:17:06 WARN MemoryStore: Not enough space to cache rdd_1110_36 in memory! (computed 12.6 MiB so far)\n",
      "23/12/16 12:17:06 WARN MemoryStore: Not enough space to cache rdd_1110_37 in memory! (computed 3.6 MiB so far)\n",
      "23/12/16 12:17:06 WARN MemoryStore: Not enough space to cache rdd_1110_38 in memory! (computed 12.6 MiB so far)\n",
      "23/12/16 12:17:06 WARN MemoryStore: Not enough space to cache rdd_1110_40 in memory! (computed 1614.5 KiB so far)\n",
      "23/12/16 12:17:06 WARN MemoryStore: Not enough space to cache rdd_1110_41 in memory! (computed 1065.0 KiB so far)\n",
      "23/12/16 12:17:06 WARN MemoryStore: Not enough space to cache rdd_1110_39 in memory! (computed 1614.5 KiB so far)\n",
      "23/12/16 12:17:06 WARN MemoryStore: Not enough space to cache rdd_1110_45 in memory! (computed 1614.5 KiB so far)\n",
      "23/12/16 12:17:06 WARN MemoryStore: Not enough space to cache rdd_1110_43 in memory! (computed 5.5 MiB so far)\n",
      "23/12/16 12:17:06 WARN MemoryStore: Not enough space to cache rdd_1110_42 in memory! (computed 12.6 MiB so far)\n",
      "23/12/16 12:17:06 WARN MemoryStore: Not enough space to cache rdd_1110_44 in memory! (computed 3.6 MiB so far)\n",
      "23/12/16 12:17:06 WARN MemoryStore: Not enough space to cache rdd_1110_49 in memory! (computed 5.5 MiB so far)\n",
      "23/12/16 12:17:06 WARN MemoryStore: Not enough space to cache rdd_1110_48 in memory! (computed 2.4 MiB so far)\n",
      "23/12/16 12:17:06 WARN MemoryStore: Not enough space to cache rdd_1110_47 in memory! (computed 8.3 MiB so far)\n",
      "23/12/16 12:17:06 WARN MemoryStore: Not enough space to cache rdd_1110_50 in memory! (computed 12.6 MiB so far)\n",
      "23/12/16 12:17:07 WARN MemoryStore: Not enough space to cache rdd_1110_52 in memory! (computed 5.5 MiB so far)\n",
      "23/12/16 12:17:07 WARN MemoryStore: Not enough space to cache rdd_1110_53 in memory! (computed 5.5 MiB so far)\n",
      "23/12/16 12:17:07 WARN MemoryStore: Not enough space to cache rdd_1110_54 in memory! (computed 12.6 MiB so far)\n",
      "23/12/16 12:17:07 WARN MemoryStore: Not enough space to cache rdd_1110_55 in memory! (computed 12.6 MiB so far)\n",
      "23/12/16 12:17:07 WARN MemoryStore: Not enough space to cache rdd_1110_57 in memory! (computed 12.6 MiB so far)\n",
      "23/12/16 12:17:07 WARN MemoryStore: Not enough space to cache rdd_1110_61 in memory! (computed 3.6 MiB so far)\n",
      "23/12/16 12:17:07 WARN MemoryStore: Not enough space to cache rdd_1110_59 in memory! (computed 8.3 MiB so far)\n",
      "23/12/16 12:17:07 WARN MemoryStore: Not enough space to cache rdd_1110_60 in memory! (computed 8.3 MiB so far)\n",
      "23/12/16 12:17:07 WARN MemoryStore: Not enough space to cache rdd_1110_64 in memory! (computed 5.5 MiB so far)\n",
      "23/12/16 12:17:07 WARN MemoryStore: Not enough space to cache rdd_1110_65 in memory! (computed 8.3 MiB so far)\n",
      "23/12/16 12:17:07 WARN MemoryStore: Not enough space to cache rdd_1110_66 in memory! (computed 3.6 MiB so far)\n",
      "23/12/16 12:17:07 WARN MemoryStore: Not enough space to cache rdd_1110_67 in memory! (computed 3.6 MiB so far)\n",
      "23/12/16 12:17:07 WARN MemoryStore: Not enough space to cache rdd_1110_68 in memory! (computed 8.3 MiB so far)\n",
      "23/12/16 12:17:07 WARN MemoryStore: Not enough space to cache rdd_1110_69 in memory! (computed 12.6 MiB so far)\n",
      "23/12/16 12:17:07 WARN MemoryStore: Not enough space to cache rdd_1110_71 in memory! (computed 12.6 MiB so far)\n",
      "23/12/16 12:17:07 WARN MemoryStore: Not enough space to cache rdd_1110_75 in memory! (computed 2.4 MiB so far)\n",
      "23/12/16 12:17:07 WARN MemoryStore: Not enough space to cache rdd_1110_74 in memory! (computed 5.5 MiB so far)\n",
      "23/12/16 12:17:07 WARN MemoryStore: Not enough space to cache rdd_1110_72 in memory! (computed 8.3 MiB so far)\n",
      "23/12/16 12:17:07 WARN MemoryStore: Not enough space to cache rdd_1110_76 in memory! (computed 12.6 MiB so far)\n",
      "23/12/16 12:17:07 WARN MemoryStore: Not enough space to cache rdd_1110_79 in memory! (computed 1614.5 KiB so far)\n",
      "23/12/16 12:17:07 WARN MemoryStore: Not enough space to cache rdd_1110_78 in memory! (computed 8.3 MiB so far)\n",
      "23/12/16 12:17:07 WARN MemoryStore: Not enough space to cache rdd_1110_77 in memory! (computed 8.3 MiB so far)\n",
      "23/12/16 12:17:07 WARN MemoryStore: Not enough space to cache rdd_1110_82 in memory! (computed 12.6 MiB so far)\n",
      "23/12/16 12:17:07 WARN MemoryStore: Not enough space to cache rdd_1110_86 in memory! (computed 5.5 MiB so far)\n",
      "23/12/16 12:17:07 WARN MemoryStore: Not enough space to cache rdd_1110_84 in memory! (computed 8.3 MiB so far)\n",
      "23/12/16 12:17:07 WARN MemoryStore: Not enough space to cache rdd_1110_87 in memory! (computed 8.3 MiB so far)\n",
      "23/12/16 12:17:08 WARN MemoryStore: Not enough space to cache rdd_1110_91 in memory! (computed 3.6 MiB so far)\n",
      "23/12/16 12:17:08 WARN MemoryStore: Not enough space to cache rdd_1110_90 in memory! (computed 8.3 MiB so far)\n",
      "23/12/16 12:17:08 WARN MemoryStore: Not enough space to cache rdd_1110_92 in memory! (computed 12.6 MiB so far)\n",
      "23/12/16 12:17:08 WARN MemoryStore: Not enough space to cache rdd_1110_94 in memory! (computed 12.6 MiB so far)\n",
      "23/12/16 12:17:08 WARN MemoryStore: Not enough space to cache rdd_1110_97 in memory! (computed 5.5 MiB so far)\n",
      "23/12/16 12:17:08 WARN MemoryStore: Not enough space to cache rdd_1110_96 in memory! (computed 8.3 MiB so far)\n",
      "23/12/16 12:17:08 WARN MemoryStore: Not enough space to cache rdd_1110_98 in memory! (computed 8.3 MiB so far)\n",
      "23/12/16 12:17:08 WARN MemoryStore: Failed to reserve initial memory threshold of 1024.0 KiB for computing block rdd_1110_99 in memory.\n",
      "23/12/16 12:17:08 WARN MemoryStore: Not enough space to cache rdd_1110_99 in memory! (computed 384.0 B so far)\n",
      "[Stage 627:==============>                                          (1 + 3) / 4]\r"
     ]
    }
   ],
   "source": [
    "#Classification with random forests\n",
    "from pyspark.ml.classification import RandomForestClassifier\n",
    "\n",
    "rf = RandomForestClassifier(labelCol=\"label\", featuresCol=\"features\", numTrees=10)\n",
    "rfModel = rf.fit(sfcrime_train)\n",
    "\n",
    "results_rf = rfModel.transform(sfcrime_test)"
   ]
  },
  {
   "cell_type": "code",
   "execution_count": 158,
   "id": "f66dfa0b",
   "metadata": {},
   "outputs": [
    {
     "name": "stderr",
     "output_type": "stream",
     "text": [
      "[Stage 847:>                                                        (0 + 4) / 4]\r"
     ]
    },
    {
     "name": "stdout",
     "output_type": "stream",
     "text": [
      "+-----+----------+\n",
      "|label|prediction|\n",
      "+-----+----------+\n",
      "|  0.0|       0.0|\n",
      "|  0.0|       0.0|\n",
      "|  0.0|       0.0|\n",
      "|  0.0|       0.0|\n",
      "| 12.0|       0.0|\n",
      "| 12.0|       0.0|\n",
      "|  0.0|       0.0|\n",
      "|  0.0|       0.0|\n",
      "|  0.0|       0.0|\n",
      "|  0.0|       0.0|\n",
      "|  0.0|       0.0|\n",
      "|  0.0|       0.0|\n",
      "|  0.0|       0.0|\n",
      "|  0.0|       0.0|\n",
      "|  0.0|       0.0|\n",
      "|  0.0|       0.0|\n",
      "|  0.0|       0.0|\n",
      "|  0.0|       0.0|\n",
      "|  0.0|       0.0|\n",
      "|  0.0|       0.0|\n",
      "+-----+----------+\n",
      "only showing top 20 rows\n",
      "\n"
     ]
    }
   ],
   "source": [
    "results_rf.select('label','prediction').show()"
   ]
  },
  {
   "cell_type": "code",
   "execution_count": 159,
   "id": "8ee44bee",
   "metadata": {},
   "outputs": [
    {
     "name": "stderr",
     "output_type": "stream",
     "text": [
      "[Stage 156:>                                                        (0 + 4) / 4]\r"
     ]
    },
    {
     "name": "stdout",
     "output_type": "stream",
     "text": [
      "Accuracy = 0.690031\n"
     ]
    },
    {
     "name": "stderr",
     "output_type": "stream",
     "text": [
      "[Stage 156:==============>                                          (1 + 3) / 4]\r"
     ]
    },
    {
     "name": "stderr",
     "output_type": "stream",
     "text": [
      "                                                                                \r"
     ]
    },
    {
     "name": "stderr",
     "output_type": "stream",
     "text": [
      "                                                                                \r"
     ]
    },
    {
     "name": "stderr",
     "output_type": "stream",
     "text": [
      "[Stage 634:==========================================>              (3 + 1) / 4]\r"
     ]
    },
    {
     "name": "stdout",
     "output_type": "stream",
     "text": [
      "Accuracy = 0.709619\n"
     ]
    },
    {
     "name": "stderr",
     "output_type": "stream",
     "text": [
      "                                                                                \r"
     ]
    },
    {
     "name": "stderr",
     "output_type": "stream",
     "text": [
      "[Stage 851:============================>                            (2 + 2) / 4]\r"
     ]
    },
    {
     "name": "stdout",
     "output_type": "stream",
     "text": [
      "Accuracy of model Random Forest = 0.709619\n"
     ]
    },
    {
     "name": "stderr",
     "output_type": "stream",
     "text": [
      "                                                                                \r"
     ]
    },
    {
     "name": "stdout",
     "output_type": "stream",
     "text": [
      "LogLoss of model Random Forest = 1.72799\n"
     ]
    }
   ],
   "source": [
    "evaluation(results_rf, 'Random Forest')"
   ]
  },
  {
   "cell_type": "markdown",
   "id": "6150769f",
   "metadata": {},
   "source": [
    "# PCA"
   ]
  },
  {
   "cell_type": "code",
   "execution_count": 166,
   "id": "3ceca2ed",
   "metadata": {},
   "outputs": [
    {
     "name": "stderr",
     "output_type": "stream",
     "text": [
      "[Stage 892:==============>                                          (1 + 3) / 4]\r"
     ]
    }
   ],
   "source": [
    "from pyspark.ml.feature import PCA\n",
    "\n",
    "pca = PCA(k=2, inputCol=\"features\")\n",
    "pca.setOutputCol(\"pca_features\")\n",
    "model = pca.fit(sfcrime_train)\n",
    "sfcrime_pca = model.transform(sfcrime_train)"
   ]
  },
  {
   "cell_type": "code",
   "execution_count": 168,
   "id": "4470745a",
   "metadata": {},
   "outputs": [
    {
     "name": "stderr",
     "output_type": "stream",
     "text": [
      "[Stage 920:==============>                                          (1 + 3) / 4]\r"
     ]
    },
    {
     "name": "stdout",
     "output_type": "stream",
     "text": [
      "+--------------------------------------------------------------------------------------------------------------------------------------------+-----+-----------------------------------------+\n",
      "|features                                                                                                                                    |label|PCA_11e7dc02e2b2__output                 |\n",
      "+--------------------------------------------------------------------------------------------------------------------------------------------+-----+-----------------------------------------+\n",
      "|(1095,[0,1,2,3,4,5,6,7,8,9,10,15,16],[12.0,2.0,2006.0,0.7419761448097848,0.7986039449479356,1.0,4.0,1.0,9.0,1.0,1.0,1.0,1.0])               |0.0  |[-2.9208581234361635,-1886.199532945468] |\n",
      "|(1095,[0,1,2,3,4,5,6,7,8,9,10,15,16],[18.0,3.0,2003.0,0.5948517320960011,0.3813210141062301,1.0,1.0,4.0,2.0,1.0,1.0,1.0,1.0])               |0.0  |[-8.931967683309821,-1883.0886009599067] |\n",
      "|(1095,[0,1,2,3,4,5,6,7,8,9,10,15,16],[22.0,1.0,2010.0,0.5389313867276087,0.4875329594892419,1.0,1.0,1.0,2.0,1.0,1.0,1.0,1.0])               |0.0  |[-12.936834117194719,-1890.358623776098] |\n",
      "|(1095,[0,1,2,3,4,5,6,7,8,9,10,75,76,81,87],[6.0,3.0,2007.0,0.5411013791262899,0.6556565759356903,1.0,2.0,2.0,9.0,1.0,1.0,1.0,1.0,1.0,1.0])  |12.0 |[3.1030327163408105,-1886.7882155848151] |\n",
      "|(1095,[0,1,2,3,4,5,6,7,8,9,10,75,76,81,87],[12.0,12.0,2005.0,0.5702469520490487,0.6136648098712153,1.0,2.0,3.0,9.0,1.0,1.0,1.0,1.0,1.0,1.0])|12.0 |[-2.8822919905734983,-1881.8804043733817]|\n",
      "|(1095,[0,1,2,3,4,5,6,7,8,9,10,75,76,81,87],[17.0,11.0,2013.0,0.7488230822143136,0.1496332311698333,1.0,3.0,5.0,2.0,1.0,1.0,1.0,1.0,1.0,1.0])|12.0 |[-7.8670740887836885,-1889.7653695331976]|\n",
      "|(1095,[0,1,2,3,4,5,6,7,8,9,10,196,385,397],[20.0,2.0,2013.0,0.7084378227597966,0.681275755706357,1.0,5.0,5.0,1.0,1.0,1.0,1.0,1.0,1.0])      |12.0 |[-10.889869927350945,-1892.8183012876873]|\n",
      "|(1095,[0,1,2,3,4,5,6,7,8,9,11,12,13,14],[11.0,11.0,2013.0,0.7560366587068794,0.8133824690023947,1.0,4.0,3.0,1.0,1.0,1.0,1.0,1.0,1.0])       |0.0  |[-1.9152419488714256,-1889.7456656227253]|\n",
      "|(1095,[0,1,2,3,4,5,6,7,8,9,11,12,13,14],[17.0,10.0,2007.0,0.6637543181935982,0.736060063939951,1.0,4.0,4.0,1.0,1.0,1.0,1.0,1.0,1.0])        |0.0  |[-7.931160685634228,-1884.4664198141427] |\n",
      "|(1095,[0,1,2,3,4,5,6,7,8,9,11,12,17,47],[9.0,1.0,2010.0,0.41164736097586685,0.15913286351250516,1.0,6.0,1.0,1.0,1.0,1.0,1.0,1.0,1.0])       |0.0  |[0.03930497400219644,-1890.2866849532782]|\n",
      "|(1095,[0,1,2,3,4,5,6,7,8,9,11,12,17,47],[10.0,6.0,2006.0,0.13931665779831942,0.6586049071484575,1.0,9.0,3.0,2.0,1.0,1.0,1.0,1.0,1.0])       |0.0  |[-0.9499945559618566,-1884.8209585106097]|\n",
      "|(1095,[0,1,2,3,4,5,6,7,8,9,11,12,17,47],[11.0,6.0,2003.0,0.25550393945761857,0.18420776635033614,1.0,7.0,1.0,1.0,1.0,1.0,1.0,1.0,1.0])      |0.0  |[-1.9878171437172258,-1882.0089209571013]|\n",
      "|(1095,[0,1,2,3,4,5,6,7,8,9,11,12,17,47],[11.0,7.0,2010.0,0.20561320350019563,0.11555063795014062,1.0,7.0,2.0,5.0,1.0,1.0,1.0,1.0,1.0])      |0.0  |[-1.9203143650009038,-1888.2546837005114]|\n",
      "|(1095,[0,1,2,3,4,5,6,7,8,9,11,12,17,47],[14.0,12.0,2011.0,0.7103182586845592,0.6964693395691427,1.0,5.0,4.0,1.0,1.0,1.0,1.0,1.0,1.0])       |0.0  |[-4.904754518478273,-1887.5303145458272] |\n",
      "|(1095,[0,1,2,3,4,5,6,7,8,9,11,12,17,47],[18.0,5.0,2006.0,0.09134152679919524,0.2789943237525959,1.0,7.0,1.0,7.0,1.0,1.0,1.0,1.0,1.0])       |0.0  |[-8.939582114125885,-1885.1938239901335] |\n",
      "|(1095,[0,1,2,3,4,5,6,7,8,9,11,12,17,47],[19.0,3.0,2005.0,0.5015052276180189,0.32470651673545226,1.0,6.0,4.0,1.0,1.0,1.0,1.0,1.0,1.0])       |0.0  |[-9.944717698623595,-1884.951456456098]  |\n",
      "|(1095,[0,1,2,3,4,5,6,7,8,9,11,12,17,47],[19.0,11.0,2007.0,0.2902880541737374,0.39016074047070237,1.0,7.0,1.0,5.0,1.0,1.0,1.0,1.0,1.0])      |0.0  |[-9.939001702670815,-1884.1047009045626] |\n",
      "|(1095,[0,1,2,3,4,5,6,7,8,9,11,12,48],[1.0,6.0,2010.0,0.36837491439321296,0.6458254952072799,1.0,9.0,4.0,10.0,1.0,1.0,1.0,1.0])              |0.0  |[8.123920543975833,-1888.5495770674063]  |\n",
      "|(1095,[0,1,2,3,4,5,6,7,8,9,11,12,48],[11.0,4.0,2003.0,0.6257332220563431,0.6954956006154669,1.0,2.0,6.0,1.0,1.0,1.0,1.0,1.0])               |0.0  |[-1.9223959819234597,-1882.7303930506393]|\n",
      "|(1095,[0,1,2,3,4,5,6,7,8,9,11,12,48],[15.0,9.0,2008.0,0.6784142857784378,0.6888448319500639,1.0,5.0,5.0,1.0,1.0,1.0,1.0,1.0])               |0.0  |[-5.911246026147955,-1885.7335874737043] |\n",
      "+--------------------------------------------------------------------------------------------------------------------------------------------+-----+-----------------------------------------+\n",
      "only showing top 20 rows\n",
      "\n"
     ]
    },
    {
     "name": "stderr",
     "output_type": "stream",
     "text": [
      "                                                                                \r"
     ]
    }
   ],
   "source": [
    "sfcrime_pca.show(truncate=False)"
   ]
  },
  {
   "cell_type": "code",
   "execution_count": null,
   "id": "e9d9a22b",
   "metadata": {},
   "outputs": [],
   "source": [
    "#TODO: provare a ripetere classification con PCA nei modelli che non funzionano benissimo per vedere performances ?"
   ]
  }
 ],
 "metadata": {
  "kernelspec": {
   "display_name": "Python 3 (ipykernel)",
   "language": "python",
   "name": "python3"
  },
  "language_info": {
   "codemirror_mode": {
    "name": "ipython",
    "version": 3
   },
   "file_extension": ".py",
   "mimetype": "text/x-python",
   "name": "python",
   "nbconvert_exporter": "python",
   "pygments_lexer": "ipython3",
   "version": "3.8.10"
  }
 },
 "nbformat": 4,
 "nbformat_minor": 5
}
