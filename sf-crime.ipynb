{
 "cells": [
  {
   "cell_type": "code",
   "execution_count": 1,
   "id": "d8d97121-2201-4e26-a4e5-ce809b94dfe6",
   "metadata": {},
   "outputs": [
    {
     "name": "stderr",
     "output_type": "stream",
     "text": [
      "                                                                                \r"
     ]
    }
   ],
   "source": [
    "sfcrime = spark.read.format(\"csv\")\\\n",
    ".option(\"sep\", \",\")\\\n",
    ".option(\"header\", \"True\")\\\n",
    ".option(\"inferSchema\", \"True\")\\\n",
    ".option(\"path\",\"bigdata/dataset/train.csv\").load()"
   ]
  },
  {
   "cell_type": "code",
   "execution_count": 2,
   "metadata": {},
   "outputs": [
    {
     "name": "stdout",
     "output_type": "stream",
     "text": [
      "root\n",
      " |-- Dates: timestamp (nullable = true)\n",
      " |-- Category: string (nullable = true)\n",
      " |-- Descript: string (nullable = true)\n",
      " |-- DayOfWeek: string (nullable = true)\n",
      " |-- PdDistrict: string (nullable = true)\n",
      " |-- Resolution: string (nullable = true)\n",
      " |-- Address: string (nullable = true)\n",
      " |-- X: double (nullable = true)\n",
      " |-- Y: double (nullable = true)\n",
      "\n"
     ]
    }
   ],
   "source": [
    "sfcrime.printSchema()"
   ]
  },
  {
   "cell_type": "code",
   "execution_count": 3,
   "metadata": {},
   "outputs": [
    {
     "name": "stdout",
     "output_type": "stream",
     "text": [
      "+-------------------+--------------+--------------------+---------+----------+--------------+--------------------+-------------------+------------------+\n",
      "|              Dates|      Category|            Descript|DayOfWeek|PdDistrict|    Resolution|             Address|                  X|                 Y|\n",
      "+-------------------+--------------+--------------------+---------+----------+--------------+--------------------+-------------------+------------------+\n",
      "|2015-05-13 23:53:00|      WARRANTS|      WARRANT ARREST|Wednesday|  NORTHERN|ARREST, BOOKED|  OAK ST / LAGUNA ST|  -122.425891675136|  37.7745985956747|\n",
      "|2015-05-13 23:53:00|OTHER OFFENSES|TRAFFIC VIOLATION...|Wednesday|  NORTHERN|ARREST, BOOKED|  OAK ST / LAGUNA ST|  -122.425891675136|  37.7745985956747|\n",
      "|2015-05-13 23:33:00|OTHER OFFENSES|TRAFFIC VIOLATION...|Wednesday|  NORTHERN|ARREST, BOOKED|VANNESS AV / GREE...|   -122.42436302145|  37.8004143219856|\n",
      "|2015-05-13 23:30:00| LARCENY/THEFT|GRAND THEFT FROM ...|Wednesday|  NORTHERN|          NONE|1500 Block of LOM...|-122.42699532676599| 37.80087263276921|\n",
      "|2015-05-13 23:30:00| LARCENY/THEFT|GRAND THEFT FROM ...|Wednesday|      PARK|          NONE|100 Block of BROD...|  -122.438737622757|37.771541172057795|\n",
      "+-------------------+--------------+--------------------+---------+----------+--------------+--------------------+-------------------+------------------+\n",
      "only showing top 5 rows\n",
      "\n"
     ]
    }
   ],
   "source": [
    "# visualizzazione dei dati\n",
    "sfcrime.show(5)"
   ]
  },
  {
   "cell_type": "markdown",
   "metadata": {},
   "source": [
    "### Preprocessing"
   ]
  },
  {
   "cell_type": "code",
   "execution_count": 4,
   "metadata": {},
   "outputs": [
    {
     "name": "stderr",
     "output_type": "stream",
     "text": [
      "[Stage 6:==============>                                            (1 + 3) / 4]\r"
     ]
    },
    {
     "name": "stdout",
     "output_type": "stream",
     "text": [
      "Numero di righe duplicate:  2323\n"
     ]
    },
    {
     "name": "stderr",
     "output_type": "stream",
     "text": [
      "                                                                                \r"
     ]
    }
   ],
   "source": [
    "# drop duplicate rows\n",
    "prev_count = sfcrime.count()\n",
    "sfcrime = sfcrime.dropDuplicates()\n",
    "print(\"Numero di righe duplicate: \", prev_count - sfcrime.count())"
   ]
  },
  {
   "cell_type": "code",
   "execution_count": null,
   "metadata": {},
   "outputs": [],
   "source": [
    "# Outliers : https://www.kaggle.com/code/bananawolf/random-forest-knn-logistic-regression"
   ]
  },
  {
   "cell_type": "markdown",
   "metadata": {},
   "source": [
    "Dataset inspection"
   ]
  },
  {
   "cell_type": "code",
   "execution_count": 5,
   "metadata": {},
   "outputs": [
    {
     "name": "stderr",
     "output_type": "stream",
     "text": [
      "                                                                                \r"
     ]
    },
    {
     "data": {
      "image/png": "[encoded data removed]",
      "text/plain": [
       "<Figure size 1000x600 with 1 Axes>"
      ]
     },
     "metadata": {},
     "output_type": "display_data"
    }
   ],
   "source": [
    "# visualize piechart of districts distribution\n",
    "import pandas as pd\n",
    "import matplotlib.pyplot as plt\n",
    "import seaborn as sns\n",
    "import numpy as np\n",
    "from pyspark.sql.functions import col\n",
    "\n",
    "# convert spark dataframe to pandas dataframe\n",
    "\n",
    "sfcrime_pd = sfcrime.toPandas()\n",
    "sfcrime_pd.head()\n",
    "\n",
    "# plot the distribution of districts\n",
    "plt.figure(figsize=(10,6))\n",
    "sns.countplot(x='PdDistrict', data=sfcrime_pd)\n",
    "plt.show()\n",
    "\n"
   ]
  },
  {
   "cell_type": "code",
   "execution_count": 51,
   "metadata": {},
   "outputs": [],
   "source": [
    "from pyspark.sql.functions import *\n",
    "df = sfcrime \n",
    "df = df.withColumn('Year',year(\"Dates\"))\n",
    "df = df.withColumn('Month',month(\"Dates\"))\n",
    "df = df.withColumn('Day',dayofmonth(\"Dates\"))\n",
    "df = df.withColumn('Hour',hour(\"Dates\"))"
   ]
  },
  {
   "cell_type": "code",
   "execution_count": 8,
   "metadata": {},
   "outputs": [
    {
     "name": "stderr",
     "output_type": "stream",
     "text": [
      "[Stage 15:>                                                         (0 + 4) / 4]\r"
     ]
    },
    {
     "name": "stdout",
     "output_type": "stream",
     "text": [
      "+-------------------+-------------+--------------------+---------+----------+--------------+--------------------+-------------------+-----------------+----+-----+---+----+\n",
      "|              Dates|     Category|            Descript|DayOfWeek|PdDistrict|    Resolution|             Address|                  X|                Y|Year|Month|Day|Hour|\n",
      "+-------------------+-------------+--------------------+---------+----------+--------------+--------------------+-------------------+-----------------+----+-----+---+----+\n",
      "|2015-05-13 19:30:00|LARCENY/THEFT|GRAND THEFT FROM ...|Wednesday|  SOUTHERN|          NONE|500 Block of BRAN...|  -122.397615567933| 37.7773918242817|2015|    5| 13|  19|\n",
      "|2015-05-12 19:00:00|     BURGLARY|BURGLARY, HOT PRO...|  Tuesday|   TARAVAL|          NONE|2100 Block of 43R...|   -122.50180154774|37.74655644758779|2015|    5| 12|  19|\n",
      "|2015-05-11 19:45:00|      ASSAULT|             BATTERY|   Monday|   MISSION|          NONE|4000 Block of 18T...|-122.43444692866699| 37.7608670671665|2015|    5| 11|  19|\n",
      "|2015-05-11 17:44:00|  WEAPON LAWS|CARRYING A CONCEA...|   Monday|   MISSION|ARREST, BOOKED| NATOMA ST / 15TH ST|  -122.405467934272|  37.781924110513|2015|    5| 11|  17|\n",
      "|2015-05-11 15:50:00| NON-CRIMINAL|     COURTESY REPORT|   Monday|  SOUTHERN|          NONE|800 Block of BRYA...|-122.40340479147899|  37.775420706711|2015|    5| 11|  15|\n",
      "+-------------------+-------------+--------------------+---------+----------+--------------+--------------------+-------------------+-----------------+----+-----+---+----+\n",
      "only showing top 5 rows\n",
      "\n"
     ]
    },
    {
     "name": "stderr",
     "output_type": "stream",
     "text": [
      "                                                                                \r"
     ]
    }
   ],
   "source": [
    "df.show(5)"
   ]
  },
  {
   "cell_type": "code",
   "execution_count": 9,
   "metadata": {},
   "outputs": [
    {
     "name": "stderr",
     "output_type": "stream",
     "text": [
      "                                                                                \r"
     ]
    },
    {
     "data": {
      "image/png": "[encoded data removed]",
      "text/plain": [
       "<Figure size 1000x600 with 1 Axes>"
      ]
     },
     "metadata": {},
     "output_type": "display_data"
    }
   ],
   "source": [
    "# histogram for crime per hour\n",
    "plt.figure(figsize=(10,6))\n",
    "sns.countplot(x='Hour', data=df.toPandas(), order=df.toPandas()['Hour'].value_counts().index)\n",
    "plt.show()"
   ]
  },
  {
   "cell_type": "code",
   "execution_count": 11,
   "metadata": {},
   "outputs": [
    {
     "name": "stderr",
     "output_type": "stream",
     "text": [
      "                                                                                \r"
     ]
    },
    {
     "data": {
      "image/png": "[encoded data removed]",
      "text/plain": [
       "<Figure size 1000x600 with 1 Axes>"
      ]
     },
     "metadata": {},
     "output_type": "display_data"
    }
   ],
   "source": [
    "# histogram for crime per day of week\n",
    "plt.figure(figsize=(10,6))\n",
    "sns.countplot(x='DayOfWeek', data=df.toPandas(), order=df.toPandas()['DayOfWeek'].value_counts().index)\n",
    "plt.show()"
   ]
  },
  {
   "cell_type": "code",
   "execution_count": 36,
   "metadata": {},
   "outputs": [
    {
     "name": "stderr",
     "output_type": "stream",
     "text": [
      "                                                                                \r"
     ]
    },
    {
     "name": "stdout",
     "output_type": "stream",
     "text": [
      "+----+-----+\n",
      "|Year|count|\n",
      "+----+-----+\n",
      "|2003|73744|\n",
      "|2007|67841|\n",
      "|2015|27522|\n",
      "|2006|69713|\n",
      "|2013|75412|\n",
      "|2014|74563|\n",
      "|2004|73201|\n",
      "|2012|71558|\n",
      "|2009|68771|\n",
      "|2005|70596|\n",
      "|2010|66354|\n",
      "|2011|66475|\n",
      "|2008|69976|\n",
      "+----+-----+\n",
      "\n"
     ]
    },
    {
     "name": "stderr",
     "output_type": "stream",
     "text": [
      "23/12/05 16:13:20 WARN SparkStringUtils: Truncated the string representation of a plan since it was too large. This behavior can be adjusted by setting 'spark.sql.debug.maxToStringFields'.\n",
      "[Stage 72:===================>                                      (3 + 6) / 9]\r"
     ]
    },
    {
     "name": "stdout",
     "output_type": "stream",
     "text": [
      "+----+-----+-------+----------+-------+--------+------------------+---------------------------+-------------+-----------+------------+---------+---------------+----------------------+-----+--------+----------+-------------+-----------+---------+--------------+------------+--------------+-----------------------+------------+-----------------+-------+-------+---------------+---------------------+-------------------------+---------------+-------+--------------+----+--------+---------+-------------+--------+-----------+\n",
      "|Year|ARSON|ASSAULT|BAD CHECKS|BRIBERY|BURGLARY|DISORDERLY CONDUCT|DRIVING UNDER THE INFLUENCE|DRUG/NARCOTIC|DRUNKENNESS|EMBEZZLEMENT|EXTORTION|FAMILY OFFENSES|FORGERY/COUNTERFEITING|FRAUD|GAMBLING|KIDNAPPING|LARCENY/THEFT|LIQUOR LAWS|LOITERING|MISSING PERSON|NON-CRIMINAL|OTHER OFFENSES|PORNOGRAPHY/OBSCENE MAT|PROSTITUTION|RECOVERED VEHICLE|ROBBERY|RUNAWAY|SECONDARY CODES|SEX OFFENSES FORCIBLE|SEX OFFENSES NON FORCIBLE|STOLEN PROPERTY|SUICIDE|SUSPICIOUS OCC|TREA|TRESPASS|VANDALISM|VEHICLE THEFT|WARRANTS|WEAPON LAWS|\n",
      "+----+-----+-------+----------+-------+--------+------------------+---------------------------+-------------+-----------+------------+---------+---------------+----------------------+-----+--------+----------+-------------+-----------+---------+--------------+------------+--------------+-----------------------+------------+-----------------+-------+-------+---------------+---------------------+-------------------------+---------------+-------+--------------+----+--------+---------+-------------+--------+-----------+\n",
      "|2003|  154|   6553|        69|     12|    2999|               405|                        135|         4873|        333|         130|       14|             59|                  1136| 1612|      14|       163|        12965|        137|      100|          1842|        6548|         10595|                      1|         909|             NULL|   1615|    178|            609|                  360|                       14|            352|     49|          2102|NULL|     744|     3259|         7580|    4519|        605|\n",
      "|2007|  118|   6100|        29|     23|    2645|               323|                        164|         5212|        338|         135|       20|             36|                  1298| 1203|      19|       169|        12718|        201|      217|          1975|        6237|          9743|                      3|         947|              493|   1977|    125|            735|                  313|                       20|            238|     42|          2387|NULL|     589|     3682|         3246|    3480|        641|\n",
      "|2015|   69|   2324|         4|     15|    1084|                71|                         60|          751|        109|          19|        4|             11|                   127|  548|       6|        73|         7486|         35|        5|           795|        3404|          3622|                   NULL|          44|             NULL|    722|     25|            402|                  157|                        4|            161|      8|           956|   1|     213|     1298|         1406|    1189|        314|\n",
      "|2006|  102|   6362|        47|     19|    3536|               274|                        135|         4694|        356|         103|       18|             53|                  1211| 1348|      14|       159|        13769|        123|       48|          2132|        6584|          9350|                      3|         611|              557|   2087|    190|            733|                  303|                       16|            277|     45|          2403|NULL|     549|     3877|         3696|    3251|        678|\n",
      "|2013|  125|   6278|        12|     32|    3066|               211|                        217|         3319|        477|          73|       22|             35|                   459| 1344|       7|       283|        18077|        118|       23|          2237|       10462|          9392|                      1|         338|              357|   2080|    112|            979|                  369|                        9|            601|     29|          2826|   1|     562|     3453|         3140|    3550|        736|\n",
      "|2014|  115|   6252|        12|     26|    2990|               171|                        184|         2766|        301|          80|       12|             35|                   370| 1476|       3|       262|        18823|         81|       23|          2284|        9633|         10275|                   NULL|         187|             NULL|   1759|    108|            898|                  397|                       12|            516|     27|          2611|   1|     582|     3534|         3551|    3432|        774|\n",
      "|2004|  147|   6460|        42|     18|    3321|               417|                        110|         4865|        314|          98|       29|             52|                  1122| 1345|      15|       138|        12096|        187|      117|          1824|        6840|         10284|                      3|         717|             NULL|   1742|    205|            647|                  310|                       14|            310|     50|          2262|NULL|     564|     3173|         8757|    3972|        634|\n",
      "|2012|  122|   6195|        24|     28|    3111|               358|                        207|         3405|        315|          81|       18|             39|                   499| 1308|      10|       153|        15582|        111|       71|          2208|        8564|          9612|                      1|         388|              353|   2003|    177|            954|                  411|                       12|            479|     41|          2979|   1|     678|     3958|         3109|    3233|        760|\n",
      "|2009|  119|   5965|        26|     20|    2615|               492|                        286|         5945|        409|          93|       33|             39|                  1118| 1261|      18|       233|        12467|        189|       66|          1873|        6162|         12029|                   NULL|         693|              311|   1775|    165|            901|                  331|                        7|            320|     46|          2211|NULL|     597|     3767|         2599|    2890|        700|\n",
      "|2005|  106|   5771|        55|     18|    3451|               351|                         98|         4374|        335|          91|       15|             35|                  1081| 1202|      10|       133|        12366|        153|      137|          1876|        6922|          8837|                      4|         527|             NULL|   1790|    194|            517|                  309|                        9|            264|     40|          2338|NULL|     533|     3463|         9105|    3408|        678|\n",
      "|2010|  104|   6119|        19|     30|    2482|               429|                        233|         4481|        328|          75|       25|             39|                   559| 1324|       6|       176|        12171|        176|      112|          2240|        6908|         10445|                      3|         701|              287|   1612|    134|            942|                  391|                       16|            332|     33|          2954|   2|     586|     3988|         2186|    3064|        642|\n",
      "|2011|   98|   6113|        30|     27|    2509|               398|                        233|         3371|        317|          84|       21|             26|                   415| 1371|      14|       220|        13042|        131|       73|          2365|        7656|          9931|                      2|         603|              338|   1699|    160|            901|                  392|                       10|            414|     47|          3048|NULL|     564|     3561|         2359|    3256|        676|\n",
      "|2008|  133|   6323|        37|     21|    2791|               413|                        206|         5863|        345|         102|       25|             29|                  1197| 1295|      10|       178|        12758|        257|      215|          2018|        5995|         11845|                      1|         781|              436|   2127|    121|            761|                  337|                        5|            273|     51|          2317|NULL|     557|     3568|         2972|    2901|        712|\n",
      "+----+-----+-------+----------+-------+--------+------------------+---------------------------+-------------+-----------+------------+---------+---------------+----------------------+-----+--------+----------+-------------+-----------+---------+--------------+------------+--------------+-----------------------+------------+-----------------+-------+-------+---------------+---------------------+-------------------------+---------------+-------+--------------+----+--------+---------+-------------+--------+-----------+\n",
      "\n"
     ]
    },
    {
     "name": "stderr",
     "output_type": "stream",
     "text": [
      "                                                                                \r"
     ]
    }
   ],
   "source": [
    "# quanti crimini in ogni anno?\n",
    "df.groupBy('Year').count().show()\n",
    "# tabella pivot\n",
    "df.groupBy('Year').pivot('Category').count().show()"
   ]
  },
  {
   "cell_type": "code",
   "execution_count": 45,
   "metadata": {},
   "outputs": [
    {
     "name": "stderr",
     "output_type": "stream",
     "text": [
      "[Stage 175:==========================================>              (3 + 1) / 4]\r"
     ]
    },
    {
     "name": "stdout",
     "output_type": "stream",
     "text": [
      "+--------------------+-----+\n",
      "|             Address|count|\n",
      "+--------------------+-----+\n",
      "|800 Block of BRYA...|26245|\n",
      "|800 Block of MARK...| 6576|\n",
      "|2000 Block of MIS...| 5094|\n",
      "|1000 Block of POT...| 4046|\n",
      "|900 Block of MARK...| 3245|\n",
      "|  0 Block of TURK ST| 3224|\n",
      "|   0 Block of 6TH ST| 2882|\n",
      "|300 Block of ELLI...| 2701|\n",
      "|400 Block of ELLI...| 2584|\n",
      "|16TH ST / MISSION ST| 2501|\n",
      "|1000 Block of MAR...| 2487|\n",
      "|1100 Block of MAR...| 2315|\n",
      "|2000 Block of MAR...| 2166|\n",
      "|100 Block of OFAR...| 2135|\n",
      "|700 Block of MARK...| 2075|\n",
      "|3200 Block of 20T...| 2030|\n",
      "| 100 Block of 6TH ST| 1886|\n",
      "|500 Block of JOHN...| 1812|\n",
      "| TURK ST / TAYLOR ST| 1810|\n",
      "|200 Block of TURK ST| 1796|\n",
      "+--------------------+-----+\n",
      "only showing top 20 rows\n",
      "\n"
     ]
    },
    {
     "name": "stderr",
     "output_type": "stream",
     "text": [
      "                                                                                \r"
     ]
    }
   ],
   "source": [
    "#address\n",
    "df.groupBy('Address').count().sort('count', ascending = False).show()"
   ]
  },
  {
   "cell_type": "code",
   "execution_count": 47,
   "metadata": {},
   "outputs": [
    {
     "name": "stdout",
     "output_type": "stream",
     "text": [
      "+--------------------+-----+\n",
      "|            Category|count|\n",
      "+--------------------+-----+\n",
      "|       LARCENY/THEFT| 6089|\n",
      "|        NON-CRIMINAL| 5418|\n",
      "|      OTHER OFFENSES| 3010|\n",
      "|             ASSAULT| 1925|\n",
      "|            WARRANTS| 1713|\n",
      "|           VANDALISM| 1149|\n",
      "|      SUSPICIOUS OCC| 1148|\n",
      "|               FRAUD|  924|\n",
      "|       DRUG/NARCOTIC|  786|\n",
      "|      MISSING PERSON|  772|\n",
      "|FORGERY/COUNTERFE...|  606|\n",
      "|             ROBBERY|  589|\n",
      "|            BURGLARY|  382|\n",
      "|     SECONDARY CODES|  311|\n",
      "|SEX OFFENSES FORC...|  293|\n",
      "|         WEAPON LAWS|  156|\n",
      "|            TRESPASS|  150|\n",
      "|       VEHICLE THEFT|  128|\n",
      "|         DRUNKENNESS|  100|\n",
      "|          KIDNAPPING|   97|\n",
      "+--------------------+-----+\n",
      "only showing top 20 rows\n",
      "\n"
     ]
    }
   ],
   "source": [
    "#visualizzare tipologia di crimini nell'area in cui si sono registrati più crimini\n",
    "df1 = df.where(col('Address')=='800 Block of BRYANT ST')\n",
    "df1.groupBy('Category').count().sort('count', ascending=False).show()"
   ]
  },
  {
   "cell_type": "code",
   "execution_count": 49,
   "metadata": {},
   "outputs": [
    {
     "name": "stderr",
     "output_type": "stream",
     "text": [
      "[Stage 199:============================>                            (2 + 2) / 4]\r"
     ]
    },
    {
     "name": "stdout",
     "output_type": "stream",
     "text": [
      "+--------------------+------+\n",
      "|            Category| count|\n",
      "+--------------------+------+\n",
      "|       LARCENY/THEFT|174320|\n",
      "|      OTHER OFFENSES|125960|\n",
      "|        NON-CRIMINAL| 91915|\n",
      "|             ASSAULT| 76815|\n",
      "|       DRUG/NARCOTIC| 53919|\n",
      "|       VEHICLE THEFT| 53706|\n",
      "|           VANDALISM| 44581|\n",
      "|            WARRANTS| 42145|\n",
      "|            BURGLARY| 36600|\n",
      "|      SUSPICIOUS OCC| 31394|\n",
      "|      MISSING PERSON| 25669|\n",
      "|             ROBBERY| 22988|\n",
      "|               FRAUD| 16637|\n",
      "|FORGERY/COUNTERFE...| 10592|\n",
      "|     SECONDARY CODES|  9979|\n",
      "|         WEAPON LAWS|  8550|\n",
      "|        PROSTITUTION|  7446|\n",
      "|            TRESPASS|  7318|\n",
      "|     STOLEN PROPERTY|  4537|\n",
      "|SEX OFFENSES FORC...|  4380|\n",
      "+--------------------+------+\n",
      "only showing top 20 rows\n",
      "\n"
     ]
    },
    {
     "name": "stderr",
     "output_type": "stream",
     "text": [
      "                                                                                \r"
     ]
    }
   ],
   "source": [
    "#category distribution\n",
    "df.groupBy('Category').count().sort('count', ascending=False).show()"
   ]
  },
  {
   "cell_type": "code",
   "execution_count": 62,
   "metadata": {},
   "outputs": [
    {
     "ename": "TypeError",
     "evalue": "'Column' object is not callable",
     "output_type": "error",
     "traceback": [
      "\u001b[0;31m---------------------------------------------------------------------------\u001b[0m",
      "\u001b[0;31mTypeError\u001b[0m                                 Traceback (most recent call last)",
      "\u001b[1;32m/Users/liviadelgaudio/Desktop/BigData/prova_spark.ipynb Cella 17\u001b[0m line \u001b[0;36m2\n\u001b[1;32m      <a href='vscode-notebook-cell:/Users/liviadelgaudio/Desktop/BigData/prova_spark.ipynb#X23sZmlsZQ%3D%3D?line=0'>1</a>\u001b[0m \u001b[39m#Street number extraction\u001b[39;00m\n\u001b[0;32m----> <a href='vscode-notebook-cell:/Users/liviadelgaudio/Desktop/BigData/prova_spark.ipynb#X23sZmlsZQ%3D%3D?line=1'>2</a>\u001b[0m df \u001b[39m=\u001b[39m df\u001b[39m.\u001b[39mwithColumn(\u001b[39m'\u001b[39m\u001b[39mStreetNo\u001b[39m\u001b[39m'\u001b[39m, when(\u001b[39mtype\u001b[39m(df[\u001b[39m'\u001b[39;49m\u001b[39mAddress\u001b[39;49m\u001b[39m'\u001b[39;49m]\u001b[39m.\u001b[39;49msplit(\u001b[39m'\u001b[39;49m\u001b[39m \u001b[39;49m\u001b[39m'\u001b[39;49m)[\u001b[39m0\u001b[39m])\u001b[39m==\u001b[39mInteger, lit(\u001b[39m1\u001b[39m)\u001b[39m.\u001b[39motherwise(lit(\u001b[39m0\u001b[39m))))\n\u001b[1;32m      <a href='vscode-notebook-cell:/Users/liviadelgaudio/Desktop/BigData/prova_spark.ipynb#X23sZmlsZQ%3D%3D?line=2'>3</a>\u001b[0m df\u001b[39m.\u001b[39mshow()\n",
      "\u001b[0;31mTypeError\u001b[0m: 'Column' object is not callable"
     ]
    }
   ],
   "source": [
    "#Street number extraction\n",
    "df = df.withColumn('StreetNo', when(type(df['Address'].split(' ')[0])==Integer, lit(1).otherwise(lit(0))))\n",
    "df.show()"
   ]
  },
  {
   "cell_type": "code",
   "execution_count": 55,
   "metadata": {},
   "outputs": [
    {
     "name": "stderr",
     "output_type": "stream",
     "text": [
      "[Stage 211:==========================================>              (3 + 1) / 4]\r"
     ]
    },
    {
     "name": "stdout",
     "output_type": "stream",
     "text": [
      "+-------------------+---------------+--------------------+---------+----------+--------------+--------------------+-------------------+------------------+----+-----+---+----+-----+\n",
      "|              Dates|       Category|            Descript|DayOfWeek|PdDistrict|    Resolution|             Address|                  X|                 Y|Year|Month|Day|Hour|Block|\n",
      "+-------------------+---------------+--------------------+---------+----------+--------------+--------------------+-------------------+------------------+----+-----+---+----+-----+\n",
      "|2015-05-13 19:30:00|  LARCENY/THEFT|GRAND THEFT FROM ...|Wednesday|  SOUTHERN|          NONE|500 Block of BRAN...|  -122.397615567933|  37.7773918242817|2015|    5| 13|  19|    1|\n",
      "|2015-05-12 19:00:00|       BURGLARY|BURGLARY, HOT PRO...|  Tuesday|   TARAVAL|          NONE|2100 Block of 43R...|   -122.50180154774| 37.74655644758779|2015|    5| 12|  19|    1|\n",
      "|2015-05-11 19:45:00|        ASSAULT|             BATTERY|   Monday|   MISSION|          NONE|4000 Block of 18T...|-122.43444692866699|  37.7608670671665|2015|    5| 11|  19|    1|\n",
      "|2015-05-11 17:44:00|    WEAPON LAWS|CARRYING A CONCEA...|   Monday|   MISSION|ARREST, BOOKED| NATOMA ST / 15TH ST|  -122.405467934272|   37.781924110513|2015|    5| 11|  17|    0|\n",
      "|2015-05-11 15:50:00|   NON-CRIMINAL|     COURTESY REPORT|   Monday|  SOUTHERN|          NONE|800 Block of BRYA...|-122.40340479147899|   37.775420706711|2015|    5| 11|  15|    1|\n",
      "|2015-05-03 21:00:00|  LARCENY/THEFT|GRAND THEFT FROM ...|   Sunday|   TARAVAL|          NONE|800 Block of PACH...|  -122.469546792005|37.753565035114704|2015|    5|  3|  21|    1|\n",
      "|2015-05-02 16:05:00| OTHER OFFENSES|VIOLATION OF MUNI...| Saturday|  SOUTHERN|ARREST, BOOKED|2ND ST / TOWNSEND ST|  -122.390531404145|37.780607079847705|2015|    5|  2|  16|    0|\n",
      "|2015-05-02 11:40:00|  LARCENY/THEFT|ATTEMPTED THEFT F...| Saturday|  NORTHERN|          NONE|100 Block of CEDA...|  -122.420607225531|  37.7862064515088|2015|    5|  2|  11|    1|\n",
      "|2015-04-30 22:00:00|  VEHICLE THEFT|        STOLEN TRUCK| Thursday|   BAYVIEW|          NONE|1300 Block of UND...|-122.38723403675199|  37.7271017664689|2015|    4| 30|  22|    1|\n",
      "|2015-04-29 17:00:00| MISSING PERSON|        FOUND PERSON|Wednesday| INGLESIDE|          NONE|0 Block of CUVIER ST|  -122.428718296467|  37.7340304069152|2015|    4| 29|  17|    1|\n",
      "|2015-04-29 11:06:00|        ASSAULT|             BATTERY|Wednesday|  SOUTHERN|          NONE|400 Block of NATO...|  -122.407039055082|37.780756518359105|2015|    4| 29|  11|    1|\n",
      "|2015-04-29 09:05:00| OTHER OFFENSES|DRIVERS LICENSE, ...|Wednesday|   TARAVAL| ARREST, CITED|OCEAN AV / SANLEA...|-122.47011059238001|  37.7303066365695|2015|    4| 29|   9|    0|\n",
      "|2015-04-28 03:57:00|  LARCENY/THEFT|PETTY THEFT SHOPL...|  Tuesday|   MISSION|ARREST, BOOKED|3900 Block of 18T...|  -122.431710082584| 37.76114188133271|2015|    4| 28|   3|    1|\n",
      "|2015-04-27 01:00:00|      VANDALISM|MALICIOUS MISCHIE...|   Monday| INGLESIDE|          NONE|1000 Block of POR...|  -122.457829853431|   37.740722334873|2015|    4| 27|   1|    1|\n",
      "|2015-04-19 20:00:00|   NON-CRIMINAL|      FOUND PROPERTY|   Sunday|   CENTRAL|          NONE|POWELL ST / NORTH...|-122.41214331058599|  37.8067579023106|2015|    4| 19|  20|    0|\n",
      "|2015-04-19 17:49:00|STOLEN PROPERTY|STOLEN PROPERTY, ...|   Sunday|   TARAVAL|ARREST, BOOKED|300 Block of FAXO...|  -122.460152208945|37.720945420187896|2015|    4| 19|  17|    1|\n",
      "|2015-04-19 17:00:00|  LARCENY/THEFT|GRAND THEFT FROM ...|   Sunday|   CENTRAL|          NONE|2500 Block of POW...|  -122.412360253337|  37.8081755740357|2015|    4| 19|  17|    1|\n",
      "|2015-04-19 16:28:00|       WARRANTS|      WARRANT ARREST|   Sunday|TENDERLOIN|ARREST, BOOKED|LEAVENWORTH ST / ...|  -122.414056291891|  37.7827931071006|2015|    4| 19|  16|    0|\n",
      "|2015-04-19 16:25:00| OTHER OFFENSES|          CONSPIRACY|   Sunday| INGLESIDE|ARREST, BOOKED|700 Block of SAN ...|    -122.4232625139|  37.7427224817043|2015|    4| 19|  16|    1|\n",
      "|2015-04-19 11:05:00|       BURGLARY|BURGLARY OF APART...|   Sunday|  NORTHERN|          NONE|800 Block of OFAR...|  -122.418729600557|   37.785007503993|2015|    4| 19|  11|    1|\n",
      "+-------------------+---------------+--------------------+---------+----------+--------------+--------------------+-------------------+------------------+----+-----+---+----+-----+\n",
      "only showing top 20 rows\n",
      "\n"
     ]
    },
    {
     "name": "stderr",
     "output_type": "stream",
     "text": [
      "                                                                                \r"
     ]
    }
   ],
   "source": [
    "#Block feature extraction: 1 if block present, 0 otherwise\n",
    "df = df.withColumn('Block', when(df.Address.like(\"%Block%\") , lit(1)).otherwise(lit(0)))\n",
    "df.show()"
   ]
  }
 ],
 "metadata": {
  "kernelspec": {
   "display_name": "Python 3 (ipykernel)",
   "language": "python",
   "name": "python3"
  },
  "language_info": {
   "codemirror_mode": {
    "name": "ipython",
    "version": 3
   },
   "file_extension": ".py",
   "mimetype": "text/x-python",
   "name": "python",
   "nbconvert_exporter": "python",
   "pygments_lexer": "ipython3",
   "version": "3.8.10"
  }
 },
 "nbformat": 4,
 "nbformat_minor": 5
}
